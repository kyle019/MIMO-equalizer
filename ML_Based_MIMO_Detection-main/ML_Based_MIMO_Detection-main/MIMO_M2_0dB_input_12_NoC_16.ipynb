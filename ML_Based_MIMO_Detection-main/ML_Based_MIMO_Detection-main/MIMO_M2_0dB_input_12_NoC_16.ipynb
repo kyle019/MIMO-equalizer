{
 "cells": [
  {
   "cell_type": "code",
   "execution_count": 1,
   "id": "39878172",
   "metadata": {},
   "outputs": [],
   "source": [
    "import numpy as np\n",
    "import random\n",
    "import matplotlib.pyplot as plt\n",
    "import tensorflow as tf\n",
    "from sklearn.model_selection import train_test_split\n",
    "from sklearn.preprocessing import LabelEncoder\n",
    "\n",
    "random.seed(777)  # for reproducibility\n",
    "learning_rate = 0.001\n",
    "batch_size = 4000\n",
    "training_epochs = 100\n",
    "nb_classes = 16\n",
    "drop_rate = 0.3"
   ]
  },
  {
   "cell_type": "code",
   "execution_count": 2,
   "id": "6a28f0ed",
   "metadata": {
    "scrolled": false
   },
   "outputs": [
    {
     "name": "stdout",
     "output_type": "stream",
     "text": [
      "(1600000, 12) (1600000, 4)\n",
      "[ 3.448312    1.0927905  -1.7576907   3.976576    0.38018808  1.2967526\n",
      " -1.5972459   0.6096486   0.22540106 -0.9246753  -0.30659586  0.24227208]\n"
     ]
    }
   ],
   "source": [
    "xy = np.loadtxt('MIMO_2_0dB_NoC_16.csv', delimiter=',', dtype=np.float32)\n",
    "x_data = xy[:, 1:13]\n",
    "y_data = xy[:, -4:]\n",
    "\n",
    "print(x_data.shape, y_data.shape)\n",
    "print(x_data[0])"
   ]
  },
  {
   "cell_type": "code",
   "execution_count": 3,
   "id": "ee73316f",
   "metadata": {},
   "outputs": [
    {
     "name": "stdout",
     "output_type": "stream",
     "text": [
      "[[ 3]\n",
      " [ 3]\n",
      " [ 3]\n",
      " ...\n",
      " [12]\n",
      " [12]\n",
      " [12]]\n"
     ]
    }
   ],
   "source": [
    "# Convert y_data to y_bit\n",
    "i=1\n",
    "y_merge = []\n",
    "while i <= y_data.shape[0]:\n",
    "    temp = \"\".join(str(_) for _ in y_data[i-1,:])\n",
    "    y_merge.append(temp)\n",
    "    i = i + 1\n",
    "\n",
    "encoder = LabelEncoder()\n",
    "encoder.fit(y_merge)\n",
    "y_bit = encoder.transform(y_merge)\n",
    "y_bit = y_bit.reshape(-1, 1)\n",
    "print(y_bit)"
   ]
  },
  {
   "cell_type": "code",
   "execution_count": 4,
   "id": "633ea46e",
   "metadata": {},
   "outputs": [
    {
     "name": "stdout",
     "output_type": "stream",
     "text": [
      "one_hot: [[0. 0. 0. ... 0. 0. 0.]\n",
      " [0. 0. 0. ... 0. 0. 0.]\n",
      " [0. 0. 0. ... 0. 0. 0.]\n",
      " ...\n",
      " [0. 0. 0. ... 0. 0. 0.]\n",
      " [0. 0. 0. ... 0. 0. 0.]\n",
      " [0. 0. 0. ... 0. 0. 0.]]\n"
     ]
    }
   ],
   "source": [
    "# Convert y_data to one_hot\n",
    "y_one_hot = tf.keras.utils.to_categorical(y_bit, nb_classes)\n",
    "print(\"one_hot:\", y_one_hot)"
   ]
  },
  {
   "cell_type": "code",
   "execution_count": 5,
   "id": "d6f44f52",
   "metadata": {},
   "outputs": [],
   "source": [
    "tf.model = tf.keras.Sequential()\n",
    "# Glorot normal initializer, also called Xavier normal initializer.\n",
    "# see https://www.tensorflow.org/api_docs/python/tf/initializers"
   ]
  },
  {
   "cell_type": "code",
   "execution_count": 6,
   "id": "9e58a9ba",
   "metadata": {},
   "outputs": [
    {
     "name": "stdout",
     "output_type": "stream",
     "text": [
      "Model: \"sequential\"\n",
      "_________________________________________________________________\n",
      "Layer (type)                 Output Shape              Param #   \n",
      "=================================================================\n",
      "dense (Dense)                (None, 768)               9984      \n",
      "_________________________________________________________________\n",
      "dropout (Dropout)            (None, 768)               0         \n",
      "_________________________________________________________________\n",
      "dense_1 (Dense)              (None, 384)               295296    \n",
      "_________________________________________________________________\n",
      "dropout_1 (Dropout)          (None, 384)               0         \n",
      "_________________________________________________________________\n",
      "dense_2 (Dense)              (None, 192)               73920     \n",
      "_________________________________________________________________\n",
      "dropout_2 (Dropout)          (None, 192)               0         \n",
      "_________________________________________________________________\n",
      "dense_3 (Dense)              (None, 16)                3088      \n",
      "=================================================================\n",
      "Total params: 382,288\n",
      "Trainable params: 382,288\n",
      "Non-trainable params: 0\n",
      "_________________________________________________________________\n"
     ]
    }
   ],
   "source": [
    "tf.model.add(tf.keras.layers.Dense(input_dim=x_data.shape[1], units=768, kernel_regularizer=tf.keras.regularizers.l2(0.001), activation='relu'))\n",
    "tf.model.add(tf.keras.layers.Dropout(drop_rate))\n",
    "tf.model.add(tf.keras.layers.Dense(units=384, kernel_regularizer=tf.keras.regularizers.l2(0.001), activation='relu'))\n",
    "tf.model.add(tf.keras.layers.Dropout(drop_rate))\n",
    "tf.model.add(tf.keras.layers.Dense(units=192, kernel_regularizer=tf.keras.regularizers.l2(0.001), activation='relu'))\n",
    "tf.model.add(tf.keras.layers.Dropout(drop_rate))\n",
    "tf.model.add(tf.keras.layers.Dense(units=nb_classes, activation='softmax'))\n",
    "tf.model.compile(loss='categorical_crossentropy',\n",
    "                 optimizer=tf.keras.optimizers.Adam(learning_rate=learning_rate), metrics=['accuracy'])\n",
    "tf.model.summary()"
   ]
  },
  {
   "cell_type": "code",
   "execution_count": 7,
   "id": "c346ad84",
   "metadata": {
    "scrolled": true
   },
   "outputs": [
    {
     "name": "stdout",
     "output_type": "stream",
     "text": [
      "Epoch 1/100\n",
      "400/400 [==============================] - 3s 5ms/step - loss: 1.8092 - accuracy: 0.4491\n",
      "Epoch 2/100\n",
      "400/400 [==============================] - 2s 5ms/step - loss: 1.5007 - accuracy: 0.5077\n",
      "Epoch 3/100\n",
      "400/400 [==============================] - 2s 5ms/step - loss: 1.4709 - accuracy: 0.5141\n",
      "Epoch 4/100\n",
      "400/400 [==============================] - 2s 5ms/step - loss: 1.4560 - accuracy: 0.5167\n",
      "Epoch 5/100\n",
      "400/400 [==============================] - 2s 5ms/step - loss: 1.4434 - accuracy: 0.5193\n",
      "Epoch 6/100\n",
      "400/400 [==============================] - 2s 5ms/step - loss: 1.4365 - accuracy: 0.5206\n",
      "Epoch 7/100\n",
      "400/400 [==============================] - 2s 5ms/step - loss: 1.4304 - accuracy: 0.5209\n",
      "Epoch 8/100\n",
      "400/400 [==============================] - 2s 5ms/step - loss: 1.4255 - accuracy: 0.5223\n",
      "Epoch 9/100\n",
      "400/400 [==============================] - 2s 5ms/step - loss: 1.4217 - accuracy: 0.5228\n",
      "Epoch 10/100\n",
      "400/400 [==============================] - 2s 5ms/step - loss: 1.4174 - accuracy: 0.5235\n",
      "Epoch 11/100\n",
      "400/400 [==============================] - 2s 5ms/step - loss: 1.4141 - accuracy: 0.5239\n",
      "Epoch 12/100\n",
      "400/400 [==============================] - 2s 5ms/step - loss: 1.4118 - accuracy: 0.5244\n",
      "Epoch 13/100\n",
      "400/400 [==============================] - 2s 5ms/step - loss: 1.4085 - accuracy: 0.5254\n",
      "Epoch 14/100\n",
      "400/400 [==============================] - 2s 5ms/step - loss: 1.4064 - accuracy: 0.5257\n",
      "Epoch 15/100\n",
      "400/400 [==============================] - 2s 5ms/step - loss: 1.4042 - accuracy: 0.5261\n",
      "Epoch 16/100\n",
      "400/400 [==============================] - 2s 5ms/step - loss: 1.4012 - accuracy: 0.5270\n",
      "Epoch 17/100\n",
      "400/400 [==============================] - 2s 5ms/step - loss: 1.4005 - accuracy: 0.5274\n",
      "Epoch 18/100\n",
      "400/400 [==============================] - 2s 5ms/step - loss: 1.3970 - accuracy: 0.5282\n",
      "Epoch 19/100\n",
      "400/400 [==============================] - 2s 5ms/step - loss: 1.3961 - accuracy: 0.5282\n",
      "Epoch 20/100\n",
      "400/400 [==============================] - 2s 5ms/step - loss: 1.3948 - accuracy: 0.5286\n",
      "Epoch 21/100\n",
      "400/400 [==============================] - 2s 5ms/step - loss: 1.3920 - accuracy: 0.5296\n",
      "Epoch 22/100\n",
      "400/400 [==============================] - 2s 5ms/step - loss: 1.3914 - accuracy: 0.5296\n",
      "Epoch 23/100\n",
      "400/400 [==============================] - 2s 5ms/step - loss: 1.3904 - accuracy: 0.5299\n",
      "Epoch 24/100\n",
      "400/400 [==============================] - 2s 5ms/step - loss: 1.3894 - accuracy: 0.5300\n",
      "Epoch 25/100\n",
      "400/400 [==============================] - 2s 5ms/step - loss: 1.3877 - accuracy: 0.5304\n",
      "Epoch 26/100\n",
      "400/400 [==============================] - 2s 5ms/step - loss: 1.3866 - accuracy: 0.5302\n",
      "Epoch 27/100\n",
      "400/400 [==============================] - 2s 5ms/step - loss: 1.3852 - accuracy: 0.5314\n",
      "Epoch 28/100\n",
      "400/400 [==============================] - 2s 5ms/step - loss: 1.3860 - accuracy: 0.5305\n",
      "Epoch 29/100\n",
      "400/400 [==============================] - 2s 5ms/step - loss: 1.3849 - accuracy: 0.5302\n",
      "Epoch 30/100\n",
      "400/400 [==============================] - 2s 5ms/step - loss: 1.3831 - accuracy: 0.5314\n",
      "Epoch 31/100\n",
      "400/400 [==============================] - 2s 5ms/step - loss: 1.3826 - accuracy: 0.5310\n",
      "Epoch 32/100\n",
      "400/400 [==============================] - 2s 5ms/step - loss: 1.3822 - accuracy: 0.5312\n",
      "Epoch 33/100\n",
      "400/400 [==============================] - 2s 5ms/step - loss: 1.3815 - accuracy: 0.5316\n",
      "Epoch 34/100\n",
      "400/400 [==============================] - 2s 5ms/step - loss: 1.3803 - accuracy: 0.5312\n",
      "Epoch 35/100\n",
      "400/400 [==============================] - 2s 5ms/step - loss: 1.3806 - accuracy: 0.5315\n",
      "Epoch 36/100\n",
      "400/400 [==============================] - 2s 5ms/step - loss: 1.3791 - accuracy: 0.5320\n",
      "Epoch 37/100\n",
      "400/400 [==============================] - 2s 5ms/step - loss: 1.3781 - accuracy: 0.5321\n",
      "Epoch 38/100\n",
      "400/400 [==============================] - 2s 5ms/step - loss: 1.3784 - accuracy: 0.5320\n",
      "Epoch 39/100\n",
      "400/400 [==============================] - 2s 5ms/step - loss: 1.3770 - accuracy: 0.5315\n",
      "Epoch 40/100\n",
      "400/400 [==============================] - 2s 5ms/step - loss: 1.3782 - accuracy: 0.5314\n",
      "Epoch 41/100\n",
      "400/400 [==============================] - 2s 5ms/step - loss: 1.3771 - accuracy: 0.5317\n",
      "Epoch 42/100\n",
      "400/400 [==============================] - 2s 5ms/step - loss: 1.3774 - accuracy: 0.5318\n",
      "Epoch 43/100\n",
      "400/400 [==============================] - 2s 5ms/step - loss: 1.3756 - accuracy: 0.5324\n",
      "Epoch 44/100\n",
      "400/400 [==============================] - 2s 5ms/step - loss: 1.3756 - accuracy: 0.5318\n",
      "Epoch 45/100\n",
      "400/400 [==============================] - 2s 5ms/step - loss: 1.3751 - accuracy: 0.5319: 1s - loss: 1 - ETA: 0s - l\n",
      "Epoch 46/100\n",
      "400/400 [==============================] - 2s 5ms/step - loss: 1.3749 - accuracy: 0.5321: \n",
      "Epoch 47/100\n",
      "400/400 [==============================] - 2s 5ms/step - loss: 1.3746 - accuracy: 0.5319\n",
      "Epoch 48/100\n",
      "400/400 [==============================] - 2s 5ms/step - loss: 1.3752 - accuracy: 0.5322\n",
      "Epoch 49/100\n",
      "400/400 [==============================] - 2s 5ms/step - loss: 1.3736 - accuracy: 0.5324\n",
      "Epoch 50/100\n",
      "400/400 [==============================] - 2s 5ms/step - loss: 1.3737 - accuracy: 0.5326\n",
      "Epoch 51/100\n",
      "400/400 [==============================] - 2s 5ms/step - loss: 1.3738 - accuracy: 0.5321\n",
      "Epoch 52/100\n",
      "400/400 [==============================] - 2s 5ms/step - loss: 1.3742 - accuracy: 0.5319\n",
      "Epoch 53/100\n",
      "400/400 [==============================] - 2s 5ms/step - loss: 1.3728 - accuracy: 0.5322\n",
      "Epoch 54/100\n",
      "400/400 [==============================] - 2s 5ms/step - loss: 1.3733 - accuracy: 0.5317\n",
      "Epoch 55/100\n",
      "400/400 [==============================] - 2s 5ms/step - loss: 1.3726 - accuracy: 0.5324\n",
      "Epoch 56/100\n",
      "400/400 [==============================] - 2s 5ms/step - loss: 1.3727 - accuracy: 0.5320\n",
      "Epoch 57/100\n",
      "400/400 [==============================] - 2s 5ms/step - loss: 1.3724 - accuracy: 0.5322\n",
      "Epoch 58/100\n",
      "400/400 [==============================] - 2s 5ms/step - loss: 1.3719 - accuracy: 0.5323\n",
      "Epoch 59/100\n",
      "400/400 [==============================] - 2s 5ms/step - loss: 1.3721 - accuracy: 0.5321\n",
      "Epoch 60/100\n",
      "400/400 [==============================] - 2s 5ms/step - loss: 1.3711 - accuracy: 0.5319\n",
      "Epoch 61/100\n",
      "400/400 [==============================] - 2s 5ms/step - loss: 1.3710 - accuracy: 0.5322\n",
      "Epoch 62/100\n",
      "400/400 [==============================] - 2s 5ms/step - loss: 1.3717 - accuracy: 0.5322\n",
      "Epoch 63/100\n",
      "400/400 [==============================] - 2s 5ms/step - loss: 1.3710 - accuracy: 0.5324\n",
      "Epoch 64/100\n",
      "400/400 [==============================] - 2s 5ms/step - loss: 1.3716 - accuracy: 0.5317\n",
      "Epoch 65/100\n",
      "400/400 [==============================] - 2s 5ms/step - loss: 1.3713 - accuracy: 0.5322\n",
      "Epoch 66/100\n",
      "400/400 [==============================] - 2s 5ms/step - loss: 1.3704 - accuracy: 0.5324\n",
      "Epoch 67/100\n",
      "400/400 [==============================] - 2s 5ms/step - loss: 1.3699 - accuracy: 0.5327\n",
      "Epoch 68/100\n",
      "400/400 [==============================] - 2s 5ms/step - loss: 1.3714 - accuracy: 0.5319\n",
      "Epoch 69/100\n",
      "400/400 [==============================] - 2s 5ms/step - loss: 1.3705 - accuracy: 0.5322\n",
      "Epoch 70/100\n",
      "400/400 [==============================] - 2s 5ms/step - loss: 1.3712 - accuracy: 0.5319\n",
      "Epoch 71/100\n",
      "400/400 [==============================] - 2s 5ms/step - loss: 1.3712 - accuracy: 0.5319\n",
      "Epoch 72/100\n",
      "400/400 [==============================] - 2s 5ms/step - loss: 1.3702 - accuracy: 0.5322\n",
      "Epoch 73/100\n",
      "400/400 [==============================] - 2s 5ms/step - loss: 1.3699 - accuracy: 0.5322\n",
      "Epoch 74/100\n",
      "400/400 [==============================] - 2s 5ms/step - loss: 1.3702 - accuracy: 0.5319\n",
      "Epoch 75/100\n",
      "400/400 [==============================] - 2s 5ms/step - loss: 1.3697 - accuracy: 0.5317\n",
      "Epoch 76/100\n",
      "400/400 [==============================] - 2s 5ms/step - loss: 1.3695 - accuracy: 0.5324\n",
      "Epoch 77/100\n",
      "400/400 [==============================] - 2s 5ms/step - loss: 1.3696 - accuracy: 0.5323\n",
      "Epoch 78/100\n",
      "400/400 [==============================] - 2s 5ms/step - loss: 1.3691 - accuracy: 0.5323\n",
      "Epoch 79/100\n",
      "400/400 [==============================] - 2s 5ms/step - loss: 1.3692 - accuracy: 0.5322\n",
      "Epoch 80/100\n",
      "400/400 [==============================] - 2s 5ms/step - loss: 1.3692 - accuracy: 0.5319\n",
      "Epoch 81/100\n"
     ]
    },
    {
     "name": "stdout",
     "output_type": "stream",
     "text": [
      "400/400 [==============================] - 2s 5ms/step - loss: 1.3685 - accuracy: 0.5322\n",
      "Epoch 82/100\n",
      "400/400 [==============================] - 2s 5ms/step - loss: 1.3688 - accuracy: 0.5323\n",
      "Epoch 83/100\n",
      "400/400 [==============================] - 2s 5ms/step - loss: 1.3680 - accuracy: 0.5324\n",
      "Epoch 84/100\n",
      "400/400 [==============================] - 2s 5ms/step - loss: 1.3679 - accuracy: 0.5322\n",
      "Epoch 85/100\n",
      "400/400 [==============================] - 2s 5ms/step - loss: 1.3669 - accuracy: 0.5324\n",
      "Epoch 86/100\n",
      "400/400 [==============================] - 2s 5ms/step - loss: 1.3680 - accuracy: 0.5320\n",
      "Epoch 87/100\n",
      "400/400 [==============================] - 2s 5ms/step - loss: 1.3680 - accuracy: 0.5323\n",
      "Epoch 88/100\n",
      "400/400 [==============================] - 2s 5ms/step - loss: 1.3693 - accuracy: 0.5319\n",
      "Epoch 89/100\n",
      "400/400 [==============================] - 2s 5ms/step - loss: 1.3684 - accuracy: 0.5319\n",
      "Epoch 90/100\n",
      "400/400 [==============================] - 2s 5ms/step - loss: 1.3687 - accuracy: 0.5318\n",
      "Epoch 91/100\n",
      "400/400 [==============================] - 2s 5ms/step - loss: 1.3673 - accuracy: 0.5320\n",
      "Epoch 92/100\n",
      "400/400 [==============================] - 2s 5ms/step - loss: 1.3678 - accuracy: 0.5320\n",
      "Epoch 93/100\n",
      "400/400 [==============================] - 2s 5ms/step - loss: 1.3677 - accuracy: 0.5321\n",
      "Epoch 94/100\n",
      "400/400 [==============================] - 2s 5ms/step - loss: 1.3685 - accuracy: 0.5320\n",
      "Epoch 95/100\n",
      "400/400 [==============================] - 2s 5ms/step - loss: 1.3671 - accuracy: 0.5320\n",
      "Epoch 96/100\n",
      "400/400 [==============================] - 2s 5ms/step - loss: 1.3688 - accuracy: 0.5317\n",
      "Epoch 97/100\n",
      "400/400 [==============================] - 2s 5ms/step - loss: 1.3678 - accuracy: 0.5321\n",
      "Epoch 98/100\n",
      "400/400 [==============================] - 2s 5ms/step - loss: 1.3675 - accuracy: 0.5320\n",
      "Epoch 99/100\n",
      "400/400 [==============================] - 2s 5ms/step - loss: 1.3674 - accuracy: 0.5319\n",
      "Epoch 100/100\n",
      "400/400 [==============================] - 2s 5ms/step - loss: 1.3675 - accuracy: 0.5321\n"
     ]
    }
   ],
   "source": [
    "history = tf.model.fit(x_data, y_one_hot, batch_size=batch_size , epochs=training_epochs)"
   ]
  },
  {
   "cell_type": "code",
   "execution_count": 8,
   "id": "0f3f6697",
   "metadata": {},
   "outputs": [
    {
     "data": {
      "image/png": "[encoded data removed]",
      "text/plain": [
       "<Figure size 460.8x403.2 with 1 Axes>"
      ]
     },
     "metadata": {},
     "output_type": "display_data"
    }
   ],
   "source": [
    "# 모델 손실 함수 시각화\n",
    "from jupyterthemes import jtplot\n",
    "jtplot.style(theme='monokai')\n",
    "\n",
    "plt.plot(history.history['loss'], 'b-', label='loss')\n",
    "#plt.plot(history.history['val_loss'], 'r-', label='val_loss')\n",
    "plt.title('Model loss')\n",
    "plt.xlabel('Epoch')\n",
    "plt.ylabel('Loss')\n",
    "plt.legend()\n",
    "plt.show()"
   ]
  },
  {
   "cell_type": "code",
   "execution_count": 9,
   "id": "83e399f2",
   "metadata": {},
   "outputs": [
    {
     "data": {
      "image/png": "[encoded data removed]",
      "text/plain": [
       "<Figure size 460.8x403.2 with 1 Axes>"
      ]
     },
     "metadata": {},
     "output_type": "display_data"
    }
   ],
   "source": [
    "# 모델 정확도 시각화\n",
    "plt.plot(history.history['accuracy'], 'g-', label='accuracy')\n",
    "#plt.plot(history.history['val_accuracy'], 'r-', label='val_accuracy')\n",
    "plt.title('Model Accuracy')\n",
    "plt.xlabel('Epoch')\n",
    "plt.ylabel('Accuracy')\n",
    "plt.legend()\n",
    "plt.show()"
   ]
  },
  {
   "cell_type": "code",
   "execution_count": 10,
   "id": "f860be4f",
   "metadata": {},
   "outputs": [
    {
     "name": "stdout",
     "output_type": "stream",
     "text": [
      "(320000, 12) (320000, 4)\n"
     ]
    }
   ],
   "source": [
    "# Full x_data test\n",
    "test_data = np.loadtxt('MIMO_2_0dB_NoC_16_test.csv', delimiter=',', dtype=np.float32)\n",
    "x_test_data = test_data[:, 1:13]\n",
    "y_test_data = test_data[:, -4:]\n",
    "print(x_test_data.shape, y_test_data.shape)"
   ]
  },
  {
   "cell_type": "code",
   "execution_count": 11,
   "id": "1b49e243",
   "metadata": {},
   "outputs": [
    {
     "name": "stdout",
     "output_type": "stream",
     "text": [
      "[[ 3]\n",
      " [ 3]\n",
      " [ 3]\n",
      " ...\n",
      " [12]\n",
      " [12]\n",
      " [12]]\n"
     ]
    }
   ],
   "source": [
    "# Convert y_test_data to y_test_bit\n",
    "i=1\n",
    "y_test_merge = []\n",
    "while i <= y_test_data.shape[0]:\n",
    "    temp2 = \"\".join(str(_) for _ in y_test_data[i-1,:])\n",
    "    y_test_merge.append(temp2)\n",
    "    i = i + 1\n",
    "\n",
    "encoder = LabelEncoder()\n",
    "encoder.fit(y_test_merge)\n",
    "y_test_bit = encoder.transform(y_test_merge)\n",
    "y_test_bit = y_test_bit.reshape(-1, 1)\n",
    "print(y_test_bit)"
   ]
  },
  {
   "cell_type": "code",
   "execution_count": 12,
   "id": "02ceb9be",
   "metadata": {},
   "outputs": [
    {
     "name": "stdout",
     "output_type": "stream",
     "text": [
      "one_hot: [[0. 0. 0. ... 0. 0. 0.]\n",
      " [0. 0. 0. ... 0. 0. 0.]\n",
      " [0. 0. 0. ... 0. 0. 0.]\n",
      " ...\n",
      " [0. 0. 0. ... 0. 0. 0.]\n",
      " [0. 0. 0. ... 0. 0. 0.]\n",
      " [0. 0. 0. ... 0. 0. 0.]]\n"
     ]
    }
   ],
   "source": [
    "# Convert y_data to one_hot\n",
    "y_test_one_hot = tf.keras.utils.to_categorical(y_test_bit, nb_classes)\n",
    "print(\"one_hot:\", y_test_one_hot)"
   ]
  },
  {
   "cell_type": "code",
   "execution_count": 13,
   "id": "26d7e049",
   "metadata": {},
   "outputs": [
    {
     "name": "stdout",
     "output_type": "stream",
     "text": [
      "10000/10000 [==============================] - 17s 2ms/step - loss: 1.2627 - accuracy: 0.5664\n",
      "loss:  1.2627304792404175\n",
      "accuracy 0.5664374828338623\n"
     ]
    }
   ],
   "source": [
    "evaluation = tf.model.evaluate(x_test_data, y_test_one_hot)\n",
    "print('loss: ', evaluation[0])\n",
    "print('accuracy', evaluation[1])"
   ]
  },
  {
   "cell_type": "code",
   "execution_count": 14,
   "id": "d62b59fa",
   "metadata": {},
   "outputs": [],
   "source": [
    "#pre_error_cnt = 0\n",
    "predict_x = tf.model.predict(x_test_data) \n",
    "pred = np.argmax(predict_x,axis=1)\n",
    "#for p, y in zip(pred, y_test_bit.flatten()):\n",
    "    #print(\"[{}] Prediction: {} True Y: {}\".format(p == int(y), p, int(y)))\n",
    "    #if p != int(y):\n",
    "        #pre_error_cnt += 1\n",
    "#print(\"Prediction Error Count : \", pre_error_cnt)"
   ]
  },
  {
   "cell_type": "code",
   "execution_count": 15,
   "id": "e5514203",
   "metadata": {},
   "outputs": [
    {
     "name": "stdout",
     "output_type": "stream",
     "text": [
      "Error : 138740\n",
      "Error Count: 201980\n"
     ]
    }
   ],
   "source": [
    "res_pred = pred.reshape(y_test_data.shape[0], 1)\n",
    "error_cnt = 0\n",
    "error = 0\n",
    "for i in range(0, y_test_data.shape[0]):\n",
    "    if res_pred[i] != y_test_bit[i]:\n",
    "        #print(\"False : {}\".format(i))\n",
    "        #print(\"[{}] data : {}\".format(i, y_test_data[i]))\n",
    "        error += 1\n",
    "        for n in range(0, y_test_data.shape[0], int(y_test_data.shape[0]/nb_classes)):\n",
    "            if y_test_bit[n] == res_pred[i]:\n",
    "                #print(\"[{}] pred data: {}\".format(n, y_test_data[n]))\n",
    "                bit_error = 0\n",
    "                for m in range(0, y_test_data.shape[1]): \n",
    "                    if y_test_data[i, m] != y_test_data[n, m]:\n",
    "                        bit_error += 1\n",
    "                        error_cnt += 1\n",
    "                #print(\"bit error count : \", bit_error)\n",
    "                break\n",
    "print(\"Error : {}\".format(error))\n",
    "print(\"Error Count: {}\".format(error_cnt))"
   ]
  },
  {
   "cell_type": "code",
   "execution_count": 16,
   "id": "979f11c4",
   "metadata": {},
   "outputs": [
    {
     "name": "stdout",
     "output_type": "stream",
     "text": [
      "BER: 0.157796875\n"
     ]
    }
   ],
   "source": [
    "BER = (error_cnt)/(y_test_data.shape[0]*2*2)\n",
    "print(\"BER: {}\".format(BER))"
   ]
  },
  {
   "cell_type": "code",
   "execution_count": null,
   "id": "3ec7776e",
   "metadata": {},
   "outputs": [],
   "source": []
  },
  {
   "cell_type": "code",
   "execution_count": null,
   "id": "db67a98a",
   "metadata": {},
   "outputs": [],
   "source": []
  }
 ],
 "metadata": {
  "kernelspec": {
   "display_name": "Python 3 (ipykernel)",
   "language": "python",
   "name": "python3"
  },
  "language_info": {
   "codemirror_mode": {
    "name": "ipython",
    "version": 3
   },
   "file_extension": ".py",
   "mimetype": "text/x-python",
   "name": "python",
   "nbconvert_exporter": "python",
   "pygments_lexer": "ipython3",
   "version": "3.8.12"
  }
 },
 "nbformat": 4,
 "nbformat_minor": 5
}
