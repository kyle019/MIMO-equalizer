{
 "cells": [
  {
   "cell_type": "code",
   "execution_count": 1,
   "id": "39878172",
   "metadata": {},
   "outputs": [],
   "source": [
    "import numpy as np\n",
    "import random\n",
    "import matplotlib.pyplot as plt\n",
    "import tensorflow as tf\n",
    "from sklearn.model_selection import train_test_split\n",
    "from sklearn.preprocessing import LabelEncoder\n",
    "\n",
    "random.seed(777)  # for reproducibility\n",
    "learning_rate = 0.001\n",
    "batch_size = 10000\n",
    "training_epochs = 200\n",
    "nb_classes = 4\n",
    "drop_rate = 0.3"
   ]
  },
  {
   "cell_type": "code",
   "execution_count": 2,
   "id": "6a28f0ed",
   "metadata": {
    "scrolled": false
   },
   "outputs": [
    {
     "name": "stdout",
     "output_type": "stream",
     "text": [
      "(40000, 20) (40000, 4)\n",
      "[ 0.06907259 -0.7754382  -0.02926022 -2.0638485  -1.1988358  -0.18695061\n",
      "  0.43897945 -1.745061   -0.7208335   1.1568292  -0.9176092   1.4018345\n",
      " -0.70710677 -0.70710677  0.70710677  0.70710677  0.70710677 -0.70710677\n",
      "  0.70710677 -0.70710677]\n"
     ]
    }
   ],
   "source": [
    "xy = np.loadtxt('MIMO_2_10dB_NoC_4.csv', delimiter=',', dtype=np.float32)\n",
    "x_data = xy[:, 1:21]\n",
    "y_data = xy[:, -4:]\n",
    "\n",
    "print(x_data.shape, y_data.shape)\n",
    "print(x_data[0])"
   ]
  },
  {
   "cell_type": "code",
   "execution_count": 3,
   "id": "ee73316f",
   "metadata": {},
   "outputs": [
    {
     "name": "stdout",
     "output_type": "stream",
     "text": [
      "[[1]\n",
      " [1]\n",
      " [1]\n",
      " ...\n",
      " [2]\n",
      " [2]\n",
      " [2]]\n"
     ]
    }
   ],
   "source": [
    "# Convert y_data to y_bit\n",
    "i=1\n",
    "y_merge = []\n",
    "while i <= y_data.shape[0]:\n",
    "    temp = \"\".join(str(_) for _ in y_data[i-1,:])\n",
    "    y_merge.append(temp)\n",
    "    i = i + 1\n",
    "\n",
    "encoder = LabelEncoder()\n",
    "encoder.fit(y_merge)\n",
    "y_bit = encoder.transform(y_merge)\n",
    "y_bit = y_bit.reshape(-1, 1)\n",
    "print(y_bit)"
   ]
  },
  {
   "cell_type": "code",
   "execution_count": 4,
   "id": "633ea46e",
   "metadata": {},
   "outputs": [
    {
     "name": "stdout",
     "output_type": "stream",
     "text": [
      "one_hot: [[0. 1. 0. 0.]\n",
      " [0. 1. 0. 0.]\n",
      " [0. 1. 0. 0.]\n",
      " ...\n",
      " [0. 0. 1. 0.]\n",
      " [0. 0. 1. 0.]\n",
      " [0. 0. 1. 0.]]\n"
     ]
    }
   ],
   "source": [
    "# Convert y_data to one_hot\n",
    "y_one_hot = tf.keras.utils.to_categorical(y_bit, nb_classes)\n",
    "print(\"one_hot:\", y_one_hot)"
   ]
  },
  {
   "cell_type": "code",
   "execution_count": 5,
   "id": "d6f44f52",
   "metadata": {},
   "outputs": [],
   "source": [
    "tf.model = tf.keras.Sequential()\n",
    "# Glorot normal initializer, also called Xavier normal initializer.\n",
    "# see https://www.tensorflow.org/api_docs/python/tf/initializers"
   ]
  },
  {
   "cell_type": "code",
   "execution_count": 6,
   "id": "9e58a9ba",
   "metadata": {},
   "outputs": [
    {
     "name": "stdout",
     "output_type": "stream",
     "text": [
      "Model: \"sequential\"\n",
      "_________________________________________________________________\n",
      "Layer (type)                 Output Shape              Param #   \n",
      "=================================================================\n",
      "dense (Dense)                (None, 640)               13440     \n",
      "_________________________________________________________________\n",
      "dropout (Dropout)            (None, 640)               0         \n",
      "_________________________________________________________________\n",
      "dense_1 (Dense)              (None, 320)               205120    \n",
      "_________________________________________________________________\n",
      "dropout_1 (Dropout)          (None, 320)               0         \n",
      "_________________________________________________________________\n",
      "dense_2 (Dense)              (None, 4)                 1284      \n",
      "=================================================================\n",
      "Total params: 219,844\n",
      "Trainable params: 219,844\n",
      "Non-trainable params: 0\n",
      "_________________________________________________________________\n"
     ]
    }
   ],
   "source": [
    "tf.model.add(tf.keras.layers.Dense(input_dim=x_data.shape[1], units=640, kernel_regularizer=tf.keras.regularizers.l2(0.001), activation='relu'))\n",
    "tf.model.add(tf.keras.layers.Dropout(drop_rate))\n",
    "tf.model.add(tf.keras.layers.Dense(units=320, kernel_regularizer=tf.keras.regularizers.l2(0.001), activation='relu'))\n",
    "tf.model.add(tf.keras.layers.Dropout(drop_rate))\n",
    "tf.model.add(tf.keras.layers.Dense(units=nb_classes, activation='softmax'))\n",
    "tf.model.compile(loss='categorical_crossentropy',\n",
    "                 optimizer=tf.keras.optimizers.Adam(learning_rate=learning_rate), metrics=['accuracy'])\n",
    "tf.model.summary()"
   ]
  },
  {
   "cell_type": "code",
   "execution_count": 7,
   "id": "c346ad84",
   "metadata": {
    "scrolled": true
   },
   "outputs": [
    {
     "name": "stdout",
     "output_type": "stream",
     "text": [
      "Epoch 1/200\n",
      "4/4 [==============================] - 1s 7ms/step - loss: 1.8251 - accuracy: 0.3069\n",
      "Epoch 2/200\n",
      "4/4 [==============================] - 0s 7ms/step - loss: 1.7079 - accuracy: 0.4697\n",
      "Epoch 3/200\n",
      "4/4 [==============================] - 0s 7ms/step - loss: 1.5914 - accuracy: 0.5830\n",
      "Epoch 4/200\n",
      "4/4 [==============================] - 0s 7ms/step - loss: 1.4629 - accuracy: 0.6577\n",
      "Epoch 5/200\n",
      "4/4 [==============================] - 0s 7ms/step - loss: 1.3275 - accuracy: 0.7033\n",
      "Epoch 6/200\n",
      "4/4 [==============================] - 0s 7ms/step - loss: 1.1954 - accuracy: 0.7340\n",
      "Epoch 7/200\n",
      "4/4 [==============================] - 0s 7ms/step - loss: 1.0672 - accuracy: 0.7694\n",
      "Epoch 8/200\n",
      "4/4 [==============================] - 0s 7ms/step - loss: 0.9545 - accuracy: 0.7990\n",
      "Epoch 9/200\n",
      "4/4 [==============================] - 0s 7ms/step - loss: 0.8585 - accuracy: 0.8246\n",
      "Epoch 10/200\n",
      "4/4 [==============================] - 0s 7ms/step - loss: 0.7733 - accuracy: 0.8511\n",
      "Epoch 11/200\n",
      "4/4 [==============================] - 0s 7ms/step - loss: 0.7023 - accuracy: 0.8736\n",
      "Epoch 12/200\n",
      "4/4 [==============================] - 0s 7ms/step - loss: 0.6437 - accuracy: 0.8897\n",
      "Epoch 13/200\n",
      "4/4 [==============================] - 0s 7ms/step - loss: 0.5963 - accuracy: 0.9038\n",
      "Epoch 14/200\n",
      "4/4 [==============================] - 0s 7ms/step - loss: 0.5586 - accuracy: 0.9106\n",
      "Epoch 15/200\n",
      "4/4 [==============================] - 0s 7ms/step - loss: 0.5261 - accuracy: 0.9162\n",
      "Epoch 16/200\n",
      "4/4 [==============================] - 0s 7ms/step - loss: 0.4993 - accuracy: 0.9203\n",
      "Epoch 17/200\n",
      "4/4 [==============================] - 0s 7ms/step - loss: 0.4766 - accuracy: 0.9215\n",
      "Epoch 18/200\n",
      "4/4 [==============================] - 0s 7ms/step - loss: 0.4560 - accuracy: 0.9222\n",
      "Epoch 19/200\n",
      "4/4 [==============================] - 0s 7ms/step - loss: 0.4384 - accuracy: 0.9252\n",
      "Epoch 20/200\n",
      "4/4 [==============================] - 0s 7ms/step - loss: 0.4210 - accuracy: 0.9261\n",
      "Epoch 21/200\n",
      "4/4 [==============================] - 0s 7ms/step - loss: 0.4070 - accuracy: 0.9259\n",
      "Epoch 22/200\n",
      "4/4 [==============================] - 0s 7ms/step - loss: 0.3949 - accuracy: 0.9251\n",
      "Epoch 23/200\n",
      "4/4 [==============================] - 0s 7ms/step - loss: 0.3829 - accuracy: 0.9263\n",
      "Epoch 24/200\n",
      "4/4 [==============================] - 0s 7ms/step - loss: 0.3718 - accuracy: 0.9275\n",
      "Epoch 25/200\n",
      "4/4 [==============================] - 0s 7ms/step - loss: 0.3638 - accuracy: 0.9269\n",
      "Epoch 26/200\n",
      "4/4 [==============================] - 0s 7ms/step - loss: 0.3544 - accuracy: 0.9273\n",
      "Epoch 27/200\n",
      "4/4 [==============================] - 0s 7ms/step - loss: 0.3465 - accuracy: 0.9282\n",
      "Epoch 28/200\n",
      "4/4 [==============================] - 0s 7ms/step - loss: 0.3386 - accuracy: 0.9294\n",
      "Epoch 29/200\n",
      "4/4 [==============================] - 0s 7ms/step - loss: 0.3319 - accuracy: 0.9301\n",
      "Epoch 30/200\n",
      "4/4 [==============================] - 0s 7ms/step - loss: 0.3265 - accuracy: 0.9302\n",
      "Epoch 31/200\n",
      "4/4 [==============================] - 0s 7ms/step - loss: 0.3227 - accuracy: 0.9279\n",
      "Epoch 32/200\n",
      "4/4 [==============================] - 0s 7ms/step - loss: 0.3167 - accuracy: 0.9297\n",
      "Epoch 33/200\n",
      "4/4 [==============================] - 0s 7ms/step - loss: 0.3127 - accuracy: 0.9294\n",
      "Epoch 34/200\n",
      "4/4 [==============================] - 0s 7ms/step - loss: 0.3068 - accuracy: 0.9313\n",
      "Epoch 35/200\n",
      "4/4 [==============================] - 0s 7ms/step - loss: 0.3039 - accuracy: 0.9312\n",
      "Epoch 36/200\n",
      "4/4 [==============================] - 0s 6ms/step - loss: 0.3011 - accuracy: 0.9314\n",
      "Epoch 37/200\n",
      "4/4 [==============================] - 0s 7ms/step - loss: 0.2991 - accuracy: 0.9305\n",
      "Epoch 38/200\n",
      "4/4 [==============================] - 0s 7ms/step - loss: 0.2952 - accuracy: 0.9313\n",
      "Epoch 39/200\n",
      "4/4 [==============================] - 0s 7ms/step - loss: 0.2914 - accuracy: 0.9316\n",
      "Epoch 40/200\n",
      "4/4 [==============================] - 0s 7ms/step - loss: 0.2890 - accuracy: 0.9319\n",
      "Epoch 41/200\n",
      "4/4 [==============================] - 0s 7ms/step - loss: 0.2881 - accuracy: 0.9311\n",
      "Epoch 42/200\n",
      "4/4 [==============================] - 0s 7ms/step - loss: 0.2857 - accuracy: 0.9309\n",
      "Epoch 43/200\n",
      "4/4 [==============================] - 0s 7ms/step - loss: 0.2836 - accuracy: 0.9316\n",
      "Epoch 44/200\n",
      "4/4 [==============================] - 0s 7ms/step - loss: 0.2814 - accuracy: 0.9321\n",
      "Epoch 45/200\n",
      "4/4 [==============================] - 0s 7ms/step - loss: 0.2805 - accuracy: 0.9307\n",
      "Epoch 46/200\n",
      "4/4 [==============================] - 0s 7ms/step - loss: 0.2782 - accuracy: 0.9320\n",
      "Epoch 47/200\n",
      "4/4 [==============================] - 0s 7ms/step - loss: 0.2745 - accuracy: 0.9338\n",
      "Epoch 48/200\n",
      "4/4 [==============================] - 0s 7ms/step - loss: 0.2764 - accuracy: 0.9326\n",
      "Epoch 49/200\n",
      "4/4 [==============================] - 0s 7ms/step - loss: 0.2738 - accuracy: 0.9324\n",
      "Epoch 50/200\n",
      "4/4 [==============================] - 0s 7ms/step - loss: 0.2741 - accuracy: 0.9308\n",
      "Epoch 51/200\n",
      "4/4 [==============================] - 0s 7ms/step - loss: 0.2712 - accuracy: 0.9328\n",
      "Epoch 52/200\n",
      "4/4 [==============================] - 0s 7ms/step - loss: 0.2700 - accuracy: 0.9332\n",
      "Epoch 53/200\n",
      "4/4 [==============================] - 0s 7ms/step - loss: 0.2687 - accuracy: 0.9331\n",
      "Epoch 54/200\n",
      "4/4 [==============================] - 0s 7ms/step - loss: 0.2676 - accuracy: 0.9333\n",
      "Epoch 55/200\n",
      "4/4 [==============================] - 0s 7ms/step - loss: 0.2661 - accuracy: 0.9336\n",
      "Epoch 56/200\n",
      "4/4 [==============================] - 0s 7ms/step - loss: 0.2665 - accuracy: 0.9324\n",
      "Epoch 57/200\n",
      "4/4 [==============================] - 0s 7ms/step - loss: 0.2653 - accuracy: 0.9335\n",
      "Epoch 58/200\n",
      "4/4 [==============================] - 0s 7ms/step - loss: 0.2639 - accuracy: 0.9328\n",
      "Epoch 59/200\n",
      "4/4 [==============================] - 0s 7ms/step - loss: 0.2637 - accuracy: 0.9318\n",
      "Epoch 60/200\n",
      "4/4 [==============================] - 0s 7ms/step - loss: 0.2634 - accuracy: 0.9334\n",
      "Epoch 61/200\n",
      "4/4 [==============================] - 0s 7ms/step - loss: 0.2621 - accuracy: 0.9340\n",
      "Epoch 62/200\n",
      "4/4 [==============================] - 0s 7ms/step - loss: 0.2619 - accuracy: 0.9323\n",
      "Epoch 63/200\n",
      "4/4 [==============================] - 0s 7ms/step - loss: 0.2598 - accuracy: 0.9330\n",
      "Epoch 64/200\n",
      "4/4 [==============================] - 0s 7ms/step - loss: 0.2588 - accuracy: 0.9339\n",
      "Epoch 65/200\n",
      "4/4 [==============================] - 0s 7ms/step - loss: 0.2596 - accuracy: 0.9329\n",
      "Epoch 66/200\n",
      "4/4 [==============================] - 0s 7ms/step - loss: 0.2573 - accuracy: 0.9343\n",
      "Epoch 67/200\n",
      "4/4 [==============================] - 0s 7ms/step - loss: 0.2579 - accuracy: 0.9334\n",
      "Epoch 68/200\n",
      "4/4 [==============================] - 0s 7ms/step - loss: 0.2546 - accuracy: 0.9342\n",
      "Epoch 69/200\n",
      "4/4 [==============================] - 0s 7ms/step - loss: 0.2554 - accuracy: 0.9338\n",
      "Epoch 70/200\n",
      "4/4 [==============================] - 0s 7ms/step - loss: 0.2553 - accuracy: 0.9340\n",
      "Epoch 71/200\n",
      "4/4 [==============================] - 0s 7ms/step - loss: 0.2547 - accuracy: 0.9342\n",
      "Epoch 72/200\n",
      "4/4 [==============================] - 0s 7ms/step - loss: 0.2530 - accuracy: 0.9346\n",
      "Epoch 73/200\n",
      "4/4 [==============================] - 0s 7ms/step - loss: 0.2539 - accuracy: 0.9340\n",
      "Epoch 74/200\n",
      "4/4 [==============================] - 0s 7ms/step - loss: 0.2543 - accuracy: 0.9326\n",
      "Epoch 75/200\n",
      "4/4 [==============================] - 0s 7ms/step - loss: 0.2527 - accuracy: 0.9332\n",
      "Epoch 76/200\n",
      "4/4 [==============================] - 0s 7ms/step - loss: 0.2505 - accuracy: 0.9337\n",
      "Epoch 77/200\n",
      "4/4 [==============================] - 0s 7ms/step - loss: 0.2520 - accuracy: 0.9332\n",
      "Epoch 78/200\n",
      "4/4 [==============================] - 0s 7ms/step - loss: 0.2517 - accuracy: 0.9339\n",
      "Epoch 79/200\n",
      "4/4 [==============================] - 0s 7ms/step - loss: 0.2493 - accuracy: 0.9351\n",
      "Epoch 80/200\n",
      "4/4 [==============================] - 0s 7ms/step - loss: 0.2496 - accuracy: 0.9344\n",
      "Epoch 81/200\n",
      "4/4 [==============================] - 0s 7ms/step - loss: 0.2491 - accuracy: 0.9337\n",
      "Epoch 82/200\n",
      "4/4 [==============================] - 0s 7ms/step - loss: 0.2487 - accuracy: 0.9341\n",
      "Epoch 83/200\n",
      "4/4 [==============================] - 0s 6ms/step - loss: 0.2487 - accuracy: 0.9351\n",
      "Epoch 84/200\n"
     ]
    },
    {
     "name": "stdout",
     "output_type": "stream",
     "text": [
      "4/4 [==============================] - 0s 7ms/step - loss: 0.2481 - accuracy: 0.9348\n",
      "Epoch 85/200\n",
      "4/4 [==============================] - 0s 7ms/step - loss: 0.2476 - accuracy: 0.9338\n",
      "Epoch 86/200\n",
      "4/4 [==============================] - 0s 6ms/step - loss: 0.2471 - accuracy: 0.9341\n",
      "Epoch 87/200\n",
      "4/4 [==============================] - 0s 7ms/step - loss: 0.2457 - accuracy: 0.9350\n",
      "Epoch 88/200\n",
      "4/4 [==============================] - 0s 7ms/step - loss: 0.2464 - accuracy: 0.9345\n",
      "Epoch 89/200\n",
      "4/4 [==============================] - 0s 7ms/step - loss: 0.2475 - accuracy: 0.9343\n",
      "Epoch 90/200\n",
      "4/4 [==============================] - 0s 7ms/step - loss: 0.2456 - accuracy: 0.9346\n",
      "Epoch 91/200\n",
      "4/4 [==============================] - 0s 7ms/step - loss: 0.2448 - accuracy: 0.9340\n",
      "Epoch 92/200\n",
      "4/4 [==============================] - 0s 7ms/step - loss: 0.2446 - accuracy: 0.9345\n",
      "Epoch 93/200\n",
      "4/4 [==============================] - 0s 7ms/step - loss: 0.2436 - accuracy: 0.9343\n",
      "Epoch 94/200\n",
      "4/4 [==============================] - 0s 7ms/step - loss: 0.2438 - accuracy: 0.9341\n",
      "Epoch 95/200\n",
      "4/4 [==============================] - 0s 7ms/step - loss: 0.2438 - accuracy: 0.9342\n",
      "Epoch 96/200\n",
      "4/4 [==============================] - 0s 7ms/step - loss: 0.2431 - accuracy: 0.9352\n",
      "Epoch 97/200\n",
      "4/4 [==============================] - 0s 7ms/step - loss: 0.2436 - accuracy: 0.9344\n",
      "Epoch 98/200\n",
      "4/4 [==============================] - 0s 6ms/step - loss: 0.2429 - accuracy: 0.9341\n",
      "Epoch 99/200\n",
      "4/4 [==============================] - 0s 7ms/step - loss: 0.2425 - accuracy: 0.9349\n",
      "Epoch 100/200\n",
      "4/4 [==============================] - 0s 6ms/step - loss: 0.2421 - accuracy: 0.9354\n",
      "Epoch 101/200\n",
      "4/4 [==============================] - 0s 6ms/step - loss: 0.2413 - accuracy: 0.9345\n",
      "Epoch 102/200\n",
      "4/4 [==============================] - 0s 6ms/step - loss: 0.2420 - accuracy: 0.9341\n",
      "Epoch 103/200\n",
      "4/4 [==============================] - 0s 6ms/step - loss: 0.2420 - accuracy: 0.9346\n",
      "Epoch 104/200\n",
      "4/4 [==============================] - 0s 6ms/step - loss: 0.2412 - accuracy: 0.9345\n",
      "Epoch 105/200\n",
      "4/4 [==============================] - 0s 6ms/step - loss: 0.2402 - accuracy: 0.9349\n",
      "Epoch 106/200\n",
      "4/4 [==============================] - 0s 7ms/step - loss: 0.2387 - accuracy: 0.9343\n",
      "Epoch 107/200\n",
      "4/4 [==============================] - 0s 7ms/step - loss: 0.2399 - accuracy: 0.9348\n",
      "Epoch 108/200\n",
      "4/4 [==============================] - 0s 6ms/step - loss: 0.2392 - accuracy: 0.9344\n",
      "Epoch 109/200\n",
      "4/4 [==============================] - 0s 7ms/step - loss: 0.2389 - accuracy: 0.9345\n",
      "Epoch 110/200\n",
      "4/4 [==============================] - 0s 7ms/step - loss: 0.2381 - accuracy: 0.9347\n",
      "Epoch 111/200\n",
      "4/4 [==============================] - 0s 7ms/step - loss: 0.2365 - accuracy: 0.9347\n",
      "Epoch 112/200\n",
      "4/4 [==============================] - 0s 7ms/step - loss: 0.2379 - accuracy: 0.9347\n",
      "Epoch 113/200\n",
      "4/4 [==============================] - 0s 7ms/step - loss: 0.2371 - accuracy: 0.9352\n",
      "Epoch 114/200\n",
      "4/4 [==============================] - 0s 7ms/step - loss: 0.2364 - accuracy: 0.9354\n",
      "Epoch 115/200\n",
      "4/4 [==============================] - 0s 6ms/step - loss: 0.2359 - accuracy: 0.9358\n",
      "Epoch 116/200\n",
      "4/4 [==============================] - 0s 7ms/step - loss: 0.2369 - accuracy: 0.9353\n",
      "Epoch 117/200\n",
      "4/4 [==============================] - 0s 7ms/step - loss: 0.2356 - accuracy: 0.9344\n",
      "Epoch 118/200\n",
      "4/4 [==============================] - 0s 7ms/step - loss: 0.2371 - accuracy: 0.9344\n",
      "Epoch 119/200\n",
      "4/4 [==============================] - 0s 7ms/step - loss: 0.2363 - accuracy: 0.9350\n",
      "Epoch 120/200\n",
      "4/4 [==============================] - 0s 7ms/step - loss: 0.2358 - accuracy: 0.9357\n",
      "Epoch 121/200\n",
      "4/4 [==============================] - 0s 6ms/step - loss: 0.2347 - accuracy: 0.9350\n",
      "Epoch 122/200\n",
      "4/4 [==============================] - 0s 7ms/step - loss: 0.2342 - accuracy: 0.9359\n",
      "Epoch 123/200\n",
      "4/4 [==============================] - 0s 7ms/step - loss: 0.2329 - accuracy: 0.9363\n",
      "Epoch 124/200\n",
      "4/4 [==============================] - 0s 7ms/step - loss: 0.2335 - accuracy: 0.9356\n",
      "Epoch 125/200\n",
      "4/4 [==============================] - 0s 7ms/step - loss: 0.2336 - accuracy: 0.9357\n",
      "Epoch 126/200\n",
      "4/4 [==============================] - 0s 7ms/step - loss: 0.2318 - accuracy: 0.9360\n",
      "Epoch 127/200\n",
      "4/4 [==============================] - 0s 6ms/step - loss: 0.2332 - accuracy: 0.9358\n",
      "Epoch 128/200\n",
      "4/4 [==============================] - 0s 7ms/step - loss: 0.2318 - accuracy: 0.9362\n",
      "Epoch 129/200\n",
      "4/4 [==============================] - 0s 6ms/step - loss: 0.2329 - accuracy: 0.9353\n",
      "Epoch 130/200\n",
      "4/4 [==============================] - 0s 7ms/step - loss: 0.2336 - accuracy: 0.9352\n",
      "Epoch 131/200\n",
      "4/4 [==============================] - 0s 7ms/step - loss: 0.2337 - accuracy: 0.9344\n",
      "Epoch 132/200\n",
      "4/4 [==============================] - 0s 7ms/step - loss: 0.2324 - accuracy: 0.9357\n",
      "Epoch 133/200\n",
      "4/4 [==============================] - 0s 7ms/step - loss: 0.2322 - accuracy: 0.9349\n",
      "Epoch 134/200\n",
      "4/4 [==============================] - 0s 7ms/step - loss: 0.2307 - accuracy: 0.9351\n",
      "Epoch 135/200\n",
      "4/4 [==============================] - 0s 7ms/step - loss: 0.2309 - accuracy: 0.9354\n",
      "Epoch 136/200\n",
      "4/4 [==============================] - 0s 7ms/step - loss: 0.2309 - accuracy: 0.9346\n",
      "Epoch 137/200\n",
      "4/4 [==============================] - 0s 7ms/step - loss: 0.2303 - accuracy: 0.9358\n",
      "Epoch 138/200\n",
      "4/4 [==============================] - 0s 7ms/step - loss: 0.2298 - accuracy: 0.9364\n",
      "Epoch 139/200\n",
      "4/4 [==============================] - 0s 7ms/step - loss: 0.2315 - accuracy: 0.9355\n",
      "Epoch 140/200\n",
      "4/4 [==============================] - 0s 7ms/step - loss: 0.2291 - accuracy: 0.9369\n",
      "Epoch 141/200\n",
      "4/4 [==============================] - 0s 7ms/step - loss: 0.2284 - accuracy: 0.9357\n",
      "Epoch 142/200\n",
      "4/4 [==============================] - 0s 7ms/step - loss: 0.2291 - accuracy: 0.9360\n",
      "Epoch 143/200\n",
      "4/4 [==============================] - 0s 7ms/step - loss: 0.2289 - accuracy: 0.9362\n",
      "Epoch 144/200\n",
      "4/4 [==============================] - 0s 7ms/step - loss: 0.2293 - accuracy: 0.9357\n",
      "Epoch 145/200\n",
      "4/4 [==============================] - 0s 7ms/step - loss: 0.2276 - accuracy: 0.9358\n",
      "Epoch 146/200\n",
      "4/4 [==============================] - 0s 7ms/step - loss: 0.2284 - accuracy: 0.9360\n",
      "Epoch 147/200\n",
      "4/4 [==============================] - 0s 7ms/step - loss: 0.2280 - accuracy: 0.9353\n",
      "Epoch 148/200\n",
      "4/4 [==============================] - 0s 7ms/step - loss: 0.2281 - accuracy: 0.9352\n",
      "Epoch 149/200\n",
      "4/4 [==============================] - 0s 7ms/step - loss: 0.2270 - accuracy: 0.9363\n",
      "Epoch 150/200\n",
      "4/4 [==============================] - 0s 7ms/step - loss: 0.2274 - accuracy: 0.9362\n",
      "Epoch 151/200\n",
      "4/4 [==============================] - 0s 7ms/step - loss: 0.2281 - accuracy: 0.9351\n",
      "Epoch 152/200\n",
      "4/4 [==============================] - 0s 7ms/step - loss: 0.2275 - accuracy: 0.9356\n",
      "Epoch 153/200\n",
      "4/4 [==============================] - 0s 7ms/step - loss: 0.2257 - accuracy: 0.9369\n",
      "Epoch 154/200\n",
      "4/4 [==============================] - 0s 7ms/step - loss: 0.2260 - accuracy: 0.9360\n",
      "Epoch 155/200\n",
      "4/4 [==============================] - 0s 7ms/step - loss: 0.2268 - accuracy: 0.9354\n",
      "Epoch 156/200\n",
      "4/4 [==============================] - 0s 7ms/step - loss: 0.2279 - accuracy: 0.9348\n",
      "Epoch 157/200\n",
      "4/4 [==============================] - 0s 7ms/step - loss: 0.2262 - accuracy: 0.9365\n",
      "Epoch 158/200\n",
      "4/4 [==============================] - 0s 7ms/step - loss: 0.2260 - accuracy: 0.9348\n",
      "Epoch 159/200\n",
      "4/4 [==============================] - 0s 7ms/step - loss: 0.2256 - accuracy: 0.9355\n",
      "Epoch 160/200\n",
      "4/4 [==============================] - 0s 6ms/step - loss: 0.2250 - accuracy: 0.9361\n",
      "Epoch 161/200\n",
      "4/4 [==============================] - 0s 7ms/step - loss: 0.2237 - accuracy: 0.9375\n",
      "Epoch 162/200\n",
      "4/4 [==============================] - 0s 7ms/step - loss: 0.2249 - accuracy: 0.9358\n",
      "Epoch 163/200\n",
      "4/4 [==============================] - 0s 7ms/step - loss: 0.2249 - accuracy: 0.9354\n",
      "Epoch 164/200\n",
      "4/4 [==============================] - 0s 7ms/step - loss: 0.2254 - accuracy: 0.9360\n",
      "Epoch 165/200\n",
      "4/4 [==============================] - 0s 7ms/step - loss: 0.2257 - accuracy: 0.9352\n",
      "Epoch 166/200\n",
      "4/4 [==============================] - 0s 7ms/step - loss: 0.2255 - accuracy: 0.9351\n",
      "Epoch 167/200\n"
     ]
    },
    {
     "name": "stdout",
     "output_type": "stream",
     "text": [
      "4/4 [==============================] - 0s 6ms/step - loss: 0.2249 - accuracy: 0.9356\n",
      "Epoch 168/200\n",
      "4/4 [==============================] - 0s 7ms/step - loss: 0.2236 - accuracy: 0.9369\n",
      "Epoch 169/200\n",
      "4/4 [==============================] - 0s 6ms/step - loss: 0.2227 - accuracy: 0.9366\n",
      "Epoch 170/200\n",
      "4/4 [==============================] - 0s 6ms/step - loss: 0.2245 - accuracy: 0.9354\n",
      "Epoch 171/200\n",
      "4/4 [==============================] - 0s 6ms/step - loss: 0.2232 - accuracy: 0.9355\n",
      "Epoch 172/200\n",
      "4/4 [==============================] - 0s 6ms/step - loss: 0.2231 - accuracy: 0.9359\n",
      "Epoch 173/200\n",
      "4/4 [==============================] - 0s 6ms/step - loss: 0.2233 - accuracy: 0.9357\n",
      "Epoch 174/200\n",
      "4/4 [==============================] - 0s 6ms/step - loss: 0.2234 - accuracy: 0.9362\n",
      "Epoch 175/200\n",
      "4/4 [==============================] - 0s 6ms/step - loss: 0.2232 - accuracy: 0.9356\n",
      "Epoch 176/200\n",
      "4/4 [==============================] - 0s 7ms/step - loss: 0.2225 - accuracy: 0.9357\n",
      "Epoch 177/200\n",
      "4/4 [==============================] - 0s 7ms/step - loss: 0.2224 - accuracy: 0.9359\n",
      "Epoch 178/200\n",
      "4/4 [==============================] - 0s 6ms/step - loss: 0.2212 - accuracy: 0.9365\n",
      "Epoch 179/200\n",
      "4/4 [==============================] - 0s 6ms/step - loss: 0.2214 - accuracy: 0.9362\n",
      "Epoch 180/200\n",
      "4/4 [==============================] - 0s 7ms/step - loss: 0.2222 - accuracy: 0.9360\n",
      "Epoch 181/200\n",
      "4/4 [==============================] - 0s 7ms/step - loss: 0.2215 - accuracy: 0.9367\n",
      "Epoch 182/200\n",
      "4/4 [==============================] - 0s 6ms/step - loss: 0.2210 - accuracy: 0.9370\n",
      "Epoch 183/200\n",
      "4/4 [==============================] - 0s 7ms/step - loss: 0.2206 - accuracy: 0.9366\n",
      "Epoch 184/200\n",
      "4/4 [==============================] - 0s 7ms/step - loss: 0.2222 - accuracy: 0.9363\n",
      "Epoch 185/200\n",
      "4/4 [==============================] - 0s 7ms/step - loss: 0.2228 - accuracy: 0.9358\n",
      "Epoch 186/200\n",
      "4/4 [==============================] - 0s 6ms/step - loss: 0.2230 - accuracy: 0.9355\n",
      "Epoch 187/200\n",
      "4/4 [==============================] - 0s 7ms/step - loss: 0.2197 - accuracy: 0.9373\n",
      "Epoch 188/200\n",
      "4/4 [==============================] - 0s 6ms/step - loss: 0.2192 - accuracy: 0.9363\n",
      "Epoch 189/200\n",
      "4/4 [==============================] - 0s 7ms/step - loss: 0.2204 - accuracy: 0.9360\n",
      "Epoch 190/200\n",
      "4/4 [==============================] - 0s 7ms/step - loss: 0.2193 - accuracy: 0.9364\n",
      "Epoch 191/200\n",
      "4/4 [==============================] - 0s 7ms/step - loss: 0.2211 - accuracy: 0.9361\n",
      "Epoch 192/200\n",
      "4/4 [==============================] - 0s 6ms/step - loss: 0.2208 - accuracy: 0.9363\n",
      "Epoch 193/200\n",
      "4/4 [==============================] - 0s 7ms/step - loss: 0.2196 - accuracy: 0.9366\n",
      "Epoch 194/200\n",
      "4/4 [==============================] - 0s 7ms/step - loss: 0.2194 - accuracy: 0.9362\n",
      "Epoch 195/200\n",
      "4/4 [==============================] - 0s 7ms/step - loss: 0.2199 - accuracy: 0.9363\n",
      "Epoch 196/200\n",
      "4/4 [==============================] - 0s 7ms/step - loss: 0.2190 - accuracy: 0.9372\n",
      "Epoch 197/200\n",
      "4/4 [==============================] - 0s 7ms/step - loss: 0.2191 - accuracy: 0.9360\n",
      "Epoch 198/200\n",
      "4/4 [==============================] - 0s 7ms/step - loss: 0.2194 - accuracy: 0.9368\n",
      "Epoch 199/200\n",
      "4/4 [==============================] - 0s 7ms/step - loss: 0.2200 - accuracy: 0.9360\n",
      "Epoch 200/200\n",
      "4/4 [==============================] - 0s 7ms/step - loss: 0.2191 - accuracy: 0.9367\n"
     ]
    }
   ],
   "source": [
    "history = tf.model.fit(x_data, y_one_hot, batch_size=batch_size, epochs=training_epochs)"
   ]
  },
  {
   "cell_type": "code",
   "execution_count": 8,
   "id": "0f3f6697",
   "metadata": {},
   "outputs": [
    {
     "data": {
      "image/png": "[encoded data removed]",
      "text/plain": [
       "<Figure size 460.8x403.2 with 1 Axes>"
      ]
     },
     "metadata": {},
     "output_type": "display_data"
    }
   ],
   "source": [
    "# 모델 손실 함수 시각화\n",
    "from jupyterthemes import jtplot\n",
    "jtplot.style(theme='monokai')\n",
    "\n",
    "plt.plot(history.history['loss'], 'b-', label='loss')\n",
    "#plt.plot(history.history['val_loss'], 'r-', label='val_loss')\n",
    "plt.title('Model loss')\n",
    "plt.xlabel('Epoch')\n",
    "plt.ylabel('Loss')\n",
    "plt.legend()\n",
    "plt.show()"
   ]
  },
  {
   "cell_type": "code",
   "execution_count": 9,
   "id": "83e399f2",
   "metadata": {},
   "outputs": [
    {
     "data": {
      "image/png": "[encoded data removed]",
      "text/plain": [
       "<Figure size 460.8x403.2 with 1 Axes>"
      ]
     },
     "metadata": {},
     "output_type": "display_data"
    }
   ],
   "source": [
    "# 모델 정확도 시각화\n",
    "plt.plot(history.history['accuracy'], 'g-', label='accuracy')\n",
    "#plt.plot(history.history['val_accuracy'], 'r-', label='val_accuracy')\n",
    "plt.title('Model Accuracy')\n",
    "plt.xlabel('Epoch')\n",
    "plt.ylabel('Accuracy')\n",
    "plt.legend()\n",
    "plt.show()"
   ]
  },
  {
   "cell_type": "code",
   "execution_count": 10,
   "id": "f860be4f",
   "metadata": {},
   "outputs": [
    {
     "name": "stdout",
     "output_type": "stream",
     "text": [
      "(8000, 20) (8000, 4)\n"
     ]
    }
   ],
   "source": [
    "# Full x_data test\n",
    "test_data = np.loadtxt('MIMO_2_10dB_NoC_4_test.csv', delimiter=',', dtype=np.float32)\n",
    "x_test_data = test_data[:, 1:21]\n",
    "y_test_data = test_data[:, -4:]\n",
    "print(x_test_data.shape, y_test_data.shape)"
   ]
  },
  {
   "cell_type": "code",
   "execution_count": 11,
   "id": "1b49e243",
   "metadata": {},
   "outputs": [
    {
     "name": "stdout",
     "output_type": "stream",
     "text": [
      "[[1]\n",
      " [1]\n",
      " [1]\n",
      " ...\n",
      " [2]\n",
      " [2]\n",
      " [2]]\n"
     ]
    }
   ],
   "source": [
    "# Convert y_test_data to y_test_bit\n",
    "i=1\n",
    "y_test_merge = []\n",
    "while i <= y_test_data.shape[0]:\n",
    "    temp2 = \"\".join(str(_) for _ in y_test_data[i-1,:])\n",
    "    y_test_merge.append(temp2)\n",
    "    i = i + 1\n",
    "\n",
    "encoder = LabelEncoder()\n",
    "encoder.fit(y_test_merge)\n",
    "y_test_bit = encoder.transform(y_test_merge)\n",
    "y_test_bit = y_test_bit.reshape(-1, 1)\n",
    "print(y_test_bit)"
   ]
  },
  {
   "cell_type": "code",
   "execution_count": 12,
   "id": "02ceb9be",
   "metadata": {},
   "outputs": [
    {
     "name": "stdout",
     "output_type": "stream",
     "text": [
      "one_hot: [[0. 1. 0. 0.]\n",
      " [0. 1. 0. 0.]\n",
      " [0. 1. 0. 0.]\n",
      " ...\n",
      " [0. 0. 1. 0.]\n",
      " [0. 0. 1. 0.]\n",
      " [0. 0. 1. 0.]]\n"
     ]
    }
   ],
   "source": [
    "# Convert y_data to one_hot\n",
    "y_test_one_hot = tf.keras.utils.to_categorical(y_test_bit, nb_classes)\n",
    "print(\"one_hot:\", y_test_one_hot)"
   ]
  },
  {
   "cell_type": "code",
   "execution_count": 13,
   "id": "26d7e049",
   "metadata": {},
   "outputs": [
    {
     "name": "stdout",
     "output_type": "stream",
     "text": [
      "250/250 [==============================] - 0s 1ms/step - loss: 0.2117 - accuracy: 0.9398\n",
      "loss:  0.21173542737960815\n",
      "accuracy 0.9397500157356262\n"
     ]
    }
   ],
   "source": [
    "evaluation = tf.model.evaluate(x_test_data, y_test_one_hot)\n",
    "print('loss: ', evaluation[0])\n",
    "print('accuracy', evaluation[1])"
   ]
  },
  {
   "cell_type": "code",
   "execution_count": 14,
   "id": "d62b59fa",
   "metadata": {},
   "outputs": [],
   "source": [
    "predict_x = tf.model.predict(x_test_data) \n",
    "pred = np.argmax(predict_x,axis=1)\n",
    "# for p, y in zip(pred, y_test_bit.flatten()):\n",
    " #   print(\"[{}] Prediction: {} True Y: {}\".format(p == int(y), p, int(y)))"
   ]
  },
  {
   "cell_type": "code",
   "execution_count": 15,
   "id": "e5514203",
   "metadata": {},
   "outputs": [
    {
     "name": "stdout",
     "output_type": "stream",
     "text": [
      "Error : 482\n",
      "Error Count: 508\n"
     ]
    }
   ],
   "source": [
    "res_pred = pred.reshape(y_test_data.shape[0], 1)\n",
    "error_cnt = 0\n",
    "error = 0\n",
    "for i in range(0, y_test_data.shape[0]):\n",
    "    if res_pred[i] != y_test_bit[i]:\n",
    "        #print(\"False : {}\".format(i))\n",
    "        #print(\"[{}] data : {}\".format(i, y_test_data[i]))\n",
    "        error += 1\n",
    "        for n in range(0, y_test_data.shape[0], int(y_test_data.shape[0]/nb_classes)):\n",
    "            if y_test_bit[n] == res_pred[i]:\n",
    "                #print(\"[{}] pred data: {}\".format(n, y_test_data[n]))\n",
    "                bit_error = 0\n",
    "                for m in range(0, y_test_data.shape[1]): \n",
    "                    if y_test_data[i, m] != y_test_data[n, m]:\n",
    "                        bit_error += 1\n",
    "                        error_cnt += 1\n",
    "                #print(\"bit error count : \", bit_error)\n",
    "                break\n",
    "print(\"Error : {}\".format(error))\n",
    "print(\"Error Count: {}\".format(error_cnt))"
   ]
  },
  {
   "cell_type": "code",
   "execution_count": 16,
   "id": "979f11c4",
   "metadata": {},
   "outputs": [
    {
     "name": "stdout",
     "output_type": "stream",
     "text": [
      "BER: 0.015875\n"
     ]
    }
   ],
   "source": [
    "BER = (error_cnt)/(y_test_data.shape[0]*2*2)\n",
    "print(\"BER: {}\".format(BER))"
   ]
  },
  {
   "cell_type": "code",
   "execution_count": null,
   "id": "5a5b98a7",
   "metadata": {},
   "outputs": [],
   "source": []
  }
 ],
 "metadata": {
  "kernelspec": {
   "display_name": "Python 3 (ipykernel)",
   "language": "python",
   "name": "python3"
  },
  "language_info": {
   "codemirror_mode": {
    "name": "ipython",
    "version": 3
   },
   "file_extension": ".py",
   "mimetype": "text/x-python",
   "name": "python",
   "nbconvert_exporter": "python",
   "pygments_lexer": "ipython3",
   "version": "3.8.12"
  }
 },
 "nbformat": 4,
 "nbformat_minor": 5
}
