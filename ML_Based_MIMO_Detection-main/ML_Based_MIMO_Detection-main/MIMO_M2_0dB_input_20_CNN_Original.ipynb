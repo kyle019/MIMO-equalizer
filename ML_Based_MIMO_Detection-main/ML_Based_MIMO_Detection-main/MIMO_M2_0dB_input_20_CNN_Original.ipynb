{
 "cells": [
  {
   "cell_type": "code",
   "execution_count": 1,
   "id": "c2e1c77e",
   "metadata": {},
   "outputs": [],
   "source": [
    "import numpy as np\n",
    "import tensorflow as tf\n",
    "import matplotlib.pyplot as plt\n",
    "import random\n",
    "from sklearn.preprocessing import LabelEncoder\n",
    "from sklearn.preprocessing import StandardScaler\n",
    "\n",
    "random.seed(777)  # for reproducibility\n",
    "learning_rate = 0.001\n",
    "batch_size = 64\n",
    "training_epochs = 50\n",
    "nb_classes = 16\n",
    "drop_rate = 0.3"
   ]
  },
  {
   "cell_type": "code",
   "execution_count": 2,
   "id": "95fcaac6",
   "metadata": {},
   "outputs": [
    {
     "name": "stdout",
     "output_type": "stream",
     "text": [
      "(160000, 12) (160000, 4)\n",
      "[-0.5181557   0.51293826  0.5053995   0.97950834 -0.08778331  0.99633783\n",
      " -2.837769   -0.04458653 -0.1449329   0.46245688  1.0533752   1.0021063 ]\n"
     ]
    }
   ],
   "source": [
    "xy = np.loadtxt('MIMO_2_0dB_CNN.csv', delimiter=',', dtype=np.float32)\n",
    "x_data = xy[:, :12]\n",
    "y_data = xy[:, -4:]\n",
    "\n",
    "print(x_data.shape, y_data.shape)\n",
    "print(x_data[0])"
   ]
  },
  {
   "cell_type": "code",
   "execution_count": 7,
   "id": "d1aff6ce",
   "metadata": {},
   "outputs": [
    {
     "name": "stdout",
     "output_type": "stream",
     "text": [
      "[[-0.32338127  0.72548646  0.71280175 ...  0.29025424  1.48973\n",
      "   1.4155737 ]\n",
      " [-1.5829918   0.48884267  0.72490543 ...  1.957233   -0.7861564\n",
      "  -1.1469651 ]\n",
      " [-1.2723964   0.3250471   1.3662757  ... -0.29594502 -0.2405829\n",
      "   0.3119823 ]\n",
      " ...\n",
      " [ 0.92286986 -0.584231   -0.3887325  ... -0.413759    2.1745775\n",
      "  -1.0715169 ]\n",
      " [ 2.5194762  -0.13025801  2.588134   ...  1.4144659  -0.15671928\n",
      "  -0.80296034]\n",
      " [ 1.8832055   0.764022    0.7754476  ... -0.483084   -1.1993619\n",
      "  -0.0884664 ]]\n",
      "(160000, 12)\n"
     ]
    }
   ],
   "source": [
    "scaler = StandardScaler() \n",
    "scaler.fit(x_data)\n",
    "x_data_scaled = scaler.transform(x_data)\n",
    "print(x_data_scaled)\n",
    "print(x_data_scaled.shape)"
   ]
  },
  {
   "cell_type": "code",
   "execution_count": 11,
   "id": "08a6110f",
   "metadata": {},
   "outputs": [
    {
     "name": "stdout",
     "output_type": "stream",
     "text": [
      "[[[-0.32338127  0.60932255 -1.76202369  0.29025424]\n",
      "  [ 0.72548646 -0.12495112 -0.06232002  1.48973   ]\n",
      "  [ 0.71280175  1.40889192 -0.21052633  1.41557372]]\n",
      "\n",
      " [[-1.58299184 -2.29368782 -0.25803098  1.95723295]\n",
      "  [ 0.48884267  0.29362485  1.03390896 -0.78615642]\n",
      "  [ 0.72490543  0.88869977 -0.30911699 -1.14696515]]\n",
      "\n",
      " [[-1.27239645  0.33080101  0.72089398 -0.29594502]\n",
      "  [ 0.32504711 -0.10301987 -0.75323611 -0.2405829 ]\n",
      "  [ 1.36627567  0.31999919 -1.71884835  0.3119823 ]]\n",
      "\n",
      " ...\n",
      "\n",
      " [[ 0.92286986  0.02320763  0.60519087 -0.41375899]\n",
      "  [-0.58423102  1.46573877 -0.44491211  2.17457747]\n",
      "  [-0.38873249 -0.13388166  1.27448559 -1.07151687]]\n",
      "\n",
      " [[ 2.51947618 -1.42971158 -0.94962323  1.4144659 ]\n",
      "  [-0.13025801  0.7387405  -1.99636412 -0.15671928]\n",
      "  [ 2.58813405 -0.15239479  0.3284094  -0.80296034]]\n",
      "\n",
      " [[ 1.88320553 -0.19591326  0.80598605 -0.48308399]\n",
      "  [ 0.76402199  0.9853875  -0.63886559 -1.19936192]\n",
      "  [ 0.77544761  0.74705708 -0.37385955 -0.0884664 ]]]\n"
     ]
    }
   ],
   "source": [
    "# x_Data change 1D to 2D\n",
    "x_data_2D = np.zeros(shape=(x_data.shape[0],3,4))\n",
    "for num0 in range(0, x_data.shape[0]):\n",
    "    for num1 in range(0, 4):\n",
    "        temp = 3*num1\n",
    "        temp1 = x_data_scaled[num0, 0+temp:3+temp].reshape(3)\n",
    "        x_data_2D[num0, :, num1] = temp1\n",
    "print(x_data_2D)"
   ]
  },
  {
   "cell_type": "code",
   "execution_count": 15,
   "id": "ec6ac989",
   "metadata": {},
   "outputs": [
    {
     "name": "stdout",
     "output_type": "stream",
     "text": [
      "(160000, 3, 4, 1)\n"
     ]
    }
   ],
   "source": [
    "x_data_2D = x_data_2D.reshape(x_data.shape[0],3,4, 1)\n",
    "print(x_data_2D.shape)"
   ]
  },
  {
   "cell_type": "code",
   "execution_count": 16,
   "id": "2ca6aecc",
   "metadata": {},
   "outputs": [
    {
     "name": "stdout",
     "output_type": "stream",
     "text": [
      "[[ 3]\n",
      " [ 3]\n",
      " [ 3]\n",
      " ...\n",
      " [12]\n",
      " [12]\n",
      " [12]]\n"
     ]
    }
   ],
   "source": [
    "# Convert y_data to y_bit\n",
    "i=1\n",
    "y_merge = []\n",
    "while i <= y_data.shape[0]:\n",
    "    temp = \"\".join(str(_) for _ in y_data[i-1,:])\n",
    "    y_merge.append(temp)\n",
    "    i = i + 1\n",
    "\n",
    "encoder = LabelEncoder()\n",
    "encoder.fit(y_merge)\n",
    "y_bit = encoder.transform(y_merge)\n",
    "y_bit = y_bit.reshape(-1, 1)\n",
    "print(y_bit)"
   ]
  },
  {
   "cell_type": "code",
   "execution_count": 17,
   "id": "11cef6bf",
   "metadata": {},
   "outputs": [
    {
     "name": "stdout",
     "output_type": "stream",
     "text": [
      "one_hot: [[0. 0. 0. ... 0. 0. 0.]\n",
      " [0. 0. 0. ... 0. 0. 0.]\n",
      " [0. 0. 0. ... 0. 0. 0.]\n",
      " ...\n",
      " [0. 0. 0. ... 0. 0. 0.]\n",
      " [0. 0. 0. ... 0. 0. 0.]\n",
      " [0. 0. 0. ... 0. 0. 0.]]\n"
     ]
    }
   ],
   "source": [
    "# Convert y_data to one_hot\n",
    "y_one_hot = tf.keras.utils.to_categorical(y_bit, nb_classes)\n",
    "print(\"one_hot:\", y_one_hot)"
   ]
  },
  {
   "cell_type": "code",
   "execution_count": 24,
   "id": "c0757c2a",
   "metadata": {},
   "outputs": [
    {
     "name": "stdout",
     "output_type": "stream",
     "text": [
      "Model: \"sequential_4\"\n",
      "_________________________________________________________________\n",
      "Layer (type)                 Output Shape              Param #   \n",
      "=================================================================\n",
      "conv2d_11 (Conv2D)           (None, 3, 4, 32)          160       \n",
      "_________________________________________________________________\n",
      "batch_normalization_11 (Batc (None, 3, 4, 32)          128       \n",
      "_________________________________________________________________\n",
      "activation_11 (Activation)   (None, 3, 4, 32)          0         \n",
      "_________________________________________________________________\n",
      "dropout_11 (Dropout)         (None, 3, 4, 32)          0         \n",
      "_________________________________________________________________\n",
      "conv2d_12 (Conv2D)           (None, 3, 4, 64)          8256      \n",
      "_________________________________________________________________\n",
      "batch_normalization_12 (Batc (None, 3, 4, 64)          256       \n",
      "_________________________________________________________________\n",
      "activation_12 (Activation)   (None, 3, 4, 64)          0         \n",
      "_________________________________________________________________\n",
      "dropout_12 (Dropout)         (None, 3, 4, 64)          0         \n",
      "_________________________________________________________________\n",
      "conv2d_13 (Conv2D)           (None, 3, 4, 64)          16448     \n",
      "_________________________________________________________________\n",
      "batch_normalization_13 (Batc (None, 3, 4, 64)          256       \n",
      "_________________________________________________________________\n",
      "activation_13 (Activation)   (None, 3, 4, 64)          0         \n",
      "_________________________________________________________________\n",
      "dropout_13 (Dropout)         (None, 3, 4, 64)          0         \n",
      "_________________________________________________________________\n",
      "flatten_2 (Flatten)          (None, 768)               0         \n",
      "_________________________________________________________________\n",
      "dense_2 (Dense)              (None, 16)                12304     \n",
      "=================================================================\n",
      "Total params: 37,808\n",
      "Trainable params: 37,488\n",
      "Non-trainable params: 320\n",
      "_________________________________________________________________\n"
     ]
    }
   ],
   "source": [
    "tf.model = tf.keras.Sequential()\n",
    "# L1\n",
    "tf.model.add(tf.keras.layers.Conv2D(filters=32, kernel_size=(2, 2), input_shape=(3,4, 1),\n",
    "                                    padding = 'same', strides = (1,1), kernel_initializer='he_normal'))\n",
    "tf.model.add(tf.keras.layers.BatchNormalization())\n",
    "tf.model.add(tf.keras.layers.Activation('relu'))\n",
    "tf.model.add(tf.keras.layers.Dropout(drop_rate))\n",
    "#tf.model.add(tf.keras.layers.MaxPooling2D(pool_size=(2, 2)))\n",
    "\n",
    "# L2\n",
    "tf.model.add(tf.keras.layers.Conv2D(filters=64, kernel_size=(2, 2),\n",
    "                                    padding = 'same', strides = (1,1), kernel_initializer='he_normal'))\n",
    "tf.model.add(tf.keras.layers.BatchNormalization())\n",
    "tf.model.add(tf.keras.layers.Activation('relu'))\n",
    "tf.model.add(tf.keras.layers.Dropout(drop_rate))\n",
    "#tf.model.add(tf.keras.layers.MaxPooling2D(pool_size=(2, 2)))\n",
    "\n",
    "# L3\n",
    "tf.model.add(tf.keras.layers.Conv2D(filters=64, kernel_size=(2, 2),\n",
    "                                    padding = 'same', strides = (1,1), kernel_initializer='he_normal'))\n",
    "tf.model.add(tf.keras.layers.BatchNormalization())\n",
    "tf.model.add(tf.keras.layers.Activation('relu'))\n",
    "tf.model.add(tf.keras.layers.Dropout(drop_rate))\n",
    "#tf.model.add(tf.keras.layers.MaxPooling2D(pool_size=(2, 2)))\n",
    "\n",
    "# L3 fully connected\n",
    "tf.model.add(tf.keras.layers.Flatten())\n",
    "tf.model.add(tf.keras.layers.Dense(units=nb_classes, kernel_initializer='he_normal', activation='softmax'))\n",
    "\n",
    "tf.model.compile(loss='categorical_crossentropy',\n",
    "                 optimizer=tf.keras.optimizers.Adam(learning_rate=learning_rate), metrics=['accuracy'])\n",
    "tf.model.summary()"
   ]
  },
  {
   "cell_type": "code",
   "execution_count": null,
   "id": "736e7599",
   "metadata": {
    "scrolled": true
   },
   "outputs": [
    {
     "name": "stdout",
     "output_type": "stream",
     "text": [
      "Epoch 1/50\n",
      "2000/2000 [==============================] - 8s 4ms/step - loss: 1.9173 - accuracy: 0.3176 - val_loss: 24.7616 - val_accuracy: 0.0201\n",
      "Epoch 2/50\n",
      "2000/2000 [==============================] - 7s 4ms/step - loss: 1.9177 - accuracy: 0.3162 - val_loss: 25.1584 - val_accuracy: 0.0238\n",
      "Epoch 3/50\n",
      "2000/2000 [==============================] - 7s 4ms/step - loss: 1.9147 - accuracy: 0.3183 - val_loss: 24.9454 - val_accuracy: 0.0240\n",
      "Epoch 4/50\n",
      "2000/2000 [==============================] - 7s 4ms/step - loss: 1.9153 - accuracy: 0.3167 - val_loss: 24.8256 - val_accuracy: 0.0209\n",
      "Epoch 5/50\n",
      "2000/2000 [==============================] - 7s 4ms/step - loss: 1.9126 - accuracy: 0.3175 - val_loss: 24.8517 - val_accuracy: 0.0232\n",
      "Epoch 6/50\n",
      "2000/2000 [==============================] - 7s 4ms/step - loss: 1.9125 - accuracy: 0.3192 - val_loss: 24.8358 - val_accuracy: 0.0227\n",
      "Epoch 7/50\n",
      "2000/2000 [==============================] - 7s 4ms/step - loss: 1.9125 - accuracy: 0.3176 - val_loss: 24.5244 - val_accuracy: 0.0231\n",
      "Epoch 8/50\n",
      "2000/2000 [==============================] - 7s 4ms/step - loss: 1.9125 - accuracy: 0.3190 - val_loss: 24.2786 - val_accuracy: 0.0221\n",
      "Epoch 9/50\n",
      "2000/2000 [==============================] - 7s 4ms/step - loss: 1.9134 - accuracy: 0.3167 - val_loss: 24.6444 - val_accuracy: 0.0252\n",
      "Epoch 10/50\n",
      "2000/2000 [==============================] - 7s 4ms/step - loss: 1.9138 - accuracy: 0.3176 - val_loss: 24.4445 - val_accuracy: 0.0231\n",
      "Epoch 11/50\n",
      "2000/2000 [==============================] - 7s 4ms/step - loss: 1.9147 - accuracy: 0.3196 - val_loss: 24.2261 - val_accuracy: 0.0205\n",
      "Epoch 12/50\n",
      "2000/2000 [==============================] - 7s 4ms/step - loss: 1.9137 - accuracy: 0.3179 - val_loss: 24.3043 - val_accuracy: 0.0230\n",
      "Epoch 13/50\n",
      "2000/2000 [==============================] - 7s 4ms/step - loss: 1.9126 - accuracy: 0.3200 - val_loss: 24.1035 - val_accuracy: 0.0182\n",
      "Epoch 14/50\n",
      "2000/2000 [==============================] - 7s 4ms/step - loss: 1.9137 - accuracy: 0.3178 - val_loss: 24.4285 - val_accuracy: 0.0215\n",
      "Epoch 15/50\n",
      "2000/2000 [==============================] - 7s 4ms/step - loss: 1.9113 - accuracy: 0.3184 - val_loss: 24.1571 - val_accuracy: 0.0210\n",
      "Epoch 16/50\n",
      "2000/2000 [==============================] - 8s 4ms/step - loss: 1.9140 - accuracy: 0.3181 - val_loss: 24.4182 - val_accuracy: 0.0226\n",
      "Epoch 17/50\n",
      "2000/2000 [==============================] - 7s 4ms/step - loss: 1.9125 - accuracy: 0.3200 - val_loss: 24.3810 - val_accuracy: 0.0243\n",
      "Epoch 18/50\n",
      "2000/2000 [==============================] - 8s 4ms/step - loss: 1.9126 - accuracy: 0.3189 - val_loss: 24.1487 - val_accuracy: 0.0213\n",
      "Epoch 19/50\n",
      "2000/2000 [==============================] - 7s 4ms/step - loss: 1.9102 - accuracy: 0.3191 - val_loss: 24.1349 - val_accuracy: 0.0173\n",
      "Epoch 20/50\n",
      "2000/2000 [==============================] - 7s 4ms/step - loss: 1.9128 - accuracy: 0.3177 - val_loss: 23.4980 - val_accuracy: 0.0197\n",
      "Epoch 21/50\n",
      "2000/2000 [==============================] - 7s 4ms/step - loss: 1.9123 - accuracy: 0.3202 - val_loss: 24.0602 - val_accuracy: 0.0210\n",
      "Epoch 22/50\n",
      "2000/2000 [==============================] - 7s 3ms/step - loss: 1.9118 - accuracy: 0.3183 - val_loss: 23.7375 - val_accuracy: 0.0214\n",
      "Epoch 23/50\n",
      "2000/2000 [==============================] - 7s 4ms/step - loss: 1.9100 - accuracy: 0.3186 - val_loss: 24.3126 - val_accuracy: 0.0192\n",
      "Epoch 24/50\n",
      "2000/2000 [==============================] - 7s 4ms/step - loss: 1.9116 - accuracy: 0.3175 - val_loss: 23.8982 - val_accuracy: 0.0216\n",
      "Epoch 25/50\n",
      "2000/2000 [==============================] - 8s 4ms/step - loss: 1.9097 - accuracy: 0.3186 - val_loss: 23.7890 - val_accuracy: 0.0211\n",
      "Epoch 26/50\n",
      "2000/2000 [==============================] - 8s 4ms/step - loss: 1.9084 - accuracy: 0.3207 - val_loss: 24.1660 - val_accuracy: 0.0207\n",
      "Epoch 27/50\n",
      "2000/2000 [==============================] - 7s 4ms/step - loss: 1.9110 - accuracy: 0.3194 - val_loss: 23.8392 - val_accuracy: 0.0202\n",
      "Epoch 28/50\n",
      "2000/2000 [==============================] - 7s 4ms/step - loss: 1.9102 - accuracy: 0.3188 - val_loss: 24.1246 - val_accuracy: 0.0224\n",
      "Epoch 29/50\n",
      "2000/2000 [==============================] - 7s 4ms/step - loss: 1.9121 - accuracy: 0.3192 - val_loss: 23.4552 - val_accuracy: 0.0218\n",
      "Epoch 30/50\n",
      "2000/2000 [==============================] - 7s 4ms/step - loss: 1.9110 - accuracy: 0.3199 - val_loss: 23.2198 - val_accuracy: 0.0229\n",
      "Epoch 31/50\n",
      "2000/2000 [==============================] - 7s 3ms/step - loss: 1.9077 - accuracy: 0.3196 - val_loss: 23.9524 - val_accuracy: 0.0209\n",
      "Epoch 32/50\n",
      "2000/2000 [==============================] - 7s 4ms/step - loss: 1.9104 - accuracy: 0.3191 - val_loss: 23.6563 - val_accuracy: 0.0231\n",
      "Epoch 33/50\n",
      "2000/2000 [==============================] - 7s 4ms/step - loss: 1.9088 - accuracy: 0.3201 - val_loss: 23.7466 - val_accuracy: 0.0208\n",
      "Epoch 34/50\n",
      "2000/2000 [==============================] - 7s 4ms/step - loss: 1.9116 - accuracy: 0.3184 - val_loss: 23.9646 - val_accuracy: 0.0200\n",
      "Epoch 35/50\n",
      "2000/2000 [==============================] - 7s 3ms/step - loss: 1.9088 - accuracy: 0.3192 - val_loss: 23.6109 - val_accuracy: 0.0229\n",
      "Epoch 36/50\n",
      "   1/2000 [..............................] - ETA: 5s - loss: 1.9555 - accuracy: 0.3438"
     ]
    }
   ],
   "source": [
    "history = tf.model.fit(x_data_2D, y_one_hot, validation_split=0.2, batch_size=batch_size, epochs=training_epochs)"
   ]
  },
  {
   "cell_type": "code",
   "execution_count": 10,
   "id": "00838870",
   "metadata": {},
   "outputs": [
    {
     "data": {
      "image/png": "[encoded data removed]",
      "text/plain": [
       "<Figure size 460.8x403.2 with 1 Axes>"
      ]
     },
     "metadata": {},
     "output_type": "display_data"
    }
   ],
   "source": [
    "# 모델 손실 함수 시각화\n",
    "from jupyterthemes import jtplot\n",
    "jtplot.style(theme='monokai')\n",
    "\n",
    "plt.plot(history.history['loss'], 'b-', label='loss')\n",
    "plt.plot(history.history['val_loss'], 'r-', label='val_loss')\n",
    "plt.title('Model loss')\n",
    "plt.xlabel('Epoch')\n",
    "plt.ylabel('Loss')\n",
    "plt.legend()\n",
    "plt.show()"
   ]
  },
  {
   "cell_type": "code",
   "execution_count": 11,
   "id": "61ae347f",
   "metadata": {},
   "outputs": [
    {
     "data": {
      "image/png": "[encoded data removed]",
      "text/plain": [
       "<Figure size 460.8x403.2 with 1 Axes>"
      ]
     },
     "metadata": {},
     "output_type": "display_data"
    }
   ],
   "source": [
    "# 모델 정확도 시각화\n",
    "plt.plot(history.history['accuracy'], 'g-', label='accuracy')\n",
    "plt.plot(history.history['val_accuracy'], 'r-', label='val_accuracy')\n",
    "plt.title('Model Accuracy')\n",
    "plt.xlabel('Epoch')\n",
    "plt.ylabel('Accuracy')\n",
    "plt.legend()\n",
    "plt.show()"
   ]
  },
  {
   "cell_type": "code",
   "execution_count": 12,
   "id": "7ebaffe4",
   "metadata": {},
   "outputs": [
    {
     "name": "stdout",
     "output_type": "stream",
     "text": [
      "(160000, 20) (160000, 4)\n"
     ]
    }
   ],
   "source": [
    "# Full x_data test\n",
    "test_data = np.loadtxt('MIMO_2_0dB_NoC_16_test.csv', delimiter=',', dtype=np.float32)\n",
    "x_test_data = test_data[:, 1:21]\n",
    "y_test_data = test_data[:, -4:]\n",
    "print(x_test_data.shape, y_test_data.shape)"
   ]
  },
  {
   "cell_type": "code",
   "execution_count": 13,
   "id": "0bda238f",
   "metadata": {},
   "outputs": [
    {
     "name": "stdout",
     "output_type": "stream",
     "text": [
      "(160000, 20)\n"
     ]
    }
   ],
   "source": [
    "scaler = StandardScaler() \n",
    "scaler.fit(x_test_data)\n",
    "x_test_data_scaled = scaler.transform(x_test_data)\n",
    "#print(x_test_data_scaled)\n",
    "print(x_test_data_scaled.shape)"
   ]
  },
  {
   "cell_type": "code",
   "execution_count": 14,
   "id": "af682c93",
   "metadata": {},
   "outputs": [
    {
     "name": "stdout",
     "output_type": "stream",
     "text": [
      "(160000, 20, 20)\n"
     ]
    }
   ],
   "source": [
    "x_test_data_2D = np.zeros(shape=(x_test_data.shape[0],x_test_data.shape[1],x_test_data.shape[1]))\n",
    "print(x_test_data_2D.shape)\n",
    "for num0 in range(0, x_test_data.shape[0]):\n",
    "    for num1 in range(0, x_test_data.shape[1]):\n",
    "        temp1 = x_test_data_scaled[num0].reshape(x_test_data.shape[1])\n",
    "        temp2 = np.roll(temp1, num1)\n",
    "        x_test_data_2D[num0, :, num1] = temp2\n",
    "#print(x_test_data_2D)"
   ]
  },
  {
   "cell_type": "code",
   "execution_count": 15,
   "id": "dcbf7b98",
   "metadata": {},
   "outputs": [
    {
     "name": "stdout",
     "output_type": "stream",
     "text": [
      "(160000, 20, 20, 1)\n"
     ]
    }
   ],
   "source": [
    "x_test_data_2D = x_test_data_2D.reshape(x_test_data.shape[0],x_test_data.shape[1],x_test_data.shape[1], 1)\n",
    "print(x_test_data_2D.shape)"
   ]
  },
  {
   "cell_type": "code",
   "execution_count": 16,
   "id": "e753dfe8",
   "metadata": {},
   "outputs": [
    {
     "name": "stdout",
     "output_type": "stream",
     "text": [
      "[[ 3]\n",
      " [ 3]\n",
      " [ 3]\n",
      " ...\n",
      " [12]\n",
      " [12]\n",
      " [12]]\n"
     ]
    }
   ],
   "source": [
    "# Convert y_test_data to y_test_bit\n",
    "i=1\n",
    "y_test_merge = []\n",
    "while i <= y_test_data.shape[0]:\n",
    "    temp2 = \"\".join(str(_) for _ in y_test_data[i-1,:])\n",
    "    y_test_merge.append(temp2)\n",
    "    i = i + 1\n",
    "\n",
    "encoder = LabelEncoder()\n",
    "encoder.fit(y_test_merge)\n",
    "y_test_bit = encoder.transform(y_test_merge)\n",
    "y_test_bit = y_test_bit.reshape(-1, 1)\n",
    "print(y_test_bit)"
   ]
  },
  {
   "cell_type": "code",
   "execution_count": 17,
   "id": "083be07a",
   "metadata": {},
   "outputs": [
    {
     "name": "stdout",
     "output_type": "stream",
     "text": [
      "one_hot: [[0. 0. 0. ... 0. 0. 0.]\n",
      " [0. 0. 0. ... 0. 0. 0.]\n",
      " [0. 0. 0. ... 0. 0. 0.]\n",
      " ...\n",
      " [0. 0. 0. ... 0. 0. 0.]\n",
      " [0. 0. 0. ... 0. 0. 0.]\n",
      " [0. 0. 0. ... 0. 0. 0.]]\n"
     ]
    }
   ],
   "source": [
    "# Convert y_data to one_hot\n",
    "y_test_one_hot = tf.keras.utils.to_categorical(y_test_bit, nb_classes)\n",
    "print(\"one_hot:\", y_test_one_hot)"
   ]
  },
  {
   "cell_type": "code",
   "execution_count": 18,
   "id": "97d9ac19",
   "metadata": {},
   "outputs": [
    {
     "name": "stdout",
     "output_type": "stream",
     "text": [
      "5000/5000 [==============================] - 10s 2ms/step - loss: 5.1091 - accuracy: 0.4068\n",
      "loss:  5.1091227531433105\n",
      "accuracy 0.4067875146865845\n"
     ]
    }
   ],
   "source": [
    "evaluation = tf.model.evaluate(x_test_data_2D, y_test_one_hot)\n",
    "print('loss: ', evaluation[0])\n",
    "print('accuracy', evaluation[1])"
   ]
  },
  {
   "cell_type": "code",
   "execution_count": 19,
   "id": "90f93885",
   "metadata": {},
   "outputs": [],
   "source": [
    "#pre_error_cnt = 0\n",
    "predict_x = tf.model.predict(x_test_data_2D) \n",
    "pred = np.argmax(predict_x,axis=1)\n",
    "#for p, y in zip(pred, y_test_bit.flatten()):\n",
    "    #print(\"[{}] Prediction: {} True Y: {}\".format(p == int(y), p, int(y)))\n",
    "    #if p != int(y):\n",
    "        #pre_error_cnt += 1\n",
    "#print(\"Prediction Error Count : \", pre_error_cnt)"
   ]
  },
  {
   "cell_type": "code",
   "execution_count": 20,
   "id": "bc3a1ff2",
   "metadata": {},
   "outputs": [
    {
     "name": "stdout",
     "output_type": "stream",
     "text": [
      "Error : 94914\n",
      "Error Count: 143716\n"
     ]
    }
   ],
   "source": [
    "res_pred = pred.reshape(y_test_data.shape[0], 1)\n",
    "error_cnt = 0\n",
    "error = 0\n",
    "for i in range(0, y_test_data.shape[0]):\n",
    "    if res_pred[i] != y_test_bit[i]:\n",
    "        #print(\"False : {}\".format(i))\n",
    "        #print(\"[{}] data : {}\".format(i, y_test_data[i]))\n",
    "        error += 1\n",
    "        for n in range(0, y_test_data.shape[0], int(y_test_data.shape[0]/nb_classes)):\n",
    "            if y_test_bit[n] == res_pred[i]:\n",
    "                #print(\"[{}] pred data: {}\".format(n, y_test_data[n]))\n",
    "                bit_error = 0\n",
    "                for m in range(0, y_test_data.shape[1]): \n",
    "                    if y_test_data[i, m] != y_test_data[n, m]:\n",
    "                        bit_error += 1\n",
    "                        error_cnt += 1\n",
    "                #print(\"bit error count : \", bit_error)\n",
    "                break\n",
    "print(\"Error : {}\".format(error))\n",
    "print(\"Error Count: {}\".format(error_cnt))"
   ]
  },
  {
   "cell_type": "code",
   "execution_count": 21,
   "id": "1a58d3f5",
   "metadata": {},
   "outputs": [
    {
     "name": "stdout",
     "output_type": "stream",
     "text": [
      "BER: 0.22455625\n"
     ]
    }
   ],
   "source": [
    "BER = (error_cnt)/(y_test_data.shape[0]*2*2)\n",
    "print(\"BER: {}\".format(BER))"
   ]
  },
  {
   "cell_type": "code",
   "execution_count": null,
   "id": "79ec718e",
   "metadata": {},
   "outputs": [],
   "source": []
  }
 ],
 "metadata": {
  "kernelspec": {
   "display_name": "Python 3 (ipykernel)",
   "language": "python",
   "name": "python3"
  },
  "language_info": {
   "codemirror_mode": {
    "name": "ipython",
    "version": 3
   },
   "file_extension": ".py",
   "mimetype": "text/x-python",
   "name": "python",
   "nbconvert_exporter": "python",
   "pygments_lexer": "ipython3",
   "version": "3.8.12"
  }
 },
 "nbformat": 4,
 "nbformat_minor": 5
}
