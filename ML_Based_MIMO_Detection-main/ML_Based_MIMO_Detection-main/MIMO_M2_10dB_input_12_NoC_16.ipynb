{
 "cells": [
  {
   "cell_type": "code",
   "execution_count": 1,
   "id": "39878172",
   "metadata": {},
   "outputs": [],
   "source": [
    "import numpy as np\n",
    "import random\n",
    "import matplotlib.pyplot as plt\n",
    "import tensorflow as tf\n",
    "from sklearn.model_selection import train_test_split\n",
    "from sklearn.preprocessing import LabelEncoder\n",
    "\n",
    "random.seed(777)  # for reproducibility\n",
    "learning_rate = 0.001\n",
    "batch_size = 4000\n",
    "training_epochs = 100\n",
    "nb_classes = 16\n",
    "drop_rate = 0.3"
   ]
  },
  {
   "cell_type": "code",
   "execution_count": 2,
   "id": "6a28f0ed",
   "metadata": {
    "scrolled": false
   },
   "outputs": [
    {
     "name": "stdout",
     "output_type": "stream",
     "text": [
      "(1600000, 12) (1600000, 4)\n",
      "[ 0.28733772 -1.2564709   2.093003   -1.1027942   0.03906739 -0.21598771\n",
      "  0.78338575 -0.5796818  -0.5531299   1.13312    -1.3700281   0.05554325]\n"
     ]
    }
   ],
   "source": [
    "xy = np.loadtxt('MIMO_2_10dB_NoC_16.csv', delimiter=',', dtype=np.float32)\n",
    "x_data = xy[:, 1:13]\n",
    "y_data = xy[:, -4:]\n",
    "\n",
    "print(x_data.shape, y_data.shape)\n",
    "print(x_data[0])"
   ]
  },
  {
   "cell_type": "code",
   "execution_count": 3,
   "id": "ee73316f",
   "metadata": {},
   "outputs": [
    {
     "name": "stdout",
     "output_type": "stream",
     "text": [
      "[[ 3]\n",
      " [ 3]\n",
      " [ 3]\n",
      " ...\n",
      " [12]\n",
      " [12]\n",
      " [12]]\n"
     ]
    }
   ],
   "source": [
    "# Convert y_data to y_bit\n",
    "i=1\n",
    "y_merge = []\n",
    "while i <= y_data.shape[0]:\n",
    "    temp = \"\".join(str(_) for _ in y_data[i-1,:])\n",
    "    y_merge.append(temp)\n",
    "    i = i + 1\n",
    "\n",
    "encoder = LabelEncoder()\n",
    "encoder.fit(y_merge)\n",
    "y_bit = encoder.transform(y_merge)\n",
    "y_bit = y_bit.reshape(-1, 1)\n",
    "print(y_bit)"
   ]
  },
  {
   "cell_type": "code",
   "execution_count": 4,
   "id": "633ea46e",
   "metadata": {},
   "outputs": [
    {
     "name": "stdout",
     "output_type": "stream",
     "text": [
      "one_hot: [[0. 0. 0. ... 0. 0. 0.]\n",
      " [0. 0. 0. ... 0. 0. 0.]\n",
      " [0. 0. 0. ... 0. 0. 0.]\n",
      " ...\n",
      " [0. 0. 0. ... 0. 0. 0.]\n",
      " [0. 0. 0. ... 0. 0. 0.]\n",
      " [0. 0. 0. ... 0. 0. 0.]]\n"
     ]
    }
   ],
   "source": [
    "# Convert y_data to one_hot\n",
    "y_one_hot = tf.keras.utils.to_categorical(y_bit, nb_classes)\n",
    "print(\"one_hot:\", y_one_hot)"
   ]
  },
  {
   "cell_type": "code",
   "execution_count": 5,
   "id": "d6f44f52",
   "metadata": {},
   "outputs": [],
   "source": [
    "tf.model = tf.keras.Sequential()\n",
    "# Glorot normal initializer, also called Xavier normal initializer.\n",
    "# see https://www.tensorflow.org/api_docs/python/tf/initializers"
   ]
  },
  {
   "cell_type": "code",
   "execution_count": 6,
   "id": "9e58a9ba",
   "metadata": {},
   "outputs": [
    {
     "name": "stdout",
     "output_type": "stream",
     "text": [
      "Model: \"sequential\"\n",
      "_________________________________________________________________\n",
      "Layer (type)                 Output Shape              Param #   \n",
      "=================================================================\n",
      "dense (Dense)                (None, 768)               9984      \n",
      "_________________________________________________________________\n",
      "dropout (Dropout)            (None, 768)               0         \n",
      "_________________________________________________________________\n",
      "dense_1 (Dense)              (None, 384)               295296    \n",
      "_________________________________________________________________\n",
      "dropout_1 (Dropout)          (None, 384)               0         \n",
      "_________________________________________________________________\n",
      "dense_2 (Dense)              (None, 192)               73920     \n",
      "_________________________________________________________________\n",
      "dropout_2 (Dropout)          (None, 192)               0         \n",
      "_________________________________________________________________\n",
      "dense_3 (Dense)              (None, 16)                3088      \n",
      "=================================================================\n",
      "Total params: 382,288\n",
      "Trainable params: 382,288\n",
      "Non-trainable params: 0\n",
      "_________________________________________________________________\n"
     ]
    }
   ],
   "source": [
    "tf.model.add(tf.keras.layers.Dense(input_dim=x_data.shape[1], units=768, kernel_regularizer=tf.keras.regularizers.l2(0.001), activation='relu'))\n",
    "tf.model.add(tf.keras.layers.Dropout(drop_rate))\n",
    "tf.model.add(tf.keras.layers.Dense(units=384, kernel_regularizer=tf.keras.regularizers.l2(0.001), activation='relu'))\n",
    "tf.model.add(tf.keras.layers.Dropout(drop_rate))\n",
    "tf.model.add(tf.keras.layers.Dense(units=192, kernel_regularizer=tf.keras.regularizers.l2(0.001), activation='relu'))\n",
    "tf.model.add(tf.keras.layers.Dropout(drop_rate))\n",
    "tf.model.add(tf.keras.layers.Dense(units=nb_classes, activation='softmax'))\n",
    "tf.model.compile(loss='categorical_crossentropy',\n",
    "                 optimizer=tf.keras.optimizers.Adam(learning_rate=learning_rate), metrics=['accuracy'])\n",
    "tf.model.summary()"
   ]
  },
  {
   "cell_type": "code",
   "execution_count": 7,
   "id": "c346ad84",
   "metadata": {
    "scrolled": true
   },
   "outputs": [
    {
     "name": "stdout",
     "output_type": "stream",
     "text": [
      "Epoch 1/100\n",
      "400/400 [==============================] - 3s 5ms/step - loss: 1.3245 - accuracy: 0.6433\n",
      "Epoch 2/100\n",
      "400/400 [==============================] - 2s 5ms/step - loss: 0.8865 - accuracy: 0.7513\n",
      "Epoch 3/100\n",
      "400/400 [==============================] - 2s 5ms/step - loss: 0.8352 - accuracy: 0.7644\n",
      "Epoch 4/100\n",
      "400/400 [==============================] - 2s 5ms/step - loss: 0.8072 - accuracy: 0.7723\n",
      "Epoch 5/100\n",
      "400/400 [==============================] - 2s 5ms/step - loss: 0.7854 - accuracy: 0.7789\n",
      "Epoch 6/100\n",
      "400/400 [==============================] - 2s 5ms/step - loss: 0.7687 - accuracy: 0.7835\n",
      "Epoch 7/100\n",
      "400/400 [==============================] - 2s 5ms/step - loss: 0.7547 - accuracy: 0.7877\n",
      "Epoch 8/100\n",
      "400/400 [==============================] - 2s 5ms/step - loss: 0.7433 - accuracy: 0.7904\n",
      "Epoch 9/100\n",
      "400/400 [==============================] - 2s 5ms/step - loss: 0.7337 - accuracy: 0.7925\n",
      "Epoch 10/100\n",
      "400/400 [==============================] - 2s 5ms/step - loss: 0.7252 - accuracy: 0.7940\n",
      "Epoch 11/100\n",
      "400/400 [==============================] - 2s 5ms/step - loss: 0.7174 - accuracy: 0.7953\n",
      "Epoch 12/100\n",
      "400/400 [==============================] - 2s 5ms/step - loss: 0.7133 - accuracy: 0.7955\n",
      "Epoch 13/100\n",
      "400/400 [==============================] - 2s 5ms/step - loss: 0.7060 - accuracy: 0.7967\n",
      "Epoch 14/100\n",
      "400/400 [==============================] - 2s 5ms/step - loss: 0.7020 - accuracy: 0.7971\n",
      "Epoch 15/100\n",
      "400/400 [==============================] - 2s 5ms/step - loss: 0.6986 - accuracy: 0.7971\n",
      "Epoch 16/100\n",
      "400/400 [==============================] - 2s 5ms/step - loss: 0.6940 - accuracy: 0.7981\n",
      "Epoch 17/100\n",
      "400/400 [==============================] - 2s 5ms/step - loss: 0.6891 - accuracy: 0.7988\n",
      "Epoch 18/100\n",
      "400/400 [==============================] - 2s 5ms/step - loss: 0.6869 - accuracy: 0.7991\n",
      "Epoch 19/100\n",
      "400/400 [==============================] - 2s 5ms/step - loss: 0.6832 - accuracy: 0.7995\n",
      "Epoch 20/100\n",
      "400/400 [==============================] - 2s 5ms/step - loss: 0.6807 - accuracy: 0.7995\n",
      "Epoch 21/100\n",
      "400/400 [==============================] - 2s 5ms/step - loss: 0.6788 - accuracy: 0.7996\n",
      "Epoch 22/100\n",
      "400/400 [==============================] - 2s 5ms/step - loss: 0.6766 - accuracy: 0.7999\n",
      "Epoch 23/100\n",
      "400/400 [==============================] - 2s 5ms/step - loss: 0.6731 - accuracy: 0.8003\n",
      "Epoch 24/100\n",
      "400/400 [==============================] - 2s 5ms/step - loss: 0.6723 - accuracy: 0.7997\n",
      "Epoch 25/100\n",
      "400/400 [==============================] - 2s 5ms/step - loss: 0.6696 - accuracy: 0.8002\n",
      "Epoch 26/100\n",
      "400/400 [==============================] - 2s 5ms/step - loss: 0.6681 - accuracy: 0.8003\n",
      "Epoch 27/100\n",
      "400/400 [==============================] - 2s 5ms/step - loss: 0.6674 - accuracy: 0.8004\n",
      "Epoch 28/100\n",
      "400/400 [==============================] - 2s 5ms/step - loss: 0.6651 - accuracy: 0.8007\n",
      "Epoch 29/100\n",
      "400/400 [==============================] - 2s 5ms/step - loss: 0.6640 - accuracy: 0.8003\n",
      "Epoch 30/100\n",
      "400/400 [==============================] - 2s 5ms/step - loss: 0.6626 - accuracy: 0.8008\n",
      "Epoch 31/100\n",
      "400/400 [==============================] - 2s 5ms/step - loss: 0.6610 - accuracy: 0.8010\n",
      "Epoch 32/100\n",
      "400/400 [==============================] - 2s 5ms/step - loss: 0.6611 - accuracy: 0.8006\n",
      "Epoch 33/100\n",
      "400/400 [==============================] - 2s 5ms/step - loss: 0.6601 - accuracy: 0.8007\n",
      "Epoch 34/100\n",
      "400/400 [==============================] - 2s 5ms/step - loss: 0.6581 - accuracy: 0.8009\n",
      "Epoch 35/100\n",
      "400/400 [==============================] - 2s 5ms/step - loss: 0.6574 - accuracy: 0.8008\n",
      "Epoch 36/100\n",
      "400/400 [==============================] - 2s 5ms/step - loss: 0.6561 - accuracy: 0.8012\n",
      "Epoch 37/100\n",
      "400/400 [==============================] - 2s 5ms/step - loss: 0.6555 - accuracy: 0.8010\n",
      "Epoch 38/100\n",
      "400/400 [==============================] - 2s 5ms/step - loss: 0.6548 - accuracy: 0.8011\n",
      "Epoch 39/100\n",
      "400/400 [==============================] - 2s 5ms/step - loss: 0.6543 - accuracy: 0.8009\n",
      "Epoch 40/100\n",
      "400/400 [==============================] - 2s 5ms/step - loss: 0.6542 - accuracy: 0.8009\n",
      "Epoch 41/100\n",
      "400/400 [==============================] - 2s 5ms/step - loss: 0.6523 - accuracy: 0.8014\n",
      "Epoch 42/100\n",
      "400/400 [==============================] - 2s 5ms/step - loss: 0.6520 - accuracy: 0.8013\n",
      "Epoch 43/100\n",
      "400/400 [==============================] - 2s 5ms/step - loss: 0.6512 - accuracy: 0.8014\n",
      "Epoch 44/100\n",
      "400/400 [==============================] - 2s 5ms/step - loss: 0.6499 - accuracy: 0.8012\n",
      "Epoch 45/100\n",
      "400/400 [==============================] - 2s 5ms/step - loss: 0.6504 - accuracy: 0.8015\n",
      "Epoch 46/100\n",
      "400/400 [==============================] - 2s 5ms/step - loss: 0.6499 - accuracy: 0.8011\n",
      "Epoch 47/100\n",
      "400/400 [==============================] - 2s 5ms/step - loss: 0.6488 - accuracy: 0.8017\n",
      "Epoch 48/100\n",
      "400/400 [==============================] - 2s 5ms/step - loss: 0.6480 - accuracy: 0.8015\n",
      "Epoch 49/100\n",
      "400/400 [==============================] - 2s 5ms/step - loss: 0.6475 - accuracy: 0.8012\n",
      "Epoch 50/100\n",
      "400/400 [==============================] - 2s 5ms/step - loss: 0.6479 - accuracy: 0.8013\n",
      "Epoch 51/100\n",
      "400/400 [==============================] - 2s 5ms/step - loss: 0.6463 - accuracy: 0.8016\n",
      "Epoch 52/100\n",
      "400/400 [==============================] - 2s 5ms/step - loss: 0.6463 - accuracy: 0.8014\n",
      "Epoch 53/100\n",
      "400/400 [==============================] - 2s 5ms/step - loss: 0.6466 - accuracy: 0.8011\n",
      "Epoch 54/100\n",
      "400/400 [==============================] - 2s 5ms/step - loss: 0.6470 - accuracy: 0.8008\n",
      "Epoch 55/100\n",
      "400/400 [==============================] - 2s 5ms/step - loss: 0.6458 - accuracy: 0.8015\n",
      "Epoch 56/100\n",
      "400/400 [==============================] - 2s 5ms/step - loss: 0.6438 - accuracy: 0.8021\n",
      "Epoch 57/100\n",
      "400/400 [==============================] - 2s 5ms/step - loss: 0.6451 - accuracy: 0.8015\n",
      "Epoch 58/100\n",
      "400/400 [==============================] - 2s 5ms/step - loss: 0.6452 - accuracy: 0.8014\n",
      "Epoch 59/100\n",
      "400/400 [==============================] - 2s 5ms/step - loss: 0.6441 - accuracy: 0.8016\n",
      "Epoch 60/100\n",
      "400/400 [==============================] - 2s 5ms/step - loss: 0.6442 - accuracy: 0.8010\n",
      "Epoch 61/100\n",
      "400/400 [==============================] - 2s 5ms/step - loss: 0.6429 - accuracy: 0.8017\n",
      "Epoch 62/100\n",
      "400/400 [==============================] - 2s 5ms/step - loss: 0.6428 - accuracy: 0.8013\n",
      "Epoch 63/100\n",
      "400/400 [==============================] - 2s 5ms/step - loss: 0.6424 - accuracy: 0.8018\n",
      "Epoch 64/100\n",
      "400/400 [==============================] - 2s 5ms/step - loss: 0.6423 - accuracy: 0.8012\n",
      "Epoch 65/100\n",
      "400/400 [==============================] - 2s 5ms/step - loss: 0.6429 - accuracy: 0.8014\n",
      "Epoch 66/100\n",
      "400/400 [==============================] - 2s 5ms/step - loss: 0.6420 - accuracy: 0.8012\n",
      "Epoch 67/100\n",
      "400/400 [==============================] - 2s 5ms/step - loss: 0.6415 - accuracy: 0.8016\n",
      "Epoch 68/100\n",
      "400/400 [==============================] - 2s 5ms/step - loss: 0.6422 - accuracy: 0.8009\n",
      "Epoch 69/100\n",
      "400/400 [==============================] - 2s 5ms/step - loss: 0.6404 - accuracy: 0.8018\n",
      "Epoch 70/100\n",
      "400/400 [==============================] - 2s 5ms/step - loss: 0.6418 - accuracy: 0.8014\n",
      "Epoch 71/100\n",
      "400/400 [==============================] - 2s 5ms/step - loss: 0.6408 - accuracy: 0.8014\n",
      "Epoch 72/100\n",
      "400/400 [==============================] - 2s 5ms/step - loss: 0.6403 - accuracy: 0.8013\n",
      "Epoch 73/100\n",
      "400/400 [==============================] - 2s 5ms/step - loss: 0.6394 - accuracy: 0.8017\n",
      "Epoch 74/100\n",
      "400/400 [==============================] - 2s 5ms/step - loss: 0.6405 - accuracy: 0.8015\n",
      "Epoch 75/100\n",
      "400/400 [==============================] - 2s 5ms/step - loss: 0.6387 - accuracy: 0.8018\n",
      "Epoch 76/100\n",
      "400/400 [==============================] - 2s 5ms/step - loss: 0.6398 - accuracy: 0.8010\n",
      "Epoch 77/100\n",
      "400/400 [==============================] - 2s 5ms/step - loss: 0.6395 - accuracy: 0.8011\n",
      "Epoch 78/100\n",
      "400/400 [==============================] - 2s 5ms/step - loss: 0.6392 - accuracy: 0.8015\n",
      "Epoch 79/100\n",
      "400/400 [==============================] - 2s 5ms/step - loss: 0.6395 - accuracy: 0.8015\n",
      "Epoch 80/100\n",
      "400/400 [==============================] - 2s 5ms/step - loss: 0.6388 - accuracy: 0.8014\n",
      "Epoch 81/100\n"
     ]
    },
    {
     "name": "stdout",
     "output_type": "stream",
     "text": [
      "400/400 [==============================] - 2s 5ms/step - loss: 0.6382 - accuracy: 0.8016\n",
      "Epoch 82/100\n",
      "400/400 [==============================] - 2s 5ms/step - loss: 0.6380 - accuracy: 0.8016\n",
      "Epoch 83/100\n",
      "400/400 [==============================] - 2s 5ms/step - loss: 0.6373 - accuracy: 0.8017\n",
      "Epoch 84/100\n",
      "400/400 [==============================] - 2s 5ms/step - loss: 0.6382 - accuracy: 0.8014\n",
      "Epoch 85/100\n",
      "400/400 [==============================] - 2s 5ms/step - loss: 0.6383 - accuracy: 0.8015\n",
      "Epoch 86/100\n",
      "400/400 [==============================] - 2s 5ms/step - loss: 0.6368 - accuracy: 0.8017\n",
      "Epoch 87/100\n",
      "400/400 [==============================] - 2s 5ms/step - loss: 0.6365 - accuracy: 0.8019\n",
      "Epoch 88/100\n",
      "400/400 [==============================] - 2s 5ms/step - loss: 0.6372 - accuracy: 0.8013\n",
      "Epoch 89/100\n",
      "400/400 [==============================] - 2s 5ms/step - loss: 0.6374 - accuracy: 0.8016\n",
      "Epoch 90/100\n",
      "400/400 [==============================] - 2s 5ms/step - loss: 0.6378 - accuracy: 0.8010\n",
      "Epoch 91/100\n",
      "400/400 [==============================] - 2s 5ms/step - loss: 0.6376 - accuracy: 0.8012\n",
      "Epoch 92/100\n",
      "400/400 [==============================] - 2s 5ms/step - loss: 0.6362 - accuracy: 0.8015\n",
      "Epoch 93/100\n",
      "400/400 [==============================] - 2s 5ms/step - loss: 0.6380 - accuracy: 0.8008\n",
      "Epoch 94/100\n",
      "400/400 [==============================] - 2s 5ms/step - loss: 0.6358 - accuracy: 0.8015\n",
      "Epoch 95/100\n",
      "400/400 [==============================] - 2s 5ms/step - loss: 0.6366 - accuracy: 0.8015\n",
      "Epoch 96/100\n",
      "400/400 [==============================] - 2s 5ms/step - loss: 0.6366 - accuracy: 0.8013\n",
      "Epoch 97/100\n",
      "400/400 [==============================] - 2s 5ms/step - loss: 0.6353 - accuracy: 0.8014\n",
      "Epoch 98/100\n",
      "400/400 [==============================] - 2s 5ms/step - loss: 0.6352 - accuracy: 0.8019\n",
      "Epoch 99/100\n",
      "400/400 [==============================] - 2s 5ms/step - loss: 0.6367 - accuracy: 0.8014\n",
      "Epoch 100/100\n",
      "400/400 [==============================] - 2s 5ms/step - loss: 0.6353 - accuracy: 0.8016\n"
     ]
    }
   ],
   "source": [
    "history = tf.model.fit(x_data, y_one_hot, batch_size=batch_size , epochs=training_epochs)"
   ]
  },
  {
   "cell_type": "code",
   "execution_count": 8,
   "id": "0f3f6697",
   "metadata": {},
   "outputs": [
    {
     "data": {
      "image/png": "[encoded data removed]",
      "text/plain": [
       "<Figure size 460.8x403.2 with 1 Axes>"
      ]
     },
     "metadata": {},
     "output_type": "display_data"
    }
   ],
   "source": [
    "# 모델 손실 함수 시각화\n",
    "from jupyterthemes import jtplot\n",
    "jtplot.style(theme='monokai')\n",
    "\n",
    "plt.plot(history.history['loss'], 'b-', label='loss')\n",
    "#plt.plot(history.history['val_loss'], 'r-', label='val_loss')\n",
    "plt.title('Model loss')\n",
    "plt.xlabel('Epoch')\n",
    "plt.ylabel('Loss')\n",
    "plt.legend()\n",
    "plt.show()"
   ]
  },
  {
   "cell_type": "code",
   "execution_count": 9,
   "id": "83e399f2",
   "metadata": {},
   "outputs": [
    {
     "data": {
      "image/png": "[encoded data removed]",
      "text/plain": [
       "<Figure size 460.8x403.2 with 1 Axes>"
      ]
     },
     "metadata": {},
     "output_type": "display_data"
    }
   ],
   "source": [
    "# 모델 정확도 시각화\n",
    "plt.plot(history.history['accuracy'], 'g-', label='accuracy')\n",
    "#plt.plot(history.history['val_accuracy'], 'r-', label='val_accuracy')\n",
    "plt.title('Model Accuracy')\n",
    "plt.xlabel('Epoch')\n",
    "plt.ylabel('Accuracy')\n",
    "plt.legend()\n",
    "plt.show()"
   ]
  },
  {
   "cell_type": "code",
   "execution_count": 10,
   "id": "f860be4f",
   "metadata": {},
   "outputs": [
    {
     "name": "stdout",
     "output_type": "stream",
     "text": [
      "(320000, 12) (320000, 4)\n"
     ]
    }
   ],
   "source": [
    "# Full x_data test\n",
    "test_data = np.loadtxt('MIMO_2_10dB_NoC_16_test.csv', delimiter=',', dtype=np.float32)\n",
    "x_test_data = test_data[:, 1:13]\n",
    "y_test_data = test_data[:, -4:]\n",
    "print(x_test_data.shape, y_test_data.shape)"
   ]
  },
  {
   "cell_type": "code",
   "execution_count": 11,
   "id": "1b49e243",
   "metadata": {},
   "outputs": [
    {
     "name": "stdout",
     "output_type": "stream",
     "text": [
      "[[ 3]\n",
      " [ 3]\n",
      " [ 3]\n",
      " ...\n",
      " [12]\n",
      " [12]\n",
      " [12]]\n"
     ]
    }
   ],
   "source": [
    "# Convert y_test_data to y_test_bit\n",
    "i=1\n",
    "y_test_merge = []\n",
    "while i <= y_test_data.shape[0]:\n",
    "    temp2 = \"\".join(str(_) for _ in y_test_data[i-1,:])\n",
    "    y_test_merge.append(temp2)\n",
    "    i = i + 1\n",
    "\n",
    "encoder = LabelEncoder()\n",
    "encoder.fit(y_test_merge)\n",
    "y_test_bit = encoder.transform(y_test_merge)\n",
    "y_test_bit = y_test_bit.reshape(-1, 1)\n",
    "print(y_test_bit)"
   ]
  },
  {
   "cell_type": "code",
   "execution_count": 12,
   "id": "02ceb9be",
   "metadata": {},
   "outputs": [
    {
     "name": "stdout",
     "output_type": "stream",
     "text": [
      "one_hot: [[0. 0. 0. ... 0. 0. 0.]\n",
      " [0. 0. 0. ... 0. 0. 0.]\n",
      " [0. 0. 0. ... 0. 0. 0.]\n",
      " ...\n",
      " [0. 0. 0. ... 0. 0. 0.]\n",
      " [0. 0. 0. ... 0. 0. 0.]\n",
      " [0. 0. 0. ... 0. 0. 0.]]\n"
     ]
    }
   ],
   "source": [
    "# Convert y_data to one_hot\n",
    "y_test_one_hot = tf.keras.utils.to_categorical(y_test_bit, nb_classes)\n",
    "print(\"one_hot:\", y_test_one_hot)"
   ]
  },
  {
   "cell_type": "code",
   "execution_count": 13,
   "id": "26d7e049",
   "metadata": {},
   "outputs": [
    {
     "name": "stdout",
     "output_type": "stream",
     "text": [
      "10000/10000 [==============================] - 14s 1ms/step - loss: 0.5434 - accuracy: 0.8355\n",
      "loss:  0.543390154838562\n",
      "accuracy 0.8354562520980835\n"
     ]
    }
   ],
   "source": [
    "evaluation = tf.model.evaluate(x_test_data, y_test_one_hot)\n",
    "print('loss: ', evaluation[0])\n",
    "print('accuracy', evaluation[1])"
   ]
  },
  {
   "cell_type": "code",
   "execution_count": 14,
   "id": "d62b59fa",
   "metadata": {},
   "outputs": [],
   "source": [
    "#pre_error_cnt = 0\n",
    "predict_x = tf.model.predict(x_test_data) \n",
    "pred = np.argmax(predict_x,axis=1)\n",
    "#for p, y in zip(pred, y_test_bit.flatten()):\n",
    "    #print(\"[{}] Prediction: {} True Y: {}\".format(p == int(y), p, int(y)))\n",
    "    #if p != int(y):\n",
    "        #pre_error_cnt += 1\n",
    "#print(\"Prediction Error Count : \", pre_error_cnt)"
   ]
  },
  {
   "cell_type": "code",
   "execution_count": 15,
   "id": "e5514203",
   "metadata": {},
   "outputs": [
    {
     "name": "stdout",
     "output_type": "stream",
     "text": [
      "Error : 52654\n",
      "Error Count: 74676\n"
     ]
    }
   ],
   "source": [
    "res_pred = pred.reshape(y_test_data.shape[0], 1)\n",
    "error_cnt = 0\n",
    "error = 0\n",
    "for i in range(0, y_test_data.shape[0]):\n",
    "    if res_pred[i] != y_test_bit[i]:\n",
    "        #print(\"False : {}\".format(i))\n",
    "        #print(\"[{}] data : {}\".format(i, y_test_data[i]))\n",
    "        error += 1\n",
    "        for n in range(0, y_test_data.shape[0], int(y_test_data.shape[0]/nb_classes)):\n",
    "            if y_test_bit[n] == res_pred[i]:\n",
    "                #print(\"[{}] pred data: {}\".format(n, y_test_data[n]))\n",
    "                bit_error = 0\n",
    "                for m in range(0, y_test_data.shape[1]): \n",
    "                    if y_test_data[i, m] != y_test_data[n, m]:\n",
    "                        bit_error += 1\n",
    "                        error_cnt += 1\n",
    "                #print(\"bit error count : \", bit_error)\n",
    "                break\n",
    "print(\"Error : {}\".format(error))\n",
    "print(\"Error Count: {}\".format(error_cnt))"
   ]
  },
  {
   "cell_type": "code",
   "execution_count": 16,
   "id": "979f11c4",
   "metadata": {},
   "outputs": [
    {
     "name": "stdout",
     "output_type": "stream",
     "text": [
      "BER: 0.058340625\n"
     ]
    }
   ],
   "source": [
    "BER = (error_cnt)/(y_test_data.shape[0]*2*2)\n",
    "print(\"BER: {}\".format(BER))"
   ]
  },
  {
   "cell_type": "code",
   "execution_count": null,
   "id": "3ec7776e",
   "metadata": {},
   "outputs": [],
   "source": []
  },
  {
   "cell_type": "code",
   "execution_count": null,
   "id": "db67a98a",
   "metadata": {},
   "outputs": [],
   "source": []
  }
 ],
 "metadata": {
  "kernelspec": {
   "display_name": "Python 3 (ipykernel)",
   "language": "python",
   "name": "python3"
  },
  "language_info": {
   "codemirror_mode": {
    "name": "ipython",
    "version": 3
   },
   "file_extension": ".py",
   "mimetype": "text/x-python",
   "name": "python",
   "nbconvert_exporter": "python",
   "pygments_lexer": "ipython3",
   "version": "3.8.12"
  }
 },
 "nbformat": 4,
 "nbformat_minor": 5
}
