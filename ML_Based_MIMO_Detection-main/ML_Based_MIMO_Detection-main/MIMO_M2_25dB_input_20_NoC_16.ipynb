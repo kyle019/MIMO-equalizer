{
 "cells": [
  {
   "cell_type": "code",
   "execution_count": 1,
   "id": "39878172",
   "metadata": {},
   "outputs": [],
   "source": [
    "import numpy as np\n",
    "import random\n",
    "import matplotlib.pyplot as plt\n",
    "import tensorflow as tf\n",
    "from sklearn.model_selection import train_test_split\n",
    "from sklearn.preprocessing import LabelEncoder\n",
    "\n",
    "random.seed(777)  # for reproducibility\n",
    "learning_rate = 0.001\n",
    "batch_size = 4000\n",
    "training_epochs = 100\n",
    "nb_classes = 16\n",
    "drop_rate = 0.3"
   ]
  },
  {
   "cell_type": "code",
   "execution_count": 2,
   "id": "6a28f0ed",
   "metadata": {
    "scrolled": false
   },
   "outputs": [
    {
     "name": "stdout",
     "output_type": "stream",
     "text": [
      "(1600000, 20) (1600000, 4)\n",
      "[ 1.3072666   0.42960188  0.16644062  0.22091642 -0.27058634 -0.20962702\n",
      " -0.25658306  0.03533361  0.25618953 -0.248537   -1.051822   -0.6120007\n",
      " -0.70710677 -0.70710677  0.70710677  0.70710677  0.70710677 -0.70710677\n",
      "  0.70710677 -0.70710677]\n"
     ]
    }
   ],
   "source": [
    "xy = np.loadtxt('MIMO_2_25dB_NoC_16.csv', delimiter=',', dtype=np.float32)\n",
    "x_data = xy[:, 1:21]\n",
    "y_data = xy[:, -4:]\n",
    "\n",
    "print(x_data.shape, y_data.shape)\n",
    "print(x_data[0])"
   ]
  },
  {
   "cell_type": "code",
   "execution_count": 3,
   "id": "ee73316f",
   "metadata": {},
   "outputs": [
    {
     "name": "stdout",
     "output_type": "stream",
     "text": [
      "[[ 3]\n",
      " [ 3]\n",
      " [ 3]\n",
      " ...\n",
      " [12]\n",
      " [12]\n",
      " [12]]\n"
     ]
    }
   ],
   "source": [
    "# Convert y_data to y_bit\n",
    "i=1\n",
    "y_merge = []\n",
    "while i <= y_data.shape[0]:\n",
    "    temp = \"\".join(str(_) for _ in y_data[i-1,:])\n",
    "    y_merge.append(temp)\n",
    "    i = i + 1\n",
    "\n",
    "encoder = LabelEncoder()\n",
    "encoder.fit(y_merge)\n",
    "y_bit = encoder.transform(y_merge)\n",
    "y_bit = y_bit.reshape(-1, 1)\n",
    "print(y_bit)"
   ]
  },
  {
   "cell_type": "code",
   "execution_count": 4,
   "id": "633ea46e",
   "metadata": {},
   "outputs": [
    {
     "name": "stdout",
     "output_type": "stream",
     "text": [
      "one_hot: [[0. 0. 0. ... 0. 0. 0.]\n",
      " [0. 0. 0. ... 0. 0. 0.]\n",
      " [0. 0. 0. ... 0. 0. 0.]\n",
      " ...\n",
      " [0. 0. 0. ... 0. 0. 0.]\n",
      " [0. 0. 0. ... 0. 0. 0.]\n",
      " [0. 0. 0. ... 0. 0. 0.]]\n"
     ]
    }
   ],
   "source": [
    "# Convert y_data to one_hot\n",
    "y_one_hot = tf.keras.utils.to_categorical(y_bit, nb_classes)\n",
    "print(\"one_hot:\", y_one_hot)"
   ]
  },
  {
   "cell_type": "code",
   "execution_count": 5,
   "id": "d6f44f52",
   "metadata": {},
   "outputs": [],
   "source": [
    "tf.model = tf.keras.Sequential()\n",
    "# Glorot normal initializer, also called Xavier normal initializer.\n",
    "# see https://www.tensorflow.org/api_docs/python/tf/initializers"
   ]
  },
  {
   "cell_type": "code",
   "execution_count": 6,
   "id": "9e58a9ba",
   "metadata": {},
   "outputs": [
    {
     "name": "stdout",
     "output_type": "stream",
     "text": [
      "Model: \"sequential\"\n",
      "_________________________________________________________________\n",
      "Layer (type)                 Output Shape              Param #   \n",
      "=================================================================\n",
      "dense (Dense)                (None, 1280)              26880     \n",
      "_________________________________________________________________\n",
      "dropout (Dropout)            (None, 1280)              0         \n",
      "_________________________________________________________________\n",
      "dense_1 (Dense)              (None, 640)               819840    \n",
      "_________________________________________________________________\n",
      "dropout_1 (Dropout)          (None, 640)               0         \n",
      "_________________________________________________________________\n",
      "dense_2 (Dense)              (None, 320)               205120    \n",
      "_________________________________________________________________\n",
      "dropout_2 (Dropout)          (None, 320)               0         \n",
      "_________________________________________________________________\n",
      "dense_3 (Dense)              (None, 16)                5136      \n",
      "=================================================================\n",
      "Total params: 1,056,976\n",
      "Trainable params: 1,056,976\n",
      "Non-trainable params: 0\n",
      "_________________________________________________________________\n"
     ]
    }
   ],
   "source": [
    "tf.model.add(tf.keras.layers.Dense(input_dim=x_data.shape[1], units=1280, kernel_regularizer=tf.keras.regularizers.l2(0.001), activation='relu'))\n",
    "tf.model.add(tf.keras.layers.Dropout(drop_rate))\n",
    "tf.model.add(tf.keras.layers.Dense(units=640, kernel_regularizer=tf.keras.regularizers.l2(0.001), activation='relu'))\n",
    "tf.model.add(tf.keras.layers.Dropout(drop_rate))\n",
    "tf.model.add(tf.keras.layers.Dense(units=320, kernel_regularizer=tf.keras.regularizers.l2(0.001), activation='relu'))\n",
    "tf.model.add(tf.keras.layers.Dropout(drop_rate))\n",
    "tf.model.add(tf.keras.layers.Dense(units=nb_classes, activation='softmax'))\n",
    "tf.model.compile(loss='categorical_crossentropy',\n",
    "                 optimizer=tf.keras.optimizers.Adam(learning_rate=learning_rate), metrics=['accuracy'])\n",
    "tf.model.summary()"
   ]
  },
  {
   "cell_type": "code",
   "execution_count": 7,
   "id": "c346ad84",
   "metadata": {
    "scrolled": true
   },
   "outputs": [
    {
     "name": "stdout",
     "output_type": "stream",
     "text": [
      "Epoch 1/100\n",
      "400/400 [==============================] - 4s 8ms/step - loss: 0.9017 - accuracy: 0.8349\n",
      "Epoch 2/100\n",
      "400/400 [==============================] - 3s 8ms/step - loss: 0.4275 - accuracy: 0.9365\n",
      "Epoch 3/100\n",
      "400/400 [==============================] - 3s 8ms/step - loss: 0.3804 - accuracy: 0.9438\n",
      "Epoch 4/100\n",
      "400/400 [==============================] - 3s 8ms/step - loss: 0.3523 - accuracy: 0.9478\n",
      "Epoch 5/100\n",
      "400/400 [==============================] - 3s 8ms/step - loss: 0.3322 - accuracy: 0.9506\n",
      "Epoch 6/100\n",
      "400/400 [==============================] - 3s 8ms/step - loss: 0.3191 - accuracy: 0.9521\n",
      "Epoch 7/100\n",
      "400/400 [==============================] - 3s 8ms/step - loss: 0.3063 - accuracy: 0.9539\n",
      "Epoch 8/100\n",
      "400/400 [==============================] - 3s 8ms/step - loss: 0.2975 - accuracy: 0.9549\n",
      "Epoch 9/100\n",
      "400/400 [==============================] - 3s 8ms/step - loss: 0.2889 - accuracy: 0.9562\n",
      "Epoch 10/100\n",
      "400/400 [==============================] - 3s 8ms/step - loss: 0.2815 - accuracy: 0.9572\n",
      "Epoch 11/100\n",
      "400/400 [==============================] - 3s 8ms/step - loss: 0.2763 - accuracy: 0.9578\n",
      "Epoch 12/100\n",
      "400/400 [==============================] - 3s 8ms/step - loss: 0.2699 - accuracy: 0.9590\n",
      "Epoch 13/100\n",
      "400/400 [==============================] - 3s 8ms/step - loss: 0.2646 - accuracy: 0.9597\n",
      "Epoch 14/100\n",
      "400/400 [==============================] - 3s 8ms/step - loss: 0.2589 - accuracy: 0.9607\n",
      "Epoch 15/100\n",
      "400/400 [==============================] - 3s 8ms/step - loss: 0.2568 - accuracy: 0.9609\n",
      "Epoch 16/100\n",
      "400/400 [==============================] - 3s 8ms/step - loss: 0.2502 - accuracy: 0.9622\n",
      "Epoch 17/100\n",
      "400/400 [==============================] - 3s 8ms/step - loss: 0.2478 - accuracy: 0.9624\n",
      "Epoch 18/100\n",
      "400/400 [==============================] - 3s 8ms/step - loss: 0.2432 - accuracy: 0.9635\n",
      "Epoch 19/100\n",
      "400/400 [==============================] - 3s 8ms/step - loss: 0.2407 - accuracy: 0.9635\n",
      "Epoch 20/100\n",
      "400/400 [==============================] - 3s 8ms/step - loss: 0.2376 - accuracy: 0.9641\n",
      "Epoch 21/100\n",
      "400/400 [==============================] - 3s 8ms/step - loss: 0.2354 - accuracy: 0.9642\n",
      "Epoch 22/100\n",
      "400/400 [==============================] - 3s 8ms/step - loss: 0.2330 - accuracy: 0.9644\n",
      "Epoch 23/100\n",
      "400/400 [==============================] - 3s 8ms/step - loss: 0.2300 - accuracy: 0.9648\n",
      "Epoch 24/100\n",
      "400/400 [==============================] - 3s 8ms/step - loss: 0.2278 - accuracy: 0.9650\n",
      "Epoch 25/100\n",
      "400/400 [==============================] - 3s 8ms/step - loss: 0.2269 - accuracy: 0.9650\n",
      "Epoch 26/100\n",
      "400/400 [==============================] - 3s 8ms/step - loss: 0.2231 - accuracy: 0.9656\n",
      "Epoch 27/100\n",
      "400/400 [==============================] - 3s 8ms/step - loss: 0.2221 - accuracy: 0.9657\n",
      "Epoch 28/100\n",
      "400/400 [==============================] - 3s 8ms/step - loss: 0.2211 - accuracy: 0.9657\n",
      "Epoch 29/100\n",
      "400/400 [==============================] - 3s 8ms/step - loss: 0.2187 - accuracy: 0.9660\n",
      "Epoch 30/100\n",
      "400/400 [==============================] - 3s 8ms/step - loss: 0.2194 - accuracy: 0.9654\n",
      "Epoch 31/100\n",
      "400/400 [==============================] - 3s 8ms/step - loss: 0.2155 - accuracy: 0.9664\n",
      "Epoch 32/100\n",
      "400/400 [==============================] - 3s 8ms/step - loss: 0.2129 - accuracy: 0.9665\n",
      "Epoch 33/100\n",
      "400/400 [==============================] - 3s 8ms/step - loss: 0.2135 - accuracy: 0.9661\n",
      "Epoch 34/100\n",
      "400/400 [==============================] - 3s 8ms/step - loss: 0.2121 - accuracy: 0.9663\n",
      "Epoch 35/100\n",
      "400/400 [==============================] - 3s 8ms/step - loss: 0.2112 - accuracy: 0.9664\n",
      "Epoch 36/100\n",
      "400/400 [==============================] - 3s 8ms/step - loss: 0.2093 - accuracy: 0.9666\n",
      "Epoch 37/100\n",
      "400/400 [==============================] - 3s 8ms/step - loss: 0.2103 - accuracy: 0.9661\n",
      "Epoch 38/100\n",
      "400/400 [==============================] - 3s 8ms/step - loss: 0.2076 - accuracy: 0.9665\n",
      "Epoch 39/100\n",
      "400/400 [==============================] - 3s 8ms/step - loss: 0.2060 - accuracy: 0.9670\n",
      "Epoch 40/100\n",
      "400/400 [==============================] - 3s 8ms/step - loss: 0.2059 - accuracy: 0.9667\n",
      "Epoch 41/100\n",
      "400/400 [==============================] - 3s 8ms/step - loss: 0.2050 - accuracy: 0.9667\n",
      "Epoch 42/100\n",
      "400/400 [==============================] - 3s 8ms/step - loss: 0.2029 - accuracy: 0.9671\n",
      "Epoch 43/100\n",
      "400/400 [==============================] - 3s 8ms/step - loss: 0.2029 - accuracy: 0.9670\n",
      "Epoch 44/100\n",
      "400/400 [==============================] - 3s 8ms/step - loss: 0.2032 - accuracy: 0.9665\n",
      "Epoch 45/100\n",
      "400/400 [==============================] - 3s 8ms/step - loss: 0.2021 - accuracy: 0.9666\n",
      "Epoch 46/100\n",
      "400/400 [==============================] - 3s 8ms/step - loss: 0.2004 - accuracy: 0.9670\n",
      "Epoch 47/100\n",
      "400/400 [==============================] - 3s 8ms/step - loss: 0.2003 - accuracy: 0.9668\n",
      "Epoch 48/100\n",
      "400/400 [==============================] - 3s 8ms/step - loss: 0.1995 - accuracy: 0.9670\n",
      "Epoch 49/100\n",
      "400/400 [==============================] - 3s 8ms/step - loss: 0.1978 - accuracy: 0.9674\n",
      "Epoch 50/100\n",
      "400/400 [==============================] - 3s 8ms/step - loss: 0.1982 - accuracy: 0.9667\n",
      "Epoch 51/100\n",
      "400/400 [==============================] - 3s 8ms/step - loss: 0.1970 - accuracy: 0.9671\n",
      "Epoch 52/100\n",
      "400/400 [==============================] - 3s 8ms/step - loss: 0.1984 - accuracy: 0.9666\n",
      "Epoch 53/100\n",
      "400/400 [==============================] - 3s 8ms/step - loss: 0.1964 - accuracy: 0.9671\n",
      "Epoch 54/100\n",
      "400/400 [==============================] - 3s 8ms/step - loss: 0.1962 - accuracy: 0.9669\n",
      "Epoch 55/100\n",
      "400/400 [==============================] - 3s 8ms/step - loss: 0.1961 - accuracy: 0.9668\n",
      "Epoch 56/100\n",
      "400/400 [==============================] - 3s 8ms/step - loss: 0.1944 - accuracy: 0.9671\n",
      "Epoch 57/100\n",
      "400/400 [==============================] - 3s 8ms/step - loss: 0.1945 - accuracy: 0.9672\n",
      "Epoch 58/100\n",
      "400/400 [==============================] - 3s 8ms/step - loss: 0.1939 - accuracy: 0.9672\n",
      "Epoch 59/100\n",
      "400/400 [==============================] - 3s 8ms/step - loss: 0.1928 - accuracy: 0.9673\n",
      "Epoch 60/100\n",
      "400/400 [==============================] - 3s 8ms/step - loss: 0.1931 - accuracy: 0.9671\n",
      "Epoch 61/100\n",
      "400/400 [==============================] - 3s 8ms/step - loss: 0.1916 - accuracy: 0.9675\n",
      "Epoch 62/100\n",
      "400/400 [==============================] - 3s 8ms/step - loss: 0.1934 - accuracy: 0.9668\n",
      "Epoch 63/100\n",
      "400/400 [==============================] - 3s 8ms/step - loss: 0.1921 - accuracy: 0.9673\n",
      "Epoch 64/100\n",
      "400/400 [==============================] - 3s 8ms/step - loss: 0.1913 - accuracy: 0.9673\n",
      "Epoch 65/100\n",
      "400/400 [==============================] - 3s 8ms/step - loss: 0.1907 - accuracy: 0.9675\n",
      "Epoch 66/100\n",
      "400/400 [==============================] - 3s 8ms/step - loss: 0.1910 - accuracy: 0.9673\n",
      "Epoch 67/100\n",
      "400/400 [==============================] - 3s 8ms/step - loss: 0.1901 - accuracy: 0.9673\n",
      "Epoch 68/100\n",
      "400/400 [==============================] - 3s 8ms/step - loss: 0.1894 - accuracy: 0.9674\n",
      "Epoch 69/100\n",
      "400/400 [==============================] - 3s 8ms/step - loss: 0.1899 - accuracy: 0.9671\n",
      "Epoch 70/100\n",
      "400/400 [==============================] - 3s 8ms/step - loss: 0.1892 - accuracy: 0.9675\n",
      "Epoch 71/100\n",
      "400/400 [==============================] - 3s 8ms/step - loss: 0.1903 - accuracy: 0.9671\n",
      "Epoch 72/100\n",
      "400/400 [==============================] - 3s 8ms/step - loss: 0.1900 - accuracy: 0.9670\n",
      "Epoch 73/100\n",
      "400/400 [==============================] - 3s 8ms/step - loss: 0.1872 - accuracy: 0.9676\n",
      "Epoch 74/100\n",
      "400/400 [==============================] - 3s 8ms/step - loss: 0.1892 - accuracy: 0.9670\n",
      "Epoch 75/100\n",
      "400/400 [==============================] - 3s 8ms/step - loss: 0.1888 - accuracy: 0.9672\n",
      "Epoch 76/100\n",
      "400/400 [==============================] - 3s 8ms/step - loss: 0.1880 - accuracy: 0.9674\n",
      "Epoch 77/100\n",
      "400/400 [==============================] - 3s 8ms/step - loss: 0.1887 - accuracy: 0.9671\n",
      "Epoch 78/100\n",
      "400/400 [==============================] - 3s 8ms/step - loss: 0.1889 - accuracy: 0.9672\n",
      "Epoch 79/100\n",
      "400/400 [==============================] - 3s 8ms/step - loss: 0.1875 - accuracy: 0.9672\n",
      "Epoch 80/100\n",
      "400/400 [==============================] - 3s 8ms/step - loss: 0.1878 - accuracy: 0.9672\n",
      "Epoch 81/100\n"
     ]
    },
    {
     "name": "stdout",
     "output_type": "stream",
     "text": [
      "400/400 [==============================] - 3s 8ms/step - loss: 0.1874 - accuracy: 0.9671\n",
      "Epoch 82/100\n",
      "400/400 [==============================] - 3s 8ms/step - loss: 0.1878 - accuracy: 0.9671\n",
      "Epoch 83/100\n",
      "400/400 [==============================] - 3s 8ms/step - loss: 0.1873 - accuracy: 0.9672: 0s - loss: 0.187\n",
      "Epoch 84/100\n",
      "400/400 [==============================] - 3s 8ms/step - loss: 0.1873 - accuracy: 0.9671\n",
      "Epoch 85/100\n",
      "400/400 [==============================] - 3s 8ms/step - loss: 0.1856 - accuracy: 0.9676\n",
      "Epoch 86/100\n",
      "400/400 [==============================] - 3s 8ms/step - loss: 0.1871 - accuracy: 0.9669\n",
      "Epoch 87/100\n",
      "400/400 [==============================] - 3s 8ms/step - loss: 0.1866 - accuracy: 0.9672\n",
      "Epoch 88/100\n",
      "400/400 [==============================] - 3s 8ms/step - loss: 0.1859 - accuracy: 0.9672\n",
      "Epoch 89/100\n",
      "400/400 [==============================] - 3s 8ms/step - loss: 0.1862 - accuracy: 0.9671\n",
      "Epoch 90/100\n",
      "400/400 [==============================] - 3s 8ms/step - loss: 0.1854 - accuracy: 0.9673\n",
      "Epoch 91/100\n",
      "400/400 [==============================] - 3s 8ms/step - loss: 0.1859 - accuracy: 0.9672\n",
      "Epoch 92/100\n",
      "400/400 [==============================] - 3s 8ms/step - loss: 0.1857 - accuracy: 0.9671\n",
      "Epoch 93/100\n",
      "400/400 [==============================] - 3s 8ms/step - loss: 0.1855 - accuracy: 0.9673\n",
      "Epoch 94/100\n",
      "400/400 [==============================] - 3s 8ms/step - loss: 0.1863 - accuracy: 0.9671\n",
      "Epoch 95/100\n",
      "400/400 [==============================] - 3s 8ms/step - loss: 0.1863 - accuracy: 0.9669\n",
      "Epoch 96/100\n",
      "400/400 [==============================] - 3s 8ms/step - loss: 0.1847 - accuracy: 0.9673\n",
      "Epoch 97/100\n",
      "400/400 [==============================] - 3s 8ms/step - loss: 0.1866 - accuracy: 0.9667\n",
      "Epoch 98/100\n",
      "400/400 [==============================] - 3s 8ms/step - loss: 0.1842 - accuracy: 0.9673\n",
      "Epoch 99/100\n",
      "400/400 [==============================] - 3s 8ms/step - loss: 0.1854 - accuracy: 0.9670\n",
      "Epoch 100/100\n",
      "400/400 [==============================] - 3s 8ms/step - loss: 0.1855 - accuracy: 0.9669\n"
     ]
    }
   ],
   "source": [
    "history = tf.model.fit(x_data, y_one_hot, batch_size=batch_size , epochs=training_epochs)"
   ]
  },
  {
   "cell_type": "code",
   "execution_count": 8,
   "id": "0f3f6697",
   "metadata": {},
   "outputs": [
    {
     "data": {
      "image/png": "[encoded data removed]",
      "text/plain": [
       "<Figure size 460.8x403.2 with 1 Axes>"
      ]
     },
     "metadata": {},
     "output_type": "display_data"
    }
   ],
   "source": [
    "# 모델 손실 함수 시각화\n",
    "from jupyterthemes import jtplot\n",
    "jtplot.style(theme='monokai')\n",
    "\n",
    "plt.plot(history.history['loss'], 'b-', label='loss')\n",
    "#plt.plot(history.history['val_loss'], 'r-', label='val_loss')\n",
    "plt.title('Model loss')\n",
    "plt.xlabel('Epoch')\n",
    "plt.ylabel('Loss')\n",
    "plt.legend()\n",
    "plt.show()"
   ]
  },
  {
   "cell_type": "code",
   "execution_count": 9,
   "id": "83e399f2",
   "metadata": {},
   "outputs": [
    {
     "data": {
      "image/png": "[encoded data removed]",
      "text/plain": [
       "<Figure size 460.8x403.2 with 1 Axes>"
      ]
     },
     "metadata": {},
     "output_type": "display_data"
    }
   ],
   "source": [
    "# 모델 정확도 시각화\n",
    "plt.plot(history.history['accuracy'], 'g-', label='accuracy')\n",
    "#plt.plot(history.history['val_binary_accuracy'], 'r-', label='val_accuracy')\n",
    "plt.title('Model Accuracy')\n",
    "plt.xlabel('Epoch')\n",
    "plt.ylabel('Accuracy')\n",
    "plt.legend()\n",
    "plt.show()"
   ]
  },
  {
   "cell_type": "code",
   "execution_count": 10,
   "id": "f860be4f",
   "metadata": {},
   "outputs": [
    {
     "name": "stdout",
     "output_type": "stream",
     "text": [
      "(320000, 20) (320000, 4)\n"
     ]
    }
   ],
   "source": [
    "# Full x_data test\n",
    "test_data = np.loadtxt('MIMO_2_25dB_NoC_16_test.csv', delimiter=',', dtype=np.float32)\n",
    "x_test_data = test_data[:, 1:21]\n",
    "y_test_data = test_data[:, -4:]\n",
    "print(x_test_data.shape, y_test_data.shape)"
   ]
  },
  {
   "cell_type": "code",
   "execution_count": 11,
   "id": "1b49e243",
   "metadata": {},
   "outputs": [
    {
     "name": "stdout",
     "output_type": "stream",
     "text": [
      "[[ 3]\n",
      " [ 3]\n",
      " [ 3]\n",
      " ...\n",
      " [12]\n",
      " [12]\n",
      " [12]]\n"
     ]
    }
   ],
   "source": [
    "# Convert y_test_data to y_test_bit\n",
    "i=1\n",
    "y_test_merge = []\n",
    "while i <= y_test_data.shape[0]:\n",
    "    temp2 = \"\".join(str(_) for _ in y_test_data[i-1,:])\n",
    "    y_test_merge.append(temp2)\n",
    "    i = i + 1\n",
    "\n",
    "encoder = LabelEncoder()\n",
    "encoder.fit(y_test_merge)\n",
    "y_test_bit = encoder.transform(y_test_merge)\n",
    "y_test_bit = y_test_bit.reshape(-1, 1)\n",
    "print(y_test_bit)"
   ]
  },
  {
   "cell_type": "code",
   "execution_count": 12,
   "id": "02ceb9be",
   "metadata": {},
   "outputs": [
    {
     "name": "stdout",
     "output_type": "stream",
     "text": [
      "one_hot: [[0. 0. 0. ... 0. 0. 0.]\n",
      " [0. 0. 0. ... 0. 0. 0.]\n",
      " [0. 0. 0. ... 0. 0. 0.]\n",
      " ...\n",
      " [0. 0. 0. ... 0. 0. 0.]\n",
      " [0. 0. 0. ... 0. 0. 0.]\n",
      " [0. 0. 0. ... 0. 0. 0.]]\n"
     ]
    }
   ],
   "source": [
    "# Convert y_data to one_hot\n",
    "y_test_one_hot = tf.keras.utils.to_categorical(y_test_bit, nb_classes)\n",
    "print(\"one_hot:\", y_test_one_hot)"
   ]
  },
  {
   "cell_type": "code",
   "execution_count": 13,
   "id": "26d7e049",
   "metadata": {},
   "outputs": [
    {
     "name": "stdout",
     "output_type": "stream",
     "text": [
      "10000/10000 [==============================] - 15s 2ms/step - loss: 0.1436 - accuracy: 0.9826\n",
      "loss:  0.14361676573753357\n",
      "accuracy 0.9825718998908997\n"
     ]
    }
   ],
   "source": [
    "evaluation = tf.model.evaluate(x_test_data, y_test_one_hot)\n",
    "print('loss: ', evaluation[0])\n",
    "print('accuracy', evaluation[1])"
   ]
  },
  {
   "cell_type": "code",
   "execution_count": 14,
   "id": "d62b59fa",
   "metadata": {},
   "outputs": [],
   "source": [
    "#pre_error_cnt = 0\n",
    "predict_x = tf.model.predict(x_test_data) \n",
    "pred = np.argmax(predict_x,axis=1)\n",
    "#for p, y in zip(pred, y_test_bit.flatten()):\n",
    "    #print(\"[{}] Prediction: {} True Y: {}\".format(p == int(y), p, int(y)))\n",
    "    #if p != int(y):\n",
    "        #pre_error_cnt += 1\n",
    "#print(\"Prediction Error Count : \", pre_error_cnt)"
   ]
  },
  {
   "cell_type": "code",
   "execution_count": 15,
   "id": "e5514203",
   "metadata": {},
   "outputs": [
    {
     "name": "stdout",
     "output_type": "stream",
     "text": [
      "Error : 5577\n",
      "Error Count: 8117\n"
     ]
    }
   ],
   "source": [
    "res_pred = pred.reshape(y_test_data.shape[0], 1)\n",
    "error_cnt = 0\n",
    "error = 0\n",
    "for i in range(0, y_test_data.shape[0]):\n",
    "    if res_pred[i] != y_test_bit[i]:\n",
    "        #print(\"False : {}\".format(i))\n",
    "        #print(\"[{}] data : {}\".format(i, y_test_data[i]))\n",
    "        error += 1\n",
    "        for n in range(0, y_test_data.shape[0], int(y_test_data.shape[0]/nb_classes)):\n",
    "            if y_test_bit[n] == res_pred[i]:\n",
    "                #print(\"[{}] pred data: {}\".format(n, y_test_data[n]))\n",
    "                bit_error = 0\n",
    "                for m in range(0, y_test_data.shape[1]): \n",
    "                    if y_test_data[i, m] != y_test_data[n, m]:\n",
    "                        bit_error += 1\n",
    "                        error_cnt += 1\n",
    "                #print(\"bit error count : \", bit_error)\n",
    "                break\n",
    "print(\"Error : {}\".format(error))\n",
    "print(\"Error Count: {}\".format(error_cnt))"
   ]
  },
  {
   "cell_type": "code",
   "execution_count": 16,
   "id": "979f11c4",
   "metadata": {},
   "outputs": [
    {
     "name": "stdout",
     "output_type": "stream",
     "text": [
      "BER: 0.00634140625\n"
     ]
    }
   ],
   "source": [
    "BER = (error_cnt)/(y_test_data.shape[0]*2*2)\n",
    "print(\"BER: {}\".format(BER))"
   ]
  },
  {
   "cell_type": "code",
   "execution_count": null,
   "id": "5a5b98a7",
   "metadata": {},
   "outputs": [],
   "source": []
  }
 ],
 "metadata": {
  "kernelspec": {
   "display_name": "Python 3 (ipykernel)",
   "language": "python",
   "name": "python3"
  },
  "language_info": {
   "codemirror_mode": {
    "name": "ipython",
    "version": 3
   },
   "file_extension": ".py",
   "mimetype": "text/x-python",
   "name": "python",
   "nbconvert_exporter": "python",
   "pygments_lexer": "ipython3",
   "version": "3.8.12"
  }
 },
 "nbformat": 4,
 "nbformat_minor": 5
}
