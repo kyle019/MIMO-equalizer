{
 "cells": [
  {
   "cell_type": "code",
   "execution_count": 1,
   "id": "39878172",
   "metadata": {},
   "outputs": [],
   "source": [
    "import numpy as np\n",
    "import random\n",
    "import matplotlib.pyplot as plt\n",
    "import tensorflow as tf\n",
    "from sklearn.model_selection import train_test_split\n",
    "from sklearn.preprocessing import LabelEncoder\n",
    "\n",
    "random.seed(777)  # for reproducibility\n",
    "learning_rate = 0.001\n",
    "batch_size = 10000\n",
    "training_epochs = 200\n",
    "nb_classes = 4\n",
    "drop_rate = 0.3"
   ]
  },
  {
   "cell_type": "code",
   "execution_count": 2,
   "id": "6a28f0ed",
   "metadata": {
    "scrolled": false
   },
   "outputs": [
    {
     "name": "stdout",
     "output_type": "stream",
     "text": [
      "(40000, 12) (40000, 4)\n",
      "[ 0.06907259 -0.7754382  -0.02926022 -2.0638485  -1.1988358  -0.18695061\n",
      "  0.43897945 -1.745061   -0.7208335   1.1568292  -0.9176092   1.4018345 ]\n"
     ]
    }
   ],
   "source": [
    "xy = np.loadtxt('MIMO_2_10dB_NoC_4.csv', delimiter=',', dtype=np.float32)\n",
    "x_data = xy[:, 1:13]\n",
    "y_data = xy[:, -4:]\n",
    "\n",
    "print(x_data.shape, y_data.shape)\n",
    "print(x_data[0])"
   ]
  },
  {
   "cell_type": "code",
   "execution_count": 3,
   "id": "ee73316f",
   "metadata": {},
   "outputs": [
    {
     "name": "stdout",
     "output_type": "stream",
     "text": [
      "[[1]\n",
      " [1]\n",
      " [1]\n",
      " ...\n",
      " [2]\n",
      " [2]\n",
      " [2]]\n"
     ]
    }
   ],
   "source": [
    "# Convert y_data to y_bit\n",
    "i=1\n",
    "y_merge = []\n",
    "while i <= y_data.shape[0]:\n",
    "    temp = \"\".join(str(_) for _ in y_data[i-1,:])\n",
    "    y_merge.append(temp)\n",
    "    i = i + 1\n",
    "\n",
    "encoder = LabelEncoder()\n",
    "encoder.fit(y_merge)\n",
    "y_bit = encoder.transform(y_merge)\n",
    "y_bit = y_bit.reshape(-1, 1)\n",
    "print(y_bit)"
   ]
  },
  {
   "cell_type": "code",
   "execution_count": 4,
   "id": "633ea46e",
   "metadata": {},
   "outputs": [
    {
     "name": "stdout",
     "output_type": "stream",
     "text": [
      "one_hot: [[0. 1. 0. 0.]\n",
      " [0. 1. 0. 0.]\n",
      " [0. 1. 0. 0.]\n",
      " ...\n",
      " [0. 0. 1. 0.]\n",
      " [0. 0. 1. 0.]\n",
      " [0. 0. 1. 0.]]\n"
     ]
    }
   ],
   "source": [
    "# Convert y_data to one_hot\n",
    "y_one_hot = tf.keras.utils.to_categorical(y_bit, nb_classes)\n",
    "print(\"one_hot:\", y_one_hot)"
   ]
  },
  {
   "cell_type": "code",
   "execution_count": 5,
   "id": "d6f44f52",
   "metadata": {},
   "outputs": [],
   "source": [
    "tf.model = tf.keras.Sequential()\n",
    "# Glorot normal initializer, also called Xavier normal initializer.\n",
    "# see https://www.tensorflow.org/api_docs/python/tf/initializers"
   ]
  },
  {
   "cell_type": "code",
   "execution_count": 6,
   "id": "9e58a9ba",
   "metadata": {},
   "outputs": [
    {
     "name": "stdout",
     "output_type": "stream",
     "text": [
      "Model: \"sequential\"\n",
      "_________________________________________________________________\n",
      "Layer (type)                 Output Shape              Param #   \n",
      "=================================================================\n",
      "dense (Dense)                (None, 384)               4992      \n",
      "_________________________________________________________________\n",
      "dropout (Dropout)            (None, 384)               0         \n",
      "_________________________________________________________________\n",
      "dense_1 (Dense)              (None, 192)               73920     \n",
      "_________________________________________________________________\n",
      "dropout_1 (Dropout)          (None, 192)               0         \n",
      "_________________________________________________________________\n",
      "dense_2 (Dense)              (None, 4)                 772       \n",
      "=================================================================\n",
      "Total params: 79,684\n",
      "Trainable params: 79,684\n",
      "Non-trainable params: 0\n",
      "_________________________________________________________________\n"
     ]
    }
   ],
   "source": [
    "tf.model.add(tf.keras.layers.Dense(input_dim=x_data.shape[1], units=384, kernel_regularizer=tf.keras.regularizers.l2(0.001), activation='relu'))\n",
    "tf.model.add(tf.keras.layers.Dropout(drop_rate))\n",
    "tf.model.add(tf.keras.layers.Dense(units=192, kernel_regularizer=tf.keras.regularizers.l2(0.001), activation='relu'))\n",
    "tf.model.add(tf.keras.layers.Dropout(drop_rate))\n",
    "tf.model.add(tf.keras.layers.Dense(units=nb_classes, activation='softmax'))\n",
    "tf.model.compile(loss='categorical_crossentropy',\n",
    "                 optimizer=tf.keras.optimizers.Adam(learning_rate=learning_rate), metrics=['accuracy'])\n",
    "tf.model.summary()"
   ]
  },
  {
   "cell_type": "code",
   "execution_count": 7,
   "id": "c346ad84",
   "metadata": {
    "scrolled": true
   },
   "outputs": [
    {
     "name": "stdout",
     "output_type": "stream",
     "text": [
      "Epoch 1/200\n",
      "4/4 [==============================] - 1s 5ms/step - loss: 1.6716 - accuracy: 0.2676\n",
      "Epoch 2/200\n",
      "4/4 [==============================] - 0s 5ms/step - loss: 1.5980 - accuracy: 0.3887\n",
      "Epoch 3/200\n",
      "4/4 [==============================] - 0s 5ms/step - loss: 1.5279 - accuracy: 0.4946\n",
      "Epoch 4/200\n",
      "4/4 [==============================] - 0s 5ms/step - loss: 1.4536 - accuracy: 0.5653\n",
      "Epoch 5/200\n",
      "4/4 [==============================] - 0s 5ms/step - loss: 1.3697 - accuracy: 0.6236\n",
      "Epoch 6/200\n",
      "4/4 [==============================] - 0s 5ms/step - loss: 1.2788 - accuracy: 0.6654\n",
      "Epoch 7/200\n",
      "4/4 [==============================] - 0s 5ms/step - loss: 1.1835 - accuracy: 0.7001\n",
      "Epoch 8/200\n",
      "4/4 [==============================] - 0s 5ms/step - loss: 1.0902 - accuracy: 0.7284\n",
      "Epoch 9/200\n",
      "4/4 [==============================] - 0s 5ms/step - loss: 0.9922 - accuracy: 0.7586\n",
      "Epoch 10/200\n",
      "4/4 [==============================] - 0s 5ms/step - loss: 0.9029 - accuracy: 0.7878\n",
      "Epoch 11/200\n",
      "4/4 [==============================] - 0s 5ms/step - loss: 0.8236 - accuracy: 0.8095\n",
      "Epoch 12/200\n",
      "4/4 [==============================] - 0s 5ms/step - loss: 0.7548 - accuracy: 0.8299\n",
      "Epoch 13/200\n",
      "4/4 [==============================] - 0s 5ms/step - loss: 0.6900 - accuracy: 0.8523\n",
      "Epoch 14/200\n",
      "4/4 [==============================] - 0s 5ms/step - loss: 0.6386 - accuracy: 0.8686\n",
      "Epoch 15/200\n",
      "4/4 [==============================] - 0s 5ms/step - loss: 0.5939 - accuracy: 0.8813\n",
      "Epoch 16/200\n",
      "4/4 [==============================] - 0s 5ms/step - loss: 0.5599 - accuracy: 0.8924\n",
      "Epoch 17/200\n",
      "4/4 [==============================] - 0s 5ms/step - loss: 0.5285 - accuracy: 0.9009\n",
      "Epoch 18/200\n",
      "4/4 [==============================] - 0s 5ms/step - loss: 0.5060 - accuracy: 0.9040\n",
      "Epoch 19/200\n",
      "4/4 [==============================] - 0s 5ms/step - loss: 0.4844 - accuracy: 0.9090\n",
      "Epoch 20/200\n",
      "4/4 [==============================] - 0s 5ms/step - loss: 0.4672 - accuracy: 0.9113\n",
      "Epoch 21/200\n",
      "4/4 [==============================] - 0s 5ms/step - loss: 0.4514 - accuracy: 0.9147\n",
      "Epoch 22/200\n",
      "4/4 [==============================] - 0s 5ms/step - loss: 0.4371 - accuracy: 0.9168\n",
      "Epoch 23/200\n",
      "4/4 [==============================] - 0s 5ms/step - loss: 0.4255 - accuracy: 0.9172\n",
      "Epoch 24/200\n",
      "4/4 [==============================] - 0s 5ms/step - loss: 0.4161 - accuracy: 0.9179\n",
      "Epoch 25/200\n",
      "4/4 [==============================] - 0s 4ms/step - loss: 0.4038 - accuracy: 0.9210\n",
      "Epoch 26/200\n",
      "4/4 [==============================] - 0s 5ms/step - loss: 0.3967 - accuracy: 0.9196\n",
      "Epoch 27/200\n",
      "4/4 [==============================] - 0s 5ms/step - loss: 0.3863 - accuracy: 0.9214\n",
      "Epoch 28/200\n",
      "4/4 [==============================] - 0s 5ms/step - loss: 0.3760 - accuracy: 0.9235\n",
      "Epoch 29/200\n",
      "4/4 [==============================] - 0s 5ms/step - loss: 0.3713 - accuracy: 0.9229\n",
      "Epoch 30/200\n",
      "4/4 [==============================] - 0s 5ms/step - loss: 0.3648 - accuracy: 0.9221\n",
      "Epoch 31/200\n",
      "4/4 [==============================] - 0s 5ms/step - loss: 0.3575 - accuracy: 0.9237\n",
      "Epoch 32/200\n",
      "4/4 [==============================] - 0s 5ms/step - loss: 0.3524 - accuracy: 0.9232\n",
      "Epoch 33/200\n",
      "4/4 [==============================] - 0s 5ms/step - loss: 0.3462 - accuracy: 0.9251\n",
      "Epoch 34/200\n",
      "4/4 [==============================] - 0s 5ms/step - loss: 0.3400 - accuracy: 0.9251\n",
      "Epoch 35/200\n",
      "4/4 [==============================] - 0s 5ms/step - loss: 0.3354 - accuracy: 0.9259\n",
      "Epoch 36/200\n",
      "4/4 [==============================] - 0s 5ms/step - loss: 0.3322 - accuracy: 0.9250\n",
      "Epoch 37/200\n",
      "4/4 [==============================] - 0s 5ms/step - loss: 0.3271 - accuracy: 0.9264\n",
      "Epoch 38/200\n",
      "4/4 [==============================] - 0s 5ms/step - loss: 0.3243 - accuracy: 0.9260\n",
      "Epoch 39/200\n",
      "4/4 [==============================] - 0s 5ms/step - loss: 0.3216 - accuracy: 0.9252\n",
      "Epoch 40/200\n",
      "4/4 [==============================] - 0s 5ms/step - loss: 0.3164 - accuracy: 0.9258\n",
      "Epoch 41/200\n",
      "4/4 [==============================] - 0s 4ms/step - loss: 0.3136 - accuracy: 0.9261\n",
      "Epoch 42/200\n",
      "4/4 [==============================] - 0s 4ms/step - loss: 0.3096 - accuracy: 0.9274\n",
      "Epoch 43/200\n",
      "4/4 [==============================] - 0s 5ms/step - loss: 0.3081 - accuracy: 0.9274\n",
      "Epoch 44/200\n",
      "4/4 [==============================] - 0s 4ms/step - loss: 0.3039 - accuracy: 0.9285\n",
      "Epoch 45/200\n",
      "4/4 [==============================] - 0s 5ms/step - loss: 0.3018 - accuracy: 0.9277\n",
      "Epoch 46/200\n",
      "4/4 [==============================] - 0s 4ms/step - loss: 0.3010 - accuracy: 0.9274\n",
      "Epoch 47/200\n",
      "4/4 [==============================] - 0s 5ms/step - loss: 0.2968 - accuracy: 0.9276\n",
      "Epoch 48/200\n",
      "4/4 [==============================] - 0s 4ms/step - loss: 0.2967 - accuracy: 0.9269\n",
      "Epoch 49/200\n",
      "4/4 [==============================] - 0s 5ms/step - loss: 0.2942 - accuracy: 0.9266\n",
      "Epoch 50/200\n",
      "4/4 [==============================] - 0s 5ms/step - loss: 0.2927 - accuracy: 0.9279\n",
      "Epoch 51/200\n",
      "4/4 [==============================] - 0s 5ms/step - loss: 0.2901 - accuracy: 0.9284\n",
      "Epoch 52/200\n",
      "4/4 [==============================] - 0s 5ms/step - loss: 0.2889 - accuracy: 0.9289\n",
      "Epoch 53/200\n",
      "4/4 [==============================] - 0s 5ms/step - loss: 0.2868 - accuracy: 0.9287\n",
      "Epoch 54/200\n",
      "4/4 [==============================] - 0s 4ms/step - loss: 0.2849 - accuracy: 0.9290\n",
      "Epoch 55/200\n",
      "4/4 [==============================] - 0s 5ms/step - loss: 0.2831 - accuracy: 0.9290\n",
      "Epoch 56/200\n",
      "4/4 [==============================] - 0s 5ms/step - loss: 0.2820 - accuracy: 0.9295\n",
      "Epoch 57/200\n",
      "4/4 [==============================] - 0s 5ms/step - loss: 0.2813 - accuracy: 0.9292\n",
      "Epoch 58/200\n",
      "4/4 [==============================] - 0s 5ms/step - loss: 0.2791 - accuracy: 0.9294\n",
      "Epoch 59/200\n",
      "4/4 [==============================] - 0s 5ms/step - loss: 0.2772 - accuracy: 0.9304\n",
      "Epoch 60/200\n",
      "4/4 [==============================] - 0s 5ms/step - loss: 0.2761 - accuracy: 0.9304\n",
      "Epoch 61/200\n",
      "4/4 [==============================] - 0s 5ms/step - loss: 0.2753 - accuracy: 0.9297\n",
      "Epoch 62/200\n",
      "4/4 [==============================] - 0s 5ms/step - loss: 0.2761 - accuracy: 0.9297\n",
      "Epoch 63/200\n",
      "4/4 [==============================] - 0s 5ms/step - loss: 0.2747 - accuracy: 0.9289\n",
      "Epoch 64/200\n",
      "4/4 [==============================] - 0s 5ms/step - loss: 0.2742 - accuracy: 0.9291\n",
      "Epoch 65/200\n",
      "4/4 [==============================] - 0s 5ms/step - loss: 0.2719 - accuracy: 0.9305\n",
      "Epoch 66/200\n",
      "4/4 [==============================] - 0s 5ms/step - loss: 0.2720 - accuracy: 0.9289\n",
      "Epoch 67/200\n",
      "4/4 [==============================] - 0s 5ms/step - loss: 0.2713 - accuracy: 0.9301\n",
      "Epoch 68/200\n",
      "4/4 [==============================] - 0s 5ms/step - loss: 0.2692 - accuracy: 0.9306\n",
      "Epoch 69/200\n",
      "4/4 [==============================] - 0s 5ms/step - loss: 0.2688 - accuracy: 0.9303\n",
      "Epoch 70/200\n",
      "4/4 [==============================] - 0s 5ms/step - loss: 0.2682 - accuracy: 0.9313\n",
      "Epoch 71/200\n",
      "4/4 [==============================] - 0s 5ms/step - loss: 0.2661 - accuracy: 0.9311\n",
      "Epoch 72/200\n",
      "4/4 [==============================] - 0s 5ms/step - loss: 0.2665 - accuracy: 0.9310\n",
      "Epoch 73/200\n",
      "4/4 [==============================] - 0s 5ms/step - loss: 0.2645 - accuracy: 0.9305\n",
      "Epoch 74/200\n",
      "4/4 [==============================] - 0s 5ms/step - loss: 0.2642 - accuracy: 0.9304\n",
      "Epoch 75/200\n",
      "4/4 [==============================] - 0s 5ms/step - loss: 0.2633 - accuracy: 0.9313\n",
      "Epoch 76/200\n",
      "4/4 [==============================] - 0s 5ms/step - loss: 0.2641 - accuracy: 0.9322\n",
      "Epoch 77/200\n",
      "4/4 [==============================] - 0s 5ms/step - loss: 0.2636 - accuracy: 0.9302\n",
      "Epoch 78/200\n",
      "4/4 [==============================] - 0s 5ms/step - loss: 0.2633 - accuracy: 0.9299\n",
      "Epoch 79/200\n",
      "4/4 [==============================] - 0s 5ms/step - loss: 0.2629 - accuracy: 0.9304\n",
      "Epoch 80/200\n",
      "4/4 [==============================] - 0s 4ms/step - loss: 0.2614 - accuracy: 0.9318\n",
      "Epoch 81/200\n",
      "4/4 [==============================] - 0s 5ms/step - loss: 0.2602 - accuracy: 0.9309\n",
      "Epoch 82/200\n",
      "4/4 [==============================] - 0s 5ms/step - loss: 0.2598 - accuracy: 0.9314\n",
      "Epoch 83/200\n",
      "4/4 [==============================] - 0s 5ms/step - loss: 0.2609 - accuracy: 0.9315\n",
      "Epoch 84/200\n"
     ]
    },
    {
     "name": "stdout",
     "output_type": "stream",
     "text": [
      "4/4 [==============================] - 0s 5ms/step - loss: 0.2579 - accuracy: 0.9322\n",
      "Epoch 85/200\n",
      "4/4 [==============================] - 0s 5ms/step - loss: 0.2592 - accuracy: 0.9303\n",
      "Epoch 86/200\n",
      "4/4 [==============================] - 0s 5ms/step - loss: 0.2586 - accuracy: 0.9312\n",
      "Epoch 87/200\n",
      "4/4 [==============================] - 0s 5ms/step - loss: 0.2576 - accuracy: 0.9309\n",
      "Epoch 88/200\n",
      "4/4 [==============================] - 0s 5ms/step - loss: 0.2573 - accuracy: 0.9315\n",
      "Epoch 89/200\n",
      "4/4 [==============================] - 0s 5ms/step - loss: 0.2575 - accuracy: 0.9309\n",
      "Epoch 90/200\n",
      "4/4 [==============================] - 0s 5ms/step - loss: 0.2574 - accuracy: 0.9311\n",
      "Epoch 91/200\n",
      "4/4 [==============================] - 0s 5ms/step - loss: 0.2572 - accuracy: 0.9313\n",
      "Epoch 92/200\n",
      "4/4 [==============================] - 0s 5ms/step - loss: 0.2552 - accuracy: 0.9304\n",
      "Epoch 93/200\n",
      "4/4 [==============================] - 0s 5ms/step - loss: 0.2557 - accuracy: 0.9322\n",
      "Epoch 94/200\n",
      "4/4 [==============================] - 0s 5ms/step - loss: 0.2531 - accuracy: 0.9326\n",
      "Epoch 95/200\n",
      "4/4 [==============================] - 0s 5ms/step - loss: 0.2533 - accuracy: 0.9323\n",
      "Epoch 96/200\n",
      "4/4 [==============================] - 0s 5ms/step - loss: 0.2537 - accuracy: 0.9327\n",
      "Epoch 97/200\n",
      "4/4 [==============================] - 0s 5ms/step - loss: 0.2536 - accuracy: 0.9315\n",
      "Epoch 98/200\n",
      "4/4 [==============================] - 0s 5ms/step - loss: 0.2532 - accuracy: 0.9311\n",
      "Epoch 99/200\n",
      "4/4 [==============================] - 0s 5ms/step - loss: 0.2525 - accuracy: 0.9327\n",
      "Epoch 100/200\n",
      "4/4 [==============================] - 0s 5ms/step - loss: 0.2529 - accuracy: 0.9314\n",
      "Epoch 101/200\n",
      "4/4 [==============================] - 0s 5ms/step - loss: 0.2518 - accuracy: 0.9315\n",
      "Epoch 102/200\n",
      "4/4 [==============================] - 0s 5ms/step - loss: 0.2514 - accuracy: 0.9329\n",
      "Epoch 103/200\n",
      "4/4 [==============================] - 0s 5ms/step - loss: 0.2507 - accuracy: 0.9329\n",
      "Epoch 104/200\n",
      "4/4 [==============================] - 0s 5ms/step - loss: 0.2508 - accuracy: 0.9318\n",
      "Epoch 105/200\n",
      "4/4 [==============================] - 0s 5ms/step - loss: 0.2504 - accuracy: 0.9323\n",
      "Epoch 106/200\n",
      "4/4 [==============================] - 0s 5ms/step - loss: 0.2497 - accuracy: 0.9324\n",
      "Epoch 107/200\n",
      "4/4 [==============================] - 0s 4ms/step - loss: 0.2506 - accuracy: 0.9323\n",
      "Epoch 108/200\n",
      "4/4 [==============================] - 0s 5ms/step - loss: 0.2501 - accuracy: 0.9311\n",
      "Epoch 109/200\n",
      "4/4 [==============================] - 0s 5ms/step - loss: 0.2477 - accuracy: 0.9323\n",
      "Epoch 110/200\n",
      "4/4 [==============================] - 0s 5ms/step - loss: 0.2483 - accuracy: 0.9331\n",
      "Epoch 111/200\n",
      "4/4 [==============================] - 0s 5ms/step - loss: 0.2468 - accuracy: 0.9342\n",
      "Epoch 112/200\n",
      "4/4 [==============================] - 0s 5ms/step - loss: 0.2479 - accuracy: 0.9328\n",
      "Epoch 113/200\n",
      "4/4 [==============================] - 0s 5ms/step - loss: 0.2490 - accuracy: 0.9317\n",
      "Epoch 114/200\n",
      "4/4 [==============================] - 0s 5ms/step - loss: 0.2496 - accuracy: 0.9320\n",
      "Epoch 115/200\n",
      "4/4 [==============================] - 0s 5ms/step - loss: 0.2482 - accuracy: 0.9320\n",
      "Epoch 116/200\n",
      "4/4 [==============================] - 0s 5ms/step - loss: 0.2464 - accuracy: 0.9317\n",
      "Epoch 117/200\n",
      "4/4 [==============================] - 0s 5ms/step - loss: 0.2464 - accuracy: 0.9334\n",
      "Epoch 118/200\n",
      "4/4 [==============================] - 0s 5ms/step - loss: 0.2460 - accuracy: 0.9332\n",
      "Epoch 119/200\n",
      "4/4 [==============================] - 0s 5ms/step - loss: 0.2464 - accuracy: 0.9323\n",
      "Epoch 120/200\n",
      "4/4 [==============================] - 0s 5ms/step - loss: 0.2469 - accuracy: 0.9317\n",
      "Epoch 121/200\n",
      "4/4 [==============================] - 0s 5ms/step - loss: 0.2451 - accuracy: 0.9334\n",
      "Epoch 122/200\n",
      "4/4 [==============================] - 0s 5ms/step - loss: 0.2454 - accuracy: 0.9334\n",
      "Epoch 123/200\n",
      "4/4 [==============================] - 0s 5ms/step - loss: 0.2443 - accuracy: 0.9334\n",
      "Epoch 124/200\n",
      "4/4 [==============================] - 0s 5ms/step - loss: 0.2443 - accuracy: 0.9329\n",
      "Epoch 125/200\n",
      "4/4 [==============================] - 0s 5ms/step - loss: 0.2452 - accuracy: 0.9320\n",
      "Epoch 126/200\n",
      "4/4 [==============================] - 0s 5ms/step - loss: 0.2452 - accuracy: 0.9328\n",
      "Epoch 127/200\n",
      "4/4 [==============================] - 0s 5ms/step - loss: 0.2451 - accuracy: 0.9332\n",
      "Epoch 128/200\n",
      "4/4 [==============================] - 0s 5ms/step - loss: 0.2454 - accuracy: 0.9323\n",
      "Epoch 129/200\n",
      "4/4 [==============================] - 0s 5ms/step - loss: 0.2431 - accuracy: 0.9324\n",
      "Epoch 130/200\n",
      "4/4 [==============================] - 0s 5ms/step - loss: 0.2438 - accuracy: 0.9325\n",
      "Epoch 131/200\n",
      "4/4 [==============================] - 0s 5ms/step - loss: 0.2429 - accuracy: 0.9328\n",
      "Epoch 132/200\n",
      "4/4 [==============================] - 0s 5ms/step - loss: 0.2435 - accuracy: 0.9327\n",
      "Epoch 133/200\n",
      "4/4 [==============================] - 0s 4ms/step - loss: 0.2430 - accuracy: 0.9324\n",
      "Epoch 134/200\n",
      "4/4 [==============================] - 0s 5ms/step - loss: 0.2411 - accuracy: 0.9336\n",
      "Epoch 135/200\n",
      "4/4 [==============================] - 0s 5ms/step - loss: 0.2420 - accuracy: 0.9327\n",
      "Epoch 136/200\n",
      "4/4 [==============================] - 0s 5ms/step - loss: 0.2410 - accuracy: 0.9335\n",
      "Epoch 137/200\n",
      "4/4 [==============================] - 0s 5ms/step - loss: 0.2423 - accuracy: 0.9326\n",
      "Epoch 138/200\n",
      "4/4 [==============================] - 0s 5ms/step - loss: 0.2412 - accuracy: 0.9332\n",
      "Epoch 139/200\n",
      "4/4 [==============================] - 0s 5ms/step - loss: 0.2412 - accuracy: 0.9328\n",
      "Epoch 140/200\n",
      "4/4 [==============================] - 0s 5ms/step - loss: 0.2408 - accuracy: 0.9334\n",
      "Epoch 141/200\n",
      "4/4 [==============================] - 0s 5ms/step - loss: 0.2400 - accuracy: 0.9331\n",
      "Epoch 142/200\n",
      "4/4 [==============================] - 0s 5ms/step - loss: 0.2402 - accuracy: 0.9330\n",
      "Epoch 143/200\n",
      "4/4 [==============================] - 0s 5ms/step - loss: 0.2409 - accuracy: 0.9337\n",
      "Epoch 144/200\n",
      "4/4 [==============================] - 0s 5ms/step - loss: 0.2393 - accuracy: 0.9329\n",
      "Epoch 145/200\n",
      "4/4 [==============================] - 0s 5ms/step - loss: 0.2396 - accuracy: 0.9328\n",
      "Epoch 146/200\n",
      "4/4 [==============================] - 0s 10ms/step - loss: 0.2396 - accuracy: 0.9324\n",
      "Epoch 147/200\n",
      "4/4 [==============================] - 0s 5ms/step - loss: 0.2393 - accuracy: 0.9334\n",
      "Epoch 148/200\n",
      "4/4 [==============================] - 0s 5ms/step - loss: 0.2393 - accuracy: 0.9330\n",
      "Epoch 149/200\n",
      "4/4 [==============================] - 0s 5ms/step - loss: 0.2384 - accuracy: 0.9327\n",
      "Epoch 150/200\n",
      "4/4 [==============================] - 0s 5ms/step - loss: 0.2385 - accuracy: 0.9321\n",
      "Epoch 151/200\n",
      "4/4 [==============================] - 0s 4ms/step - loss: 0.2388 - accuracy: 0.9332\n",
      "Epoch 152/200\n",
      "4/4 [==============================] - 0s 5ms/step - loss: 0.2380 - accuracy: 0.9347\n",
      "Epoch 153/200\n",
      "4/4 [==============================] - 0s 5ms/step - loss: 0.2374 - accuracy: 0.9334\n",
      "Epoch 154/200\n",
      "4/4 [==============================] - 0s 5ms/step - loss: 0.2380 - accuracy: 0.9334\n",
      "Epoch 155/200\n",
      "4/4 [==============================] - 0s 5ms/step - loss: 0.2384 - accuracy: 0.9330\n",
      "Epoch 156/200\n",
      "4/4 [==============================] - 0s 5ms/step - loss: 0.2380 - accuracy: 0.9341\n",
      "Epoch 157/200\n",
      "4/4 [==============================] - 0s 5ms/step - loss: 0.2382 - accuracy: 0.9333\n",
      "Epoch 158/200\n",
      "4/4 [==============================] - 0s 5ms/step - loss: 0.2360 - accuracy: 0.9334\n",
      "Epoch 159/200\n",
      "4/4 [==============================] - 0s 5ms/step - loss: 0.2363 - accuracy: 0.9338\n",
      "Epoch 160/200\n",
      "4/4 [==============================] - 0s 5ms/step - loss: 0.2362 - accuracy: 0.9334\n",
      "Epoch 161/200\n",
      "4/4 [==============================] - 0s 5ms/step - loss: 0.2363 - accuracy: 0.9335\n",
      "Epoch 162/200\n",
      "4/4 [==============================] - 0s 5ms/step - loss: 0.2361 - accuracy: 0.9331\n",
      "Epoch 163/200\n",
      "4/4 [==============================] - 0s 5ms/step - loss: 0.2357 - accuracy: 0.9343\n",
      "Epoch 164/200\n",
      "4/4 [==============================] - 0s 5ms/step - loss: 0.2347 - accuracy: 0.9344\n",
      "Epoch 165/200\n",
      "4/4 [==============================] - 0s 5ms/step - loss: 0.2347 - accuracy: 0.9336\n",
      "Epoch 166/200\n",
      "4/4 [==============================] - 0s 5ms/step - loss: 0.2339 - accuracy: 0.9347\n",
      "Epoch 167/200\n"
     ]
    },
    {
     "name": "stdout",
     "output_type": "stream",
     "text": [
      "4/4 [==============================] - 0s 5ms/step - loss: 0.2335 - accuracy: 0.9346\n",
      "Epoch 168/200\n",
      "4/4 [==============================] - 0s 4ms/step - loss: 0.2360 - accuracy: 0.9322\n",
      "Epoch 169/200\n",
      "4/4 [==============================] - 0s 5ms/step - loss: 0.2346 - accuracy: 0.9338\n",
      "Epoch 170/200\n",
      "4/4 [==============================] - 0s 5ms/step - loss: 0.2339 - accuracy: 0.9332\n",
      "Epoch 171/200\n",
      "4/4 [==============================] - 0s 5ms/step - loss: 0.2338 - accuracy: 0.9342\n",
      "Epoch 172/200\n",
      "4/4 [==============================] - 0s 5ms/step - loss: 0.2339 - accuracy: 0.9340\n",
      "Epoch 173/200\n",
      "4/4 [==============================] - 0s 5ms/step - loss: 0.2358 - accuracy: 0.9319\n",
      "Epoch 174/200\n",
      "4/4 [==============================] - 0s 5ms/step - loss: 0.2329 - accuracy: 0.9337\n",
      "Epoch 175/200\n",
      "4/4 [==============================] - 0s 5ms/step - loss: 0.2322 - accuracy: 0.9341\n",
      "Epoch 176/200\n",
      "4/4 [==============================] - 0s 5ms/step - loss: 0.2340 - accuracy: 0.9331\n",
      "Epoch 177/200\n",
      "4/4 [==============================] - 0s 5ms/step - loss: 0.2331 - accuracy: 0.9344\n",
      "Epoch 178/200\n",
      "4/4 [==============================] - 0s 5ms/step - loss: 0.2332 - accuracy: 0.9338\n",
      "Epoch 179/200\n",
      "4/4 [==============================] - 0s 5ms/step - loss: 0.2312 - accuracy: 0.9351\n",
      "Epoch 180/200\n",
      "4/4 [==============================] - 0s 5ms/step - loss: 0.2315 - accuracy: 0.9348\n",
      "Epoch 181/200\n",
      "4/4 [==============================] - 0s 5ms/step - loss: 0.2335 - accuracy: 0.9330\n",
      "Epoch 182/200\n",
      "4/4 [==============================] - 0s 5ms/step - loss: 0.2321 - accuracy: 0.9354\n",
      "Epoch 183/200\n",
      "4/4 [==============================] - 0s 5ms/step - loss: 0.2332 - accuracy: 0.9327\n",
      "Epoch 184/200\n",
      "4/4 [==============================] - 0s 5ms/step - loss: 0.2305 - accuracy: 0.9350\n",
      "Epoch 185/200\n",
      "4/4 [==============================] - 0s 5ms/step - loss: 0.2320 - accuracy: 0.9344\n",
      "Epoch 186/200\n",
      "4/4 [==============================] - 0s 4ms/step - loss: 0.2312 - accuracy: 0.9349\n",
      "Epoch 187/200\n",
      "4/4 [==============================] - 0s 5ms/step - loss: 0.2326 - accuracy: 0.9337\n",
      "Epoch 188/200\n",
      "4/4 [==============================] - 0s 5ms/step - loss: 0.2311 - accuracy: 0.9348\n",
      "Epoch 189/200\n",
      "4/4 [==============================] - 0s 5ms/step - loss: 0.2324 - accuracy: 0.9330\n",
      "Epoch 190/200\n",
      "4/4 [==============================] - 0s 5ms/step - loss: 0.2320 - accuracy: 0.9333\n",
      "Epoch 191/200\n",
      "4/4 [==============================] - 0s 5ms/step - loss: 0.2302 - accuracy: 0.9351\n",
      "Epoch 192/200\n",
      "4/4 [==============================] - 0s 5ms/step - loss: 0.2318 - accuracy: 0.9331\n",
      "Epoch 193/200\n",
      "4/4 [==============================] - 0s 5ms/step - loss: 0.2300 - accuracy: 0.9356\n",
      "Epoch 194/200\n",
      "4/4 [==============================] - 0s 5ms/step - loss: 0.2306 - accuracy: 0.9340\n",
      "Epoch 195/200\n",
      "4/4 [==============================] - 0s 5ms/step - loss: 0.2300 - accuracy: 0.9341\n",
      "Epoch 196/200\n",
      "4/4 [==============================] - 0s 5ms/step - loss: 0.2312 - accuracy: 0.9335\n",
      "Epoch 197/200\n",
      "4/4 [==============================] - 0s 5ms/step - loss: 0.2313 - accuracy: 0.9334\n",
      "Epoch 198/200\n",
      "4/4 [==============================] - 0s 5ms/step - loss: 0.2287 - accuracy: 0.9345\n",
      "Epoch 199/200\n",
      "4/4 [==============================] - 0s 5ms/step - loss: 0.2294 - accuracy: 0.9342\n",
      "Epoch 200/200\n",
      "4/4 [==============================] - 0s 5ms/step - loss: 0.2291 - accuracy: 0.9343\n"
     ]
    }
   ],
   "source": [
    "history = tf.model.fit(x_data, y_one_hot, batch_size=batch_size, epochs=training_epochs)"
   ]
  },
  {
   "cell_type": "code",
   "execution_count": 8,
   "id": "0f3f6697",
   "metadata": {},
   "outputs": [
    {
     "data": {
      "image/png": "[encoded data removed]",
      "text/plain": [
       "<Figure size 460.8x403.2 with 1 Axes>"
      ]
     },
     "metadata": {},
     "output_type": "display_data"
    }
   ],
   "source": [
    "# 모델 손실 함수 시각화\n",
    "from jupyterthemes import jtplot\n",
    "jtplot.style(theme='monokai')\n",
    "\n",
    "plt.plot(history.history['loss'], 'b-', label='loss')\n",
    "#plt.plot(history.history['val_loss'], 'r-', label='val_loss')\n",
    "plt.title('Model loss')\n",
    "plt.xlabel('Epoch')\n",
    "plt.ylabel('Loss')\n",
    "plt.legend()\n",
    "plt.show()"
   ]
  },
  {
   "cell_type": "code",
   "execution_count": 9,
   "id": "83e399f2",
   "metadata": {},
   "outputs": [
    {
     "data": {
      "image/png": "[encoded data removed]",
      "text/plain": [
       "<Figure size 460.8x403.2 with 1 Axes>"
      ]
     },
     "metadata": {},
     "output_type": "display_data"
    }
   ],
   "source": [
    "# 모델 정확도 시각화\n",
    "plt.plot(history.history['accuracy'], 'g-', label='accuracy')\n",
    "#plt.plot(history.history['val_accuracy'], 'r-', label='val_accuracy')\n",
    "plt.title('Model Accuracy')\n",
    "plt.xlabel('Epoch')\n",
    "plt.ylabel('Accuracy')\n",
    "plt.legend()\n",
    "plt.show()"
   ]
  },
  {
   "cell_type": "code",
   "execution_count": 10,
   "id": "f860be4f",
   "metadata": {},
   "outputs": [
    {
     "name": "stdout",
     "output_type": "stream",
     "text": [
      "(8000, 12) (8000, 4)\n"
     ]
    }
   ],
   "source": [
    "# Full x_data test\n",
    "test_data = np.loadtxt('MIMO_2_10dB_NoC_4_test.csv', delimiter=',', dtype=np.float32)\n",
    "x_test_data = test_data[:, 1:13]\n",
    "y_test_data = test_data[:, -4:]\n",
    "print(x_test_data.shape, y_test_data.shape)"
   ]
  },
  {
   "cell_type": "code",
   "execution_count": 11,
   "id": "1b49e243",
   "metadata": {},
   "outputs": [
    {
     "name": "stdout",
     "output_type": "stream",
     "text": [
      "[[1]\n",
      " [1]\n",
      " [1]\n",
      " ...\n",
      " [2]\n",
      " [2]\n",
      " [2]]\n"
     ]
    }
   ],
   "source": [
    "# Convert y_test_data to y_test_bit\n",
    "i=1\n",
    "y_test_merge = []\n",
    "while i <= y_test_data.shape[0]:\n",
    "    temp2 = \"\".join(str(_) for _ in y_test_data[i-1,:])\n",
    "    y_test_merge.append(temp2)\n",
    "    i = i + 1\n",
    "\n",
    "encoder = LabelEncoder()\n",
    "encoder.fit(y_test_merge)\n",
    "y_test_bit = encoder.transform(y_test_merge)\n",
    "y_test_bit = y_test_bit.reshape(-1, 1)\n",
    "print(y_test_bit)"
   ]
  },
  {
   "cell_type": "code",
   "execution_count": 12,
   "id": "02ceb9be",
   "metadata": {},
   "outputs": [
    {
     "name": "stdout",
     "output_type": "stream",
     "text": [
      "one_hot: [[0. 1. 0. 0.]\n",
      " [0. 1. 0. 0.]\n",
      " [0. 1. 0. 0.]\n",
      " ...\n",
      " [0. 0. 1. 0.]\n",
      " [0. 0. 1. 0.]\n",
      " [0. 0. 1. 0.]]\n"
     ]
    }
   ],
   "source": [
    "# Convert y_data to one_hot\n",
    "y_test_one_hot = tf.keras.utils.to_categorical(y_test_bit, nb_classes)\n",
    "print(\"one_hot:\", y_test_one_hot)"
   ]
  },
  {
   "cell_type": "code",
   "execution_count": 13,
   "id": "26d7e049",
   "metadata": {},
   "outputs": [
    {
     "name": "stdout",
     "output_type": "stream",
     "text": [
      "250/250 [==============================] - 0s 1ms/step - loss: 0.2150 - accuracy: 0.9400\n",
      "loss:  0.2150433510541916\n",
      "accuracy 0.9399999976158142\n"
     ]
    }
   ],
   "source": [
    "evaluation = tf.model.evaluate(x_test_data, y_test_one_hot)\n",
    "print('loss: ', evaluation[0])\n",
    "print('accuracy', evaluation[1])"
   ]
  },
  {
   "cell_type": "code",
   "execution_count": 14,
   "id": "d62b59fa",
   "metadata": {},
   "outputs": [],
   "source": [
    "predict_x = tf.model.predict(x_test_data) \n",
    "pred = np.argmax(predict_x,axis=1)\n",
    "# for p, y in zip(pred, y_test_bit.flatten()):\n",
    " #   print(\"[{}] Prediction: {} True Y: {}\".format(p == int(y), p, int(y)))"
   ]
  },
  {
   "cell_type": "code",
   "execution_count": 15,
   "id": "e5514203",
   "metadata": {},
   "outputs": [
    {
     "name": "stdout",
     "output_type": "stream",
     "text": [
      "Error : 480\n",
      "Error Count: 505\n"
     ]
    }
   ],
   "source": [
    "res_pred = pred.reshape(y_test_data.shape[0], 1)\n",
    "error_cnt = 0\n",
    "error = 0\n",
    "for i in range(0, y_test_data.shape[0]):\n",
    "    if res_pred[i] != y_test_bit[i]:\n",
    "        #print(\"False : {}\".format(i))\n",
    "        #print(\"[{}] data : {}\".format(i, y_test_data[i]))\n",
    "        error += 1\n",
    "        for n in range(0, y_test_data.shape[0], int(y_test_data.shape[0]/nb_classes)):\n",
    "            if y_test_bit[n] == res_pred[i]:\n",
    "                #print(\"[{}] pred data: {}\".format(n, y_test_data[n]))\n",
    "                bit_error = 0\n",
    "                for m in range(0, y_test_data.shape[1]): \n",
    "                    if y_test_data[i, m] != y_test_data[n, m]:\n",
    "                        bit_error += 1\n",
    "                        error_cnt += 1\n",
    "                #print(\"bit error count : \", bit_error)\n",
    "                break\n",
    "print(\"Error : {}\".format(error))\n",
    "print(\"Error Count: {}\".format(error_cnt))"
   ]
  },
  {
   "cell_type": "code",
   "execution_count": 16,
   "id": "979f11c4",
   "metadata": {},
   "outputs": [
    {
     "name": "stdout",
     "output_type": "stream",
     "text": [
      "BER: 0.01578125\n"
     ]
    }
   ],
   "source": [
    "BER = (error_cnt)/(y_test_data.shape[0]*2*2)\n",
    "print(\"BER: {}\".format(BER))"
   ]
  },
  {
   "cell_type": "code",
   "execution_count": null,
   "id": "5a5b98a7",
   "metadata": {},
   "outputs": [],
   "source": []
  }
 ],
 "metadata": {
  "kernelspec": {
   "display_name": "Python 3 (ipykernel)",
   "language": "python",
   "name": "python3"
  },
  "language_info": {
   "codemirror_mode": {
    "name": "ipython",
    "version": 3
   },
   "file_extension": ".py",
   "mimetype": "text/x-python",
   "name": "python",
   "nbconvert_exporter": "python",
   "pygments_lexer": "ipython3",
   "version": "3.8.12"
  }
 },
 "nbformat": 4,
 "nbformat_minor": 5
}
