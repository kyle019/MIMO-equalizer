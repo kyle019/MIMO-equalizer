{
 "cells": [
  {
   "cell_type": "code",
   "execution_count": 1,
   "id": "39878172",
   "metadata": {},
   "outputs": [],
   "source": [
    "import numpy as np\n",
    "import random\n",
    "import matplotlib.pyplot as plt\n",
    "import tensorflow as tf\n",
    "from sklearn.model_selection import train_test_split\n",
    "from sklearn.preprocessing import LabelEncoder\n",
    "\n",
    "random.seed(777)  # for reproducibility\n",
    "learning_rate = 0.001\n",
    "batch_size = 10000\n",
    "training_epochs = 200\n",
    "nb_classes = 4\n",
    "drop_rate = 0.3"
   ]
  },
  {
   "cell_type": "code",
   "execution_count": 2,
   "id": "6a28f0ed",
   "metadata": {
    "scrolled": false
   },
   "outputs": [
    {
     "name": "stdout",
     "output_type": "stream",
     "text": [
      "(400000, 20) (400000, 4)\n",
      "[ 3.985979    2.9266756  -1.4389254   2.6688879   0.38018808  1.2967526\n",
      " -1.5972459   0.6096486   0.22540106 -0.9246753  -0.30659586  0.24227208\n",
      " -0.70710677 -0.70710677  0.70710677  0.70710677  0.70710677 -0.70710677\n",
      "  0.70710677 -0.70710677]\n"
     ]
    }
   ],
   "source": [
    "xy = np.loadtxt('MIMO_2_0dB_NoC_4.csv', delimiter=',', dtype=np.float32)\n",
    "x_data = xy[:, 1:21]\n",
    "y_data = xy[:, -4:]\n",
    "\n",
    "print(x_data.shape, y_data.shape)\n",
    "print(x_data[0])"
   ]
  },
  {
   "cell_type": "code",
   "execution_count": 3,
   "id": "ee73316f",
   "metadata": {},
   "outputs": [
    {
     "name": "stdout",
     "output_type": "stream",
     "text": [
      "[[1]\n",
      " [1]\n",
      " [1]\n",
      " ...\n",
      " [2]\n",
      " [2]\n",
      " [2]]\n"
     ]
    }
   ],
   "source": [
    "# Convert y_data to y_bit\n",
    "i=1\n",
    "y_merge = []\n",
    "while i <= y_data.shape[0]:\n",
    "    temp = \"\".join(str(_) for _ in y_data[i-1,:])\n",
    "    y_merge.append(temp)\n",
    "    i = i + 1\n",
    "\n",
    "encoder = LabelEncoder()\n",
    "encoder.fit(y_merge)\n",
    "y_bit = encoder.transform(y_merge)\n",
    "y_bit = y_bit.reshape(-1, 1)\n",
    "print(y_bit)"
   ]
  },
  {
   "cell_type": "code",
   "execution_count": 4,
   "id": "633ea46e",
   "metadata": {},
   "outputs": [
    {
     "name": "stdout",
     "output_type": "stream",
     "text": [
      "one_hot: [[0. 1. 0. 0.]\n",
      " [0. 1. 0. 0.]\n",
      " [0. 1. 0. 0.]\n",
      " ...\n",
      " [0. 0. 1. 0.]\n",
      " [0. 0. 1. 0.]\n",
      " [0. 0. 1. 0.]]\n"
     ]
    }
   ],
   "source": [
    "# Convert y_data to one_hot\n",
    "y_one_hot = tf.keras.utils.to_categorical(y_bit, nb_classes)\n",
    "print(\"one_hot:\", y_one_hot)"
   ]
  },
  {
   "cell_type": "code",
   "execution_count": 5,
   "id": "d6f44f52",
   "metadata": {},
   "outputs": [],
   "source": [
    "tf.model = tf.keras.Sequential()\n",
    "# Glorot normal initializer, also called Xavier normal initializer.\n",
    "# see https://www.tensorflow.org/api_docs/python/tf/initializers"
   ]
  },
  {
   "cell_type": "code",
   "execution_count": 6,
   "id": "9e58a9ba",
   "metadata": {},
   "outputs": [
    {
     "name": "stdout",
     "output_type": "stream",
     "text": [
      "Model: \"sequential\"\n",
      "_________________________________________________________________\n",
      "Layer (type)                 Output Shape              Param #   \n",
      "=================================================================\n",
      "dense (Dense)                (None, 640)               13440     \n",
      "_________________________________________________________________\n",
      "dropout (Dropout)            (None, 640)               0         \n",
      "_________________________________________________________________\n",
      "dense_1 (Dense)              (None, 320)               205120    \n",
      "_________________________________________________________________\n",
      "dropout_1 (Dropout)          (None, 320)               0         \n",
      "_________________________________________________________________\n",
      "dense_2 (Dense)              (None, 4)                 1284      \n",
      "=================================================================\n",
      "Total params: 219,844\n",
      "Trainable params: 219,844\n",
      "Non-trainable params: 0\n",
      "_________________________________________________________________\n"
     ]
    }
   ],
   "source": [
    "tf.model.add(tf.keras.layers.Dense(input_dim=x_data.shape[1], units=640, kernel_regularizer=tf.keras.regularizers.l2(0.001), activation='relu'))\n",
    "tf.model.add(tf.keras.layers.Dropout(drop_rate))\n",
    "tf.model.add(tf.keras.layers.Dense(units=320, kernel_regularizer=tf.keras.regularizers.l2(0.001), activation='relu'))\n",
    "tf.model.add(tf.keras.layers.Dropout(drop_rate))\n",
    "tf.model.add(tf.keras.layers.Dense(units=nb_classes, activation='softmax'))\n",
    "tf.model.compile(loss='categorical_crossentropy',\n",
    "                 optimizer=tf.keras.optimizers.Adam(learning_rate=learning_rate), metrics=['accuracy'])\n",
    "tf.model.summary()"
   ]
  },
  {
   "cell_type": "code",
   "execution_count": 7,
   "id": "c346ad84",
   "metadata": {
    "scrolled": true
   },
   "outputs": [
    {
     "name": "stdout",
     "output_type": "stream",
     "text": [
      "Epoch 1/200\n",
      "40/40 [==============================] - 1s 6ms/step - loss: 1.3739 - accuracy: 0.5834\n",
      "Epoch 2/200\n",
      "40/40 [==============================] - 0s 6ms/step - loss: 0.8280 - accuracy: 0.7608\n",
      "Epoch 3/200\n",
      "40/40 [==============================] - 0s 6ms/step - loss: 0.6956 - accuracy: 0.7740: 0s - loss: 0.7098 - accuracy: 0.\n",
      "Epoch 4/200\n",
      "40/40 [==============================] - 0s 7ms/step - loss: 0.6440 - accuracy: 0.7773\n",
      "Epoch 5/200\n",
      "40/40 [==============================] - 0s 6ms/step - loss: 0.6207 - accuracy: 0.7792\n",
      "Epoch 6/200\n",
      "40/40 [==============================] - 0s 6ms/step - loss: 0.6110 - accuracy: 0.7792\n",
      "Epoch 7/200\n",
      "40/40 [==============================] - 0s 6ms/step - loss: 0.6030 - accuracy: 0.7801\n",
      "Epoch 8/200\n",
      "40/40 [==============================] - 0s 6ms/step - loss: 0.5980 - accuracy: 0.7811\n",
      "Epoch 9/200\n",
      "40/40 [==============================] - 0s 6ms/step - loss: 0.5935 - accuracy: 0.7811\n",
      "Epoch 10/200\n",
      "40/40 [==============================] - 0s 6ms/step - loss: 0.5917 - accuracy: 0.7810\n",
      "Epoch 11/200\n",
      "40/40 [==============================] - 0s 6ms/step - loss: 0.5895 - accuracy: 0.7808\n",
      "Epoch 12/200\n",
      "40/40 [==============================] - 0s 6ms/step - loss: 0.5867 - accuracy: 0.7809\n",
      "Epoch 13/200\n",
      "40/40 [==============================] - 0s 6ms/step - loss: 0.5850 - accuracy: 0.7807\n",
      "Epoch 14/200\n",
      "40/40 [==============================] - 0s 6ms/step - loss: 0.5837 - accuracy: 0.7810\n",
      "Epoch 15/200\n",
      "40/40 [==============================] - 0s 6ms/step - loss: 0.5819 - accuracy: 0.7810\n",
      "Epoch 16/200\n",
      "40/40 [==============================] - 0s 6ms/step - loss: 0.5804 - accuracy: 0.7815\n",
      "Epoch 17/200\n",
      "40/40 [==============================] - 0s 7ms/step - loss: 0.5788 - accuracy: 0.7814\n",
      "Epoch 18/200\n",
      "40/40 [==============================] - 0s 7ms/step - loss: 0.5767 - accuracy: 0.7813\n",
      "Epoch 19/200\n",
      "40/40 [==============================] - 0s 6ms/step - loss: 0.5770 - accuracy: 0.7812\n",
      "Epoch 20/200\n",
      "40/40 [==============================] - 0s 6ms/step - loss: 0.5751 - accuracy: 0.7816\n",
      "Epoch 21/200\n",
      "40/40 [==============================] - 0s 6ms/step - loss: 0.5740 - accuracy: 0.7816\n",
      "Epoch 22/200\n",
      "40/40 [==============================] - 0s 6ms/step - loss: 0.5733 - accuracy: 0.7814\n",
      "Epoch 23/200\n",
      "40/40 [==============================] - 0s 6ms/step - loss: 0.5724 - accuracy: 0.7815\n",
      "Epoch 24/200\n",
      "40/40 [==============================] - 0s 6ms/step - loss: 0.5718 - accuracy: 0.7816\n",
      "Epoch 25/200\n",
      "40/40 [==============================] - 0s 6ms/step - loss: 0.5711 - accuracy: 0.7811\n",
      "Epoch 26/200\n",
      "40/40 [==============================] - 0s 6ms/step - loss: 0.5710 - accuracy: 0.7809\n",
      "Epoch 27/200\n",
      "40/40 [==============================] - 0s 6ms/step - loss: 0.5693 - accuracy: 0.7815\n",
      "Epoch 28/200\n",
      "40/40 [==============================] - 0s 6ms/step - loss: 0.5688 - accuracy: 0.7821\n",
      "Epoch 29/200\n",
      "40/40 [==============================] - 0s 6ms/step - loss: 0.5672 - accuracy: 0.7823\n",
      "Epoch 30/200\n",
      "40/40 [==============================] - 0s 6ms/step - loss: 0.5682 - accuracy: 0.7818\n",
      "Epoch 31/200\n",
      "40/40 [==============================] - 0s 6ms/step - loss: 0.5673 - accuracy: 0.7818\n",
      "Epoch 32/200\n",
      "40/40 [==============================] - 0s 6ms/step - loss: 0.5672 - accuracy: 0.7822\n",
      "Epoch 33/200\n",
      "40/40 [==============================] - 0s 6ms/step - loss: 0.5662 - accuracy: 0.7812\n",
      "Epoch 34/200\n",
      "40/40 [==============================] - 0s 6ms/step - loss: 0.5660 - accuracy: 0.7822\n",
      "Epoch 35/200\n",
      "40/40 [==============================] - 0s 6ms/step - loss: 0.5661 - accuracy: 0.7815\n",
      "Epoch 36/200\n",
      "40/40 [==============================] - 0s 6ms/step - loss: 0.5640 - accuracy: 0.7822\n",
      "Epoch 37/200\n",
      "40/40 [==============================] - 0s 7ms/step - loss: 0.5648 - accuracy: 0.7818\n",
      "Epoch 38/200\n",
      "40/40 [==============================] - 0s 6ms/step - loss: 0.5645 - accuracy: 0.7817\n",
      "Epoch 39/200\n",
      "40/40 [==============================] - 0s 7ms/step - loss: 0.5644 - accuracy: 0.7812\n",
      "Epoch 40/200\n",
      "40/40 [==============================] - 0s 6ms/step - loss: 0.5636 - accuracy: 0.7816\n",
      "Epoch 41/200\n",
      "40/40 [==============================] - 0s 6ms/step - loss: 0.5629 - accuracy: 0.7819\n",
      "Epoch 42/200\n",
      "40/40 [==============================] - 0s 6ms/step - loss: 0.5628 - accuracy: 0.7821\n",
      "Epoch 43/200\n",
      "40/40 [==============================] - 0s 7ms/step - loss: 0.5630 - accuracy: 0.7816\n",
      "Epoch 44/200\n",
      "40/40 [==============================] - 0s 6ms/step - loss: 0.5624 - accuracy: 0.7821\n",
      "Epoch 45/200\n",
      "40/40 [==============================] - 0s 6ms/step - loss: 0.5617 - accuracy: 0.7819\n",
      "Epoch 46/200\n",
      "40/40 [==============================] - 0s 6ms/step - loss: 0.5620 - accuracy: 0.7818\n",
      "Epoch 47/200\n",
      "40/40 [==============================] - 0s 6ms/step - loss: 0.5613 - accuracy: 0.7820\n",
      "Epoch 48/200\n",
      "40/40 [==============================] - 0s 6ms/step - loss: 0.5616 - accuracy: 0.7815\n",
      "Epoch 49/200\n",
      "40/40 [==============================] - 0s 7ms/step - loss: 0.5609 - accuracy: 0.7820\n",
      "Epoch 50/200\n",
      "40/40 [==============================] - 0s 7ms/step - loss: 0.5607 - accuracy: 0.7821\n",
      "Epoch 51/200\n",
      "40/40 [==============================] - 0s 6ms/step - loss: 0.5607 - accuracy: 0.7819\n",
      "Epoch 52/200\n",
      "40/40 [==============================] - 0s 6ms/step - loss: 0.5602 - accuracy: 0.7816\n",
      "Epoch 53/200\n",
      "40/40 [==============================] - 0s 6ms/step - loss: 0.5601 - accuracy: 0.7824\n",
      "Epoch 54/200\n",
      "40/40 [==============================] - 0s 6ms/step - loss: 0.5595 - accuracy: 0.7818\n",
      "Epoch 55/200\n",
      "40/40 [==============================] - 0s 6ms/step - loss: 0.5591 - accuracy: 0.7821\n",
      "Epoch 56/200\n",
      "40/40 [==============================] - 0s 6ms/step - loss: 0.5594 - accuracy: 0.7825\n",
      "Epoch 57/200\n",
      "40/40 [==============================] - 0s 6ms/step - loss: 0.5589 - accuracy: 0.7820\n",
      "Epoch 58/200\n",
      "40/40 [==============================] - 0s 6ms/step - loss: 0.5588 - accuracy: 0.7820\n",
      "Epoch 59/200\n",
      "40/40 [==============================] - 0s 6ms/step - loss: 0.5577 - accuracy: 0.7830\n",
      "Epoch 60/200\n",
      "40/40 [==============================] - 0s 6ms/step - loss: 0.5582 - accuracy: 0.7822\n",
      "Epoch 61/200\n",
      "40/40 [==============================] - 0s 7ms/step - loss: 0.5585 - accuracy: 0.7825\n",
      "Epoch 62/200\n",
      "40/40 [==============================] - 0s 6ms/step - loss: 0.5583 - accuracy: 0.7821\n",
      "Epoch 63/200\n",
      "40/40 [==============================] - 0s 7ms/step - loss: 0.5589 - accuracy: 0.7819\n",
      "Epoch 64/200\n",
      "40/40 [==============================] - 0s 6ms/step - loss: 0.5580 - accuracy: 0.7819\n",
      "Epoch 65/200\n",
      "40/40 [==============================] - 0s 6ms/step - loss: 0.5573 - accuracy: 0.7820\n",
      "Epoch 66/200\n",
      "40/40 [==============================] - 0s 7ms/step - loss: 0.5570 - accuracy: 0.7824\n",
      "Epoch 67/200\n",
      "40/40 [==============================] - 0s 6ms/step - loss: 0.5561 - accuracy: 0.7823\n",
      "Epoch 68/200\n",
      "40/40 [==============================] - 0s 6ms/step - loss: 0.5564 - accuracy: 0.7822\n",
      "Epoch 69/200\n",
      "40/40 [==============================] - 0s 6ms/step - loss: 0.5567 - accuracy: 0.7822\n",
      "Epoch 70/200\n",
      "40/40 [==============================] - 0s 6ms/step - loss: 0.5574 - accuracy: 0.7816\n",
      "Epoch 71/200\n",
      "40/40 [==============================] - 0s 6ms/step - loss: 0.5568 - accuracy: 0.7821\n",
      "Epoch 72/200\n",
      "40/40 [==============================] - 0s 6ms/step - loss: 0.5578 - accuracy: 0.7815\n",
      "Epoch 73/200\n",
      "40/40 [==============================] - 0s 6ms/step - loss: 0.5550 - accuracy: 0.7827\n",
      "Epoch 74/200\n",
      "40/40 [==============================] - 0s 6ms/step - loss: 0.5555 - accuracy: 0.7829\n",
      "Epoch 75/200\n",
      "40/40 [==============================] - 0s 6ms/step - loss: 0.5553 - accuracy: 0.7823\n",
      "Epoch 76/200\n",
      "40/40 [==============================] - 0s 7ms/step - loss: 0.5560 - accuracy: 0.7825\n",
      "Epoch 77/200\n",
      "40/40 [==============================] - 0s 7ms/step - loss: 0.5558 - accuracy: 0.7821\n",
      "Epoch 78/200\n",
      "40/40 [==============================] - 0s 6ms/step - loss: 0.5553 - accuracy: 0.7821\n",
      "Epoch 79/200\n",
      "40/40 [==============================] - 0s 6ms/step - loss: 0.5551 - accuracy: 0.7818\n",
      "Epoch 80/200\n",
      "40/40 [==============================] - 0s 6ms/step - loss: 0.5552 - accuracy: 0.7826\n",
      "Epoch 81/200\n",
      "40/40 [==============================] - 0s 6ms/step - loss: 0.5552 - accuracy: 0.7820\n",
      "Epoch 82/200\n"
     ]
    },
    {
     "name": "stdout",
     "output_type": "stream",
     "text": [
      "40/40 [==============================] - 0s 6ms/step - loss: 0.5541 - accuracy: 0.7826\n",
      "Epoch 83/200\n",
      "40/40 [==============================] - 0s 6ms/step - loss: 0.5553 - accuracy: 0.7822\n",
      "Epoch 84/200\n",
      "40/40 [==============================] - 0s 6ms/step - loss: 0.5544 - accuracy: 0.7823\n",
      "Epoch 85/200\n",
      "40/40 [==============================] - 0s 7ms/step - loss: 0.5547 - accuracy: 0.7826\n",
      "Epoch 86/200\n",
      "40/40 [==============================] - 0s 6ms/step - loss: 0.5548 - accuracy: 0.7822\n",
      "Epoch 87/200\n",
      "40/40 [==============================] - 0s 6ms/step - loss: 0.5543 - accuracy: 0.7819\n",
      "Epoch 88/200\n",
      "40/40 [==============================] - 0s 6ms/step - loss: 0.5538 - accuracy: 0.7827\n",
      "Epoch 89/200\n",
      "40/40 [==============================] - 0s 6ms/step - loss: 0.5545 - accuracy: 0.7820\n",
      "Epoch 90/200\n",
      "40/40 [==============================] - 0s 6ms/step - loss: 0.5543 - accuracy: 0.7828\n",
      "Epoch 91/200\n",
      "40/40 [==============================] - 0s 6ms/step - loss: 0.5529 - accuracy: 0.7827\n",
      "Epoch 92/200\n",
      "40/40 [==============================] - 0s 6ms/step - loss: 0.5533 - accuracy: 0.7824\n",
      "Epoch 93/200\n",
      "40/40 [==============================] - 0s 6ms/step - loss: 0.5539 - accuracy: 0.7821\n",
      "Epoch 94/200\n",
      "40/40 [==============================] - 0s 6ms/step - loss: 0.5539 - accuracy: 0.7823\n",
      "Epoch 95/200\n",
      "40/40 [==============================] - 0s 6ms/step - loss: 0.5536 - accuracy: 0.7822\n",
      "Epoch 96/200\n",
      "40/40 [==============================] - 0s 6ms/step - loss: 0.5536 - accuracy: 0.7824\n",
      "Epoch 97/200\n",
      "40/40 [==============================] - 0s 6ms/step - loss: 0.5526 - accuracy: 0.7824\n",
      "Epoch 98/200\n",
      "40/40 [==============================] - 0s 6ms/step - loss: 0.5529 - accuracy: 0.7825\n",
      "Epoch 99/200\n",
      "40/40 [==============================] - 0s 6ms/step - loss: 0.5529 - accuracy: 0.7821\n",
      "Epoch 100/200\n",
      "40/40 [==============================] - 0s 7ms/step - loss: 0.5533 - accuracy: 0.7818\n",
      "Epoch 101/200\n",
      "40/40 [==============================] - 0s 6ms/step - loss: 0.5531 - accuracy: 0.7823\n",
      "Epoch 102/200\n",
      "40/40 [==============================] - 0s 6ms/step - loss: 0.5530 - accuracy: 0.7816\n",
      "Epoch 103/200\n",
      "40/40 [==============================] - 0s 7ms/step - loss: 0.5531 - accuracy: 0.7827\n",
      "Epoch 104/200\n",
      "40/40 [==============================] - 0s 7ms/step - loss: 0.5532 - accuracy: 0.7819\n",
      "Epoch 105/200\n",
      "40/40 [==============================] - 0s 7ms/step - loss: 0.5518 - accuracy: 0.7824\n",
      "Epoch 106/200\n",
      "40/40 [==============================] - 0s 6ms/step - loss: 0.5522 - accuracy: 0.7822\n",
      "Epoch 107/200\n",
      "40/40 [==============================] - 0s 6ms/step - loss: 0.5522 - accuracy: 0.7821\n",
      "Epoch 108/200\n",
      "40/40 [==============================] - 0s 7ms/step - loss: 0.5532 - accuracy: 0.7818\n",
      "Epoch 109/200\n",
      "40/40 [==============================] - 0s 6ms/step - loss: 0.5520 - accuracy: 0.7824\n",
      "Epoch 110/200\n",
      "40/40 [==============================] - 0s 6ms/step - loss: 0.5527 - accuracy: 0.7822\n",
      "Epoch 111/200\n",
      "40/40 [==============================] - 0s 6ms/step - loss: 0.5518 - accuracy: 0.7822\n",
      "Epoch 112/200\n",
      "40/40 [==============================] - 0s 7ms/step - loss: 0.5517 - accuracy: 0.7819\n",
      "Epoch 113/200\n",
      "40/40 [==============================] - 0s 7ms/step - loss: 0.5525 - accuracy: 0.7825\n",
      "Epoch 114/200\n",
      "40/40 [==============================] - 0s 7ms/step - loss: 0.5511 - accuracy: 0.7830\n",
      "Epoch 115/200\n",
      "40/40 [==============================] - 0s 7ms/step - loss: 0.5515 - accuracy: 0.7826\n",
      "Epoch 116/200\n",
      "40/40 [==============================] - 0s 7ms/step - loss: 0.5526 - accuracy: 0.7814\n",
      "Epoch 117/200\n",
      "40/40 [==============================] - 0s 7ms/step - loss: 0.5518 - accuracy: 0.7821\n",
      "Epoch 118/200\n",
      "40/40 [==============================] - 0s 7ms/step - loss: 0.5520 - accuracy: 0.7822\n",
      "Epoch 119/200\n",
      "40/40 [==============================] - 0s 6ms/step - loss: 0.5509 - accuracy: 0.7822\n",
      "Epoch 120/200\n",
      "40/40 [==============================] - 0s 7ms/step - loss: 0.5513 - accuracy: 0.7827\n",
      "Epoch 121/200\n",
      "40/40 [==============================] - 0s 7ms/step - loss: 0.5518 - accuracy: 0.7824\n",
      "Epoch 122/200\n",
      "40/40 [==============================] - 0s 7ms/step - loss: 0.5511 - accuracy: 0.7823\n",
      "Epoch 123/200\n",
      "40/40 [==============================] - 0s 7ms/step - loss: 0.5517 - accuracy: 0.7823\n",
      "Epoch 124/200\n",
      "40/40 [==============================] - 0s 7ms/step - loss: 0.5509 - accuracy: 0.7821\n",
      "Epoch 125/200\n",
      "40/40 [==============================] - 0s 7ms/step - loss: 0.5508 - accuracy: 0.7819\n",
      "Epoch 126/200\n",
      "40/40 [==============================] - 0s 7ms/step - loss: 0.5512 - accuracy: 0.7821\n",
      "Epoch 127/200\n",
      "40/40 [==============================] - 0s 7ms/step - loss: 0.5507 - accuracy: 0.7826\n",
      "Epoch 128/200\n",
      "40/40 [==============================] - 0s 7ms/step - loss: 0.5511 - accuracy: 0.7824\n",
      "Epoch 129/200\n",
      "40/40 [==============================] - 0s 7ms/step - loss: 0.5510 - accuracy: 0.7827\n",
      "Epoch 130/200\n",
      "40/40 [==============================] - 0s 7ms/step - loss: 0.5524 - accuracy: 0.7819\n",
      "Epoch 131/200\n",
      "40/40 [==============================] - 0s 7ms/step - loss: 0.5501 - accuracy: 0.7828\n",
      "Epoch 132/200\n",
      "40/40 [==============================] - 0s 7ms/step - loss: 0.5501 - accuracy: 0.7825\n",
      "Epoch 133/200\n",
      "40/40 [==============================] - 0s 7ms/step - loss: 0.5512 - accuracy: 0.7817\n",
      "Epoch 134/200\n",
      "40/40 [==============================] - 0s 6ms/step - loss: 0.5512 - accuracy: 0.7822\n",
      "Epoch 135/200\n",
      "40/40 [==============================] - 0s 7ms/step - loss: 0.5511 - accuracy: 0.7819\n",
      "Epoch 136/200\n",
      "40/40 [==============================] - 0s 6ms/step - loss: 0.5506 - accuracy: 0.7827\n",
      "Epoch 137/200\n",
      "40/40 [==============================] - 0s 6ms/step - loss: 0.5499 - accuracy: 0.7822\n",
      "Epoch 138/200\n",
      "40/40 [==============================] - 0s 6ms/step - loss: 0.5497 - accuracy: 0.7831\n",
      "Epoch 139/200\n",
      "40/40 [==============================] - 0s 6ms/step - loss: 0.5499 - accuracy: 0.7822\n",
      "Epoch 140/200\n",
      "40/40 [==============================] - 0s 6ms/step - loss: 0.5513 - accuracy: 0.7821\n",
      "Epoch 141/200\n",
      "40/40 [==============================] - 0s 6ms/step - loss: 0.5502 - accuracy: 0.7829\n",
      "Epoch 142/200\n",
      "40/40 [==============================] - 0s 6ms/step - loss: 0.5496 - accuracy: 0.7828\n",
      "Epoch 143/200\n",
      "40/40 [==============================] - 0s 6ms/step - loss: 0.5496 - accuracy: 0.7823\n",
      "Epoch 144/200\n",
      "40/40 [==============================] - 0s 6ms/step - loss: 0.5497 - accuracy: 0.7822\n",
      "Epoch 145/200\n",
      "40/40 [==============================] - 0s 6ms/step - loss: 0.5503 - accuracy: 0.7823\n",
      "Epoch 146/200\n",
      "40/40 [==============================] - 0s 6ms/step - loss: 0.5503 - accuracy: 0.7825\n",
      "Epoch 147/200\n",
      "40/40 [==============================] - 0s 6ms/step - loss: 0.5501 - accuracy: 0.7827\n",
      "Epoch 148/200\n",
      "40/40 [==============================] - 0s 6ms/step - loss: 0.5499 - accuracy: 0.7824\n",
      "Epoch 149/200\n",
      "40/40 [==============================] - 0s 6ms/step - loss: 0.5513 - accuracy: 0.7820\n",
      "Epoch 150/200\n",
      "40/40 [==============================] - 0s 6ms/step - loss: 0.5495 - accuracy: 0.7827\n",
      "Epoch 151/200\n",
      "40/40 [==============================] - 0s 6ms/step - loss: 0.5496 - accuracy: 0.7826\n",
      "Epoch 152/200\n",
      "40/40 [==============================] - 0s 7ms/step - loss: 0.5496 - accuracy: 0.7821\n",
      "Epoch 153/200\n",
      "40/40 [==============================] - 0s 6ms/step - loss: 0.5503 - accuracy: 0.7820\n",
      "Epoch 154/200\n",
      "40/40 [==============================] - 0s 6ms/step - loss: 0.5500 - accuracy: 0.7827\n",
      "Epoch 155/200\n",
      "40/40 [==============================] - 0s 6ms/step - loss: 0.5501 - accuracy: 0.7824\n",
      "Epoch 156/200\n",
      "40/40 [==============================] - 0s 6ms/step - loss: 0.5509 - accuracy: 0.7822\n",
      "Epoch 157/200\n",
      "40/40 [==============================] - 0s 6ms/step - loss: 0.5491 - accuracy: 0.7826\n",
      "Epoch 158/200\n",
      "40/40 [==============================] - 0s 6ms/step - loss: 0.5491 - accuracy: 0.7820\n",
      "Epoch 159/200\n",
      "40/40 [==============================] - 0s 6ms/step - loss: 0.5493 - accuracy: 0.7826\n",
      "Epoch 160/200\n",
      "40/40 [==============================] - 0s 6ms/step - loss: 0.5494 - accuracy: 0.7826\n",
      "Epoch 161/200\n",
      "40/40 [==============================] - 0s 6ms/step - loss: 0.5496 - accuracy: 0.7828\n",
      "Epoch 162/200\n",
      "40/40 [==============================] - 0s 6ms/step - loss: 0.5494 - accuracy: 0.7824\n",
      "Epoch 163/200\n"
     ]
    },
    {
     "name": "stdout",
     "output_type": "stream",
     "text": [
      "40/40 [==============================] - 0s 6ms/step - loss: 0.5498 - accuracy: 0.7816\n",
      "Epoch 164/200\n",
      "40/40 [==============================] - 0s 6ms/step - loss: 0.5492 - accuracy: 0.7826\n",
      "Epoch 165/200\n",
      "40/40 [==============================] - 0s 6ms/step - loss: 0.5485 - accuracy: 0.7824\n",
      "Epoch 166/200\n",
      "40/40 [==============================] - 0s 7ms/step - loss: 0.5489 - accuracy: 0.7826\n",
      "Epoch 167/200\n",
      "40/40 [==============================] - 0s 7ms/step - loss: 0.5493 - accuracy: 0.7821\n",
      "Epoch 168/200\n",
      "40/40 [==============================] - 0s 7ms/step - loss: 0.5486 - accuracy: 0.7825\n",
      "Epoch 169/200\n",
      "40/40 [==============================] - 0s 7ms/step - loss: 0.5482 - accuracy: 0.7833\n",
      "Epoch 170/200\n",
      "40/40 [==============================] - 0s 7ms/step - loss: 0.5488 - accuracy: 0.7830\n",
      "Epoch 171/200\n",
      "40/40 [==============================] - 0s 7ms/step - loss: 0.5490 - accuracy: 0.7826\n",
      "Epoch 172/200\n",
      "40/40 [==============================] - 0s 7ms/step - loss: 0.5485 - accuracy: 0.7825\n",
      "Epoch 173/200\n",
      "40/40 [==============================] - 0s 6ms/step - loss: 0.5481 - accuracy: 0.7823\n",
      "Epoch 174/200\n",
      "40/40 [==============================] - 0s 7ms/step - loss: 0.5496 - accuracy: 0.7819\n",
      "Epoch 175/200\n",
      "40/40 [==============================] - 0s 6ms/step - loss: 0.5493 - accuracy: 0.7821\n",
      "Epoch 176/200\n",
      "40/40 [==============================] - 0s 6ms/step - loss: 0.5492 - accuracy: 0.7826\n",
      "Epoch 177/200\n",
      "40/40 [==============================] - 0s 6ms/step - loss: 0.5481 - accuracy: 0.7827\n",
      "Epoch 178/200\n",
      "40/40 [==============================] - 0s 6ms/step - loss: 0.5482 - accuracy: 0.7826\n",
      "Epoch 179/200\n",
      "40/40 [==============================] - 0s 7ms/step - loss: 0.5488 - accuracy: 0.7826\n",
      "Epoch 180/200\n",
      "40/40 [==============================] - 0s 6ms/step - loss: 0.5482 - accuracy: 0.7824\n",
      "Epoch 181/200\n",
      "40/40 [==============================] - 0s 7ms/step - loss: 0.5485 - accuracy: 0.7821\n",
      "Epoch 182/200\n",
      "40/40 [==============================] - 0s 6ms/step - loss: 0.5478 - accuracy: 0.7824\n",
      "Epoch 183/200\n",
      "40/40 [==============================] - 0s 6ms/step - loss: 0.5486 - accuracy: 0.7821\n",
      "Epoch 184/200\n",
      "40/40 [==============================] - 0s 6ms/step - loss: 0.5485 - accuracy: 0.7829\n",
      "Epoch 185/200\n",
      "40/40 [==============================] - 0s 6ms/step - loss: 0.5482 - accuracy: 0.7824\n",
      "Epoch 186/200\n",
      "40/40 [==============================] - 0s 6ms/step - loss: 0.5487 - accuracy: 0.7824\n",
      "Epoch 187/200\n",
      "40/40 [==============================] - 0s 6ms/step - loss: 0.5481 - accuracy: 0.7824\n",
      "Epoch 188/200\n",
      "40/40 [==============================] - 0s 6ms/step - loss: 0.5487 - accuracy: 0.7823\n",
      "Epoch 189/200\n",
      "40/40 [==============================] - 0s 6ms/step - loss: 0.5479 - accuracy: 0.7823\n",
      "Epoch 190/200\n",
      "40/40 [==============================] - 0s 6ms/step - loss: 0.5475 - accuracy: 0.7825\n",
      "Epoch 191/200\n",
      "40/40 [==============================] - 0s 6ms/step - loss: 0.5488 - accuracy: 0.7830\n",
      "Epoch 192/200\n",
      "40/40 [==============================] - 0s 6ms/step - loss: 0.5490 - accuracy: 0.7819\n",
      "Epoch 193/200\n",
      "40/40 [==============================] - 0s 6ms/step - loss: 0.5480 - accuracy: 0.7827\n",
      "Epoch 194/200\n",
      "40/40 [==============================] - 0s 6ms/step - loss: 0.5485 - accuracy: 0.7819\n",
      "Epoch 195/200\n",
      "40/40 [==============================] - 0s 6ms/step - loss: 0.5488 - accuracy: 0.7828\n",
      "Epoch 196/200\n",
      "40/40 [==============================] - 0s 6ms/step - loss: 0.5476 - accuracy: 0.7826\n",
      "Epoch 197/200\n",
      "40/40 [==============================] - 0s 6ms/step - loss: 0.5485 - accuracy: 0.7821\n",
      "Epoch 198/200\n",
      "40/40 [==============================] - 0s 6ms/step - loss: 0.5481 - accuracy: 0.7821\n",
      "Epoch 199/200\n",
      "40/40 [==============================] - 0s 6ms/step - loss: 0.5481 - accuracy: 0.7824\n",
      "Epoch 200/200\n",
      "40/40 [==============================] - 0s 6ms/step - loss: 0.5477 - accuracy: 0.7827\n"
     ]
    }
   ],
   "source": [
    "history = tf.model.fit(x_data, y_one_hot, batch_size=batch_size, epochs=training_epochs)"
   ]
  },
  {
   "cell_type": "code",
   "execution_count": 8,
   "id": "0f3f6697",
   "metadata": {},
   "outputs": [
    {
     "data": {
      "image/png": "[encoded data removed]",
      "text/plain": [
       "<Figure size 460.8x403.2 with 1 Axes>"
      ]
     },
     "metadata": {},
     "output_type": "display_data"
    }
   ],
   "source": [
    "# 모델 손실 함수 시각화\n",
    "from jupyterthemes import jtplot\n",
    "jtplot.style(theme='monokai')\n",
    "\n",
    "plt.plot(history.history['loss'], 'b-', label='loss')\n",
    "#plt.plot(history.history['val_loss'], 'r-', label='val_loss')\n",
    "plt.title('Model loss')\n",
    "plt.xlabel('Epoch')\n",
    "plt.ylabel('Loss')\n",
    "plt.legend()\n",
    "plt.show()"
   ]
  },
  {
   "cell_type": "code",
   "execution_count": 9,
   "id": "83e399f2",
   "metadata": {},
   "outputs": [
    {
     "data": {
      "image/png": "[encoded data removed]",
      "text/plain": [
       "<Figure size 460.8x403.2 with 1 Axes>"
      ]
     },
     "metadata": {},
     "output_type": "display_data"
    }
   ],
   "source": [
    "# 모델 정확도 시각화\n",
    "plt.plot(history.history['accuracy'], 'g-', label='accuracy')\n",
    "#plt.plot(history.history['val_accuracy'], 'r-', label='val_accuracy')\n",
    "plt.title('Model Accuracy')\n",
    "plt.xlabel('Epoch')\n",
    "plt.ylabel('Accuracy')\n",
    "plt.legend()\n",
    "plt.show()"
   ]
  },
  {
   "cell_type": "code",
   "execution_count": 10,
   "id": "f860be4f",
   "metadata": {},
   "outputs": [
    {
     "name": "stdout",
     "output_type": "stream",
     "text": [
      "(80000, 20) (80000, 4)\n"
     ]
    }
   ],
   "source": [
    "# Full x_data test\n",
    "test_data = np.loadtxt('MIMO_2_0dB_NoC_4_test.csv', delimiter=',', dtype=np.float32)\n",
    "x_test_data = test_data[:, 1:21]\n",
    "y_test_data = test_data[:, -4:]\n",
    "print(x_test_data.shape, y_test_data.shape)"
   ]
  },
  {
   "cell_type": "code",
   "execution_count": 11,
   "id": "1b49e243",
   "metadata": {},
   "outputs": [
    {
     "name": "stdout",
     "output_type": "stream",
     "text": [
      "[[1]\n",
      " [1]\n",
      " [1]\n",
      " ...\n",
      " [2]\n",
      " [2]\n",
      " [2]]\n"
     ]
    }
   ],
   "source": [
    "# Convert y_test_data to y_test_bit\n",
    "i=1\n",
    "y_test_merge = []\n",
    "while i <= y_test_data.shape[0]:\n",
    "    temp2 = \"\".join(str(_) for _ in y_test_data[i-1,:])\n",
    "    y_test_merge.append(temp2)\n",
    "    i = i + 1\n",
    "\n",
    "encoder = LabelEncoder()\n",
    "encoder.fit(y_test_merge)\n",
    "y_test_bit = encoder.transform(y_test_merge)\n",
    "y_test_bit = y_test_bit.reshape(-1, 1)\n",
    "print(y_test_bit)"
   ]
  },
  {
   "cell_type": "code",
   "execution_count": 12,
   "id": "02ceb9be",
   "metadata": {},
   "outputs": [
    {
     "name": "stdout",
     "output_type": "stream",
     "text": [
      "one_hot: [[0. 1. 0. 0.]\n",
      " [0. 1. 0. 0.]\n",
      " [0. 1. 0. 0.]\n",
      " ...\n",
      " [0. 0. 1. 0.]\n",
      " [0. 0. 1. 0.]\n",
      " [0. 0. 1. 0.]]\n"
     ]
    }
   ],
   "source": [
    "# Convert y_data to one_hot\n",
    "y_test_one_hot = tf.keras.utils.to_categorical(y_test_bit, nb_classes)\n",
    "print(\"one_hot:\", y_test_one_hot)"
   ]
  },
  {
   "cell_type": "code",
   "execution_count": 13,
   "id": "26d7e049",
   "metadata": {},
   "outputs": [
    {
     "name": "stdout",
     "output_type": "stream",
     "text": [
      "2500/2500 [==============================] - 4s 1ms/step - loss: 0.5368 - accuracy: 0.7864\n",
      "loss:  0.5367928743362427\n",
      "accuracy 0.7863500118255615\n"
     ]
    }
   ],
   "source": [
    "evaluation = tf.model.evaluate(x_test_data, y_test_one_hot)\n",
    "print('loss: ', evaluation[0])\n",
    "print('accuracy', evaluation[1])"
   ]
  },
  {
   "cell_type": "code",
   "execution_count": 14,
   "id": "d62b59fa",
   "metadata": {},
   "outputs": [],
   "source": [
    "predict_x = tf.model.predict(x_test_data) \n",
    "pred = np.argmax(predict_x,axis=1)\n",
    "# for p, y in zip(pred, y_test_bit.flatten()):\n",
    " #   print(\"[{}] Prediction: {} True Y: {}\".format(p == int(y), p, int(y)))"
   ]
  },
  {
   "cell_type": "code",
   "execution_count": 15,
   "id": "e5514203",
   "metadata": {},
   "outputs": [
    {
     "name": "stdout",
     "output_type": "stream",
     "text": [
      "Error : 17092\n",
      "Error Count: 18718\n"
     ]
    }
   ],
   "source": [
    "res_pred = pred.reshape(y_test_data.shape[0], 1)\n",
    "error_cnt = 0\n",
    "error = 0\n",
    "for i in range(0, y_test_data.shape[0]):\n",
    "    if res_pred[i] != y_test_bit[i]:\n",
    "        #print(\"False : {}\".format(i))\n",
    "        #print(\"[{}] data : {}\".format(i, y_test_data[i]))\n",
    "        error += 1\n",
    "        for n in range(0, y_test_data.shape[0], int(y_test_data.shape[0]/nb_classes)):\n",
    "            if y_test_bit[n] == res_pred[i]:\n",
    "                #print(\"[{}] pred data: {}\".format(n, y_test_data[n]))\n",
    "                bit_error = 0\n",
    "                for m in range(0, y_test_data.shape[1]): \n",
    "                    if y_test_data[i, m] != y_test_data[n, m]:\n",
    "                        bit_error += 1\n",
    "                        error_cnt += 1\n",
    "                #print(\"bit error count : \", bit_error)\n",
    "                break\n",
    "print(\"Error : {}\".format(error))\n",
    "print(\"Error Count: {}\".format(error_cnt))"
   ]
  },
  {
   "cell_type": "code",
   "execution_count": 16,
   "id": "979f11c4",
   "metadata": {},
   "outputs": [
    {
     "name": "stdout",
     "output_type": "stream",
     "text": [
      "BER: 0.05849375\n"
     ]
    }
   ],
   "source": [
    "BER = (error_cnt)/(y_test_data.shape[0]*2*2)\n",
    "print(\"BER: {}\".format(BER))"
   ]
  },
  {
   "cell_type": "code",
   "execution_count": null,
   "id": "5a5b98a7",
   "metadata": {},
   "outputs": [],
   "source": []
  }
 ],
 "metadata": {
  "kernelspec": {
   "display_name": "Python 3 (ipykernel)",
   "language": "python",
   "name": "python3"
  },
  "language_info": {
   "codemirror_mode": {
    "name": "ipython",
    "version": 3
   },
   "file_extension": ".py",
   "mimetype": "text/x-python",
   "name": "python",
   "nbconvert_exporter": "python",
   "pygments_lexer": "ipython3",
   "version": "3.8.12"
  }
 },
 "nbformat": 4,
 "nbformat_minor": 5
}
